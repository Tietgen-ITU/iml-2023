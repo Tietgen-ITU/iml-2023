{
  "metadata": {
    "kernelspec": {
      "display_name": "Python",
      "language": "python3",
      "name": "python3"
    },
    "language_info": {
      "codemirror_mode": {
        "name": "ipython",
        "version": 3
      },
      "file_extension": "py",
      "mimetype": "text/x-python",
      "name": "python"
    }
  },
  "nbformat": 4,
  "nbformat_minor": 5,
  "cells": [
    {
      "cell_type": "code",
      "metadata": {
        "collapsed": null,
        "autoscroll": null,
        "deletable": null,
        "jupyter": {
          "outputs_hidden": null,
          "source_hidden": true
        },
        "format": null,
        "name": null,
        "tags": null
      },
      "source": [
        "import requests\n",
        "from IPython.core.display import HTML\n",
        "HTML(f\"\"\"\n",
        "<style>\n",
        "@import \"https://cdn.jsdelivr.net/npm/bulma@0.9.4/css/bulma.min.css\";\n",
        "</style>\n",
        "\"\"\")"
      ],
      "execution_count": null,
      "outputs": []
    },
    {
      "cell_type": "markdown",
      "metadata": {
        "collapsed": null,
        "autoscroll": null,
        "deletable": null,
        "jupyter": null,
        "format": null,
        "name": null,
        "tags": null
      },
      "source": [
        "# Linear Algebra\n",
        "This tutorial will cover basic terms in linear algebra and their implementation in NumPy. \n",
        "The tutorial includes:\n",
        "1. Data structures in linear algebra \n",
        "2. Vectors operations (addition , inner product, length vs number of elements …)\n",
        "3. Matrix operations \n",
        "4. Special matrices\n",
        "5. Determinant and inverse of a matrix\n",
        "\n",
        "## Data structures in linear algebra\n",
        "Define:\n",
        "- Scalar: Single number\n",
        "- Vector: Array of numbers\n",
        "- Matrix: 2-dimensional array of numbers\n",
        "- Tensor: $n$-dimensional array of numbers where $n > 2$\n",
        "\n",
        "NumPy represents a vector as a 1-D array, a matrix as a 2-D array (array of arrays), and an $n$-tensor as a $n$-dimensional array (e.g. A 3D-tensor is an array of 2D arrays etc.):\n",
        "<figure class=\"figure\" >\n",
        "\n",
        "<img src=\"/resources/material/arrays.png\" class=\"figure-img img-fluid rounded\" style=\"width:50%\" />\n",
        "\n",
        "\n",
        "</figure>\n",
        "\n",
        "The following cells demonstrates how to create Numpy arrays:\n",
        ""
      ]
    },
    {
      "cell_type": "code",
      "metadata": {
        "collapsed": null,
        "autoscroll": null,
        "deletable": null,
        "jupyter": null,
        "format": null,
        "name": null,
        "tags": null
      },
      "source": [
        "#import the numpy lib\n",
        "import numpy as np"
      ],
      "execution_count": null,
      "outputs": []
    },
    {
      "cell_type": "code",
      "metadata": {
        "collapsed": null,
        "autoscroll": null,
        "deletable": null,
        "jupyter": null,
        "format": null,
        "name": null,
        "tags": null
      },
      "source": [
        "#Vector with 4 elements:\n",
        "a = np.array([1, 6, 3, 1])\n",
        "print(a)"
      ],
      "execution_count": null,
      "outputs": []
    },
    {
      "cell_type": "code",
      "metadata": {
        "collapsed": null,
        "autoscroll": null,
        "deletable": null,
        "jupyter": null,
        "format": null,
        "name": null,
        "tags": null
      },
      "source": [
        "# A 2x4 matrix:\n",
        "A = np.array([[1, 42, 6, 4], [2, 6, 87, 2]])\n",
        "print(A)\n",
        "\n",
        ""
      ],
      "execution_count": null,
      "outputs": []
    },
    {
      "cell_type": "code",
      "metadata": {
        "collapsed": null,
        "autoscroll": null,
        "deletable": null,
        "jupyter": null,
        "format": null,
        "name": null,
        "tags": null
      },
      "source": [
        "#print the size of the matrix\n",
        "print(A.shape)"
      ],
      "execution_count": null,
      "outputs": []
    },
    {
      "cell_type": "code",
      "metadata": {
        "collapsed": null,
        "autoscroll": null,
        "deletable": null,
        "jupyter": null,
        "format": null,
        "name": null,
        "tags": null
      },
      "source": [
        "# A 2x2x4 tensor:\n",
        "T = np.array([[[1, 23, 3, 4], [42, 6, 7, 87]], [[9, 3, 11, 2], [2, 22, 15, 101]]])\n",
        "print(T)\n",
        ""
      ],
      "execution_count": null,
      "outputs": []
    },
    {
      "cell_type": "code",
      "metadata": {
        "collapsed": null,
        "autoscroll": null,
        "deletable": null,
        "jupyter": null,
        "format": null,
        "name": null,
        "tags": null
      },
      "source": [
        "#print the size of the tensor\n",
        "print(T.shape)"
      ],
      "execution_count": null,
      "outputs": []
    },
    {
      "cell_type": "markdown",
      "metadata": {
        "collapsed": null,
        "autoscroll": null,
        "deletable": null,
        "jupyter": null,
        "format": null,
        "name": null,
        "tags": null
      },
      "source": [
        "## Vector Operations\n",
        "**A vector multiplied by a scalar:** \n",
        ""
      ]
    },
    {
      "cell_type": "code",
      "metadata": {
        "collapsed": null,
        "autoscroll": null,
        "deletable": null,
        "jupyter": null,
        "format": null,
        "name": null,
        "tags": null
      },
      "source": [
        "a = np.array([3, 22, 3, 21])\n",
        "a * 2"
      ],
      "execution_count": null,
      "outputs": []
    },
    {
      "cell_type": "markdown",
      "metadata": {
        "collapsed": null,
        "autoscroll": null,
        "deletable": null,
        "jupyter": null,
        "format": null,
        "name": null,
        "tags": null
      },
      "source": [
        "**dot product/ inner product:** The dot product (see lecture slides for details) of vectors $a$ and $b$ with $n$ elements each: \n",
        "\n",
        "$$\n",
        "a\\cdot b =\\sum_i^N a_ib_i = a^\\top b\n",
        "$$\n",
        "\n",
        "The **dot product** can be calculated using the Numpy function [`np.dot(a,b)`\n",
        "](https://numpy.org/devdocs/reference/generated/numpy.dot.html#numpy.dot)\n",
        ": \n",
        ""
      ]
    },
    {
      "cell_type": "code",
      "metadata": {
        "collapsed": null,
        "autoscroll": null,
        "deletable": null,
        "jupyter": null,
        "format": null,
        "name": null,
        "tags": null
      },
      "source": [
        "#Create 2 vectors v1 and b\n",
        "a = np.array([1, 2, 3, 42])\n",
        "b = np.array([2, 3, 4, 5])\n",
        "# calculate the dot product\n",
        "np.dot(a, b)"
      ],
      "execution_count": null,
      "outputs": []
    },
    {
      "cell_type": "markdown",
      "metadata": {
        "collapsed": null,
        "autoscroll": null,
        "deletable": null,
        "jupyter": null,
        "format": null,
        "name": null,
        "tags": null
      },
      "source": [
        "**Summation and Subtraction of 2 vectors:**  Elementwise summation/subtraction/multiplication \n",
        "<article class=\"message is-info\">\n",
        "  <div class=\"message-header\">Note</div>\n",
        "  <div class=\"message-body\">The elementwise operations also exist for matrices and tensors. \n",
        "</div>\n",
        "</article>\n",
        "\n",
        ""
      ]
    },
    {
      "cell_type": "code",
      "metadata": {
        "collapsed": null,
        "autoscroll": null,
        "deletable": null,
        "jupyter": null,
        "format": null,
        "name": null,
        "tags": null
      },
      "source": [
        "#create 2 vectors\n",
        "a = np.array([1, 2, 3, 42])\n",
        "b = np.array([2, 3, 4, 5])\n",
        "\n",
        "print(\"a + b is : \\n\", a + b)\n",
        "print(\"a - b is :  \\n\", a - b)\n",
        "print(\"a * b is :  \\n\", a * b)"
      ],
      "execution_count": null,
      "outputs": []
    },
    {
      "cell_type": "markdown",
      "metadata": {
        "collapsed": null,
        "autoscroll": null,
        "deletable": null,
        "jupyter": null,
        "format": null,
        "name": null,
        "tags": null
      },
      "source": [
        "## Length and dimensionality of vectors\n",
        "The Euclidean distance ($L2$-norm) of a vector $a$ is the square root of the inner product \n",
        "$$ |a| =\\sqrt{\\sum_i^N a_i^2 }= \\sqrt{a^\\top a}$$\n",
        ".\n",
        ""
      ]
    },
    {
      "cell_type": "code",
      "metadata": {
        "collapsed": null,
        "autoscroll": null,
        "deletable": null,
        "jupyter": null,
        "format": null,
        "name": null,
        "tags": null
      },
      "source": [
        "# inner product of v1 with itself\n",
        "a_a_inner_product = np.dot(a, a)\n",
        "Euc_len_a = np.sqrt(a_a_inner_product)\n",
        "print('Euclidean distance of v1:', Euc_len_a)"
      ],
      "execution_count": null,
      "outputs": []
    },
    {
      "cell_type": "markdown",
      "metadata": {
        "collapsed": null,
        "autoscroll": null,
        "deletable": null,
        "jupyter": null,
        "format": null,
        "name": null,
        "tags": null
      },
      "source": [
        "The Euclidean length can also be determined by a single built-in numpy function [`np.linalg.norm()`\n",
        "](https://numpy.org/doc/stable/reference/generated/numpy.linalg.norm.html#numpy.linalg.norm)\n",
        "\n",
        ""
      ]
    },
    {
      "cell_type": "code",
      "metadata": {
        "collapsed": null,
        "autoscroll": null,
        "deletable": null,
        "jupyter": null,
        "format": null,
        "name": null,
        "tags": null
      },
      "source": [
        "print('Euclidean distance of v1:', np.linalg.norm(a))"
      ],
      "execution_count": null,
      "outputs": []
    },
    {
      "cell_type": "markdown",
      "metadata": {
        "collapsed": null,
        "autoscroll": null,
        "deletable": null,
        "jupyter": null,
        "format": null,
        "name": null,
        "tags": null
      },
      "source": [
        "### Orthogonal and normal vectors\n",
        "Vectors $a$ and $b$ are considered orthogonal/perpendicular if $ a^\\top b=0$.\n",
        "<article class=\"message is-info\">\n",
        "  <div class=\"message-header\">Recall</div>\n",
        "  <div class=\"message-body\">Recall that the dot product is related to the angle between vectors $a$ and $b$:\n",
        "\n",
        "$$\n",
        "\\cos(\\theta)  = \\frac{a \\cdot b}{\\|a\\| \\|b\\|}\n",
        "$$\n",
        "\n",
        "</div>\n",
        "</article>\n",
        "\n",
        ""
      ]
    },
    {
      "cell_type": "code",
      "metadata": {
        "collapsed": null,
        "autoscroll": null,
        "deletable": null,
        "jupyter": null,
        "format": null,
        "name": null,
        "tags": null
      },
      "source": [
        "# Orthognonal vectors\n",
        "a = np.array([1, -2, 4])\n",
        "b = np.array([2, 5, 2])\n",
        "\n",
        "print(a.dot(b))  ## Alternative way to do dot product. Equivalent to (np.dot(a,b))"
      ],
      "execution_count": null,
      "outputs": []
    },
    {
      "cell_type": "markdown",
      "metadata": {
        "collapsed": null,
        "autoscroll": null,
        "deletable": null,
        "jupyter": null,
        "format": null,
        "name": null,
        "tags": null
      },
      "source": [
        "**Orthonormal vectors:** Defined as two orthogonal vectors both with unit length.\n",
        "In the cell below, orthogonal vectors `a`\n",
        " and `b`\n",
        " are normalized by division with their length. \n",
        ""
      ]
    },
    {
      "cell_type": "code",
      "metadata": {
        "collapsed": null,
        "autoscroll": null,
        "deletable": null,
        "jupyter": null,
        "format": null,
        "name": null,
        "tags": null
      },
      "source": [
        "a_normalized = a / np.linalg.norm(a)\n",
        "print('a_normalized:', a_normalized)\n",
        "b_normalized = b / np.linalg.norm(b)\n",
        "print('b_normalized:', b_normalized)\n",
        "\n",
        "#inner product of orthonormal vectors\n",
        "print('inner product of a_normalized and b_normalized: \\n', a_normalized.dot(b_normalized))"
      ],
      "execution_count": null,
      "outputs": []
    },
    {
      "cell_type": "markdown",
      "metadata": {
        "collapsed": null,
        "autoscroll": null,
        "deletable": null,
        "jupyter": null,
        "format": null,
        "name": null,
        "tags": null
      },
      "source": [
        "## Matrix Operations\n",
        "The following section provides an overview of important matrix properties and well-known matrix compositions. \n",
        "**Square matrix:** A two-dimensional array with the same number of rows and columns.\n",
        ""
      ]
    },
    {
      "cell_type": "code",
      "metadata": {
        "collapsed": null,
        "autoscroll": null,
        "deletable": null,
        "jupyter": null,
        "format": null,
        "name": null,
        "tags": null
      },
      "source": [
        "A = np.random.randint(5, size=(3, 3))\n",
        "A"
      ],
      "execution_count": null,
      "outputs": []
    },
    {
      "cell_type": "markdown",
      "metadata": {
        "collapsed": null,
        "autoscroll": null,
        "deletable": null,
        "jupyter": null,
        "format": null,
        "name": null,
        "tags": null
      },
      "source": [
        "**Identity matrix** is a square matrix that contains ones on the diagonal and zeros elsewhere.\n",
        "The NumPy function [`np.identity(N)`\n",
        "](https://numpy.org/doc/stable/reference/generated/numpy.identity.html#numpy-identity)\n",
        " creates an identity matrix with N elements on the diagonal. \n",
        ""
      ]
    },
    {
      "cell_type": "code",
      "metadata": {
        "collapsed": null,
        "autoscroll": null,
        "deletable": null,
        "jupyter": null,
        "format": null,
        "name": null,
        "tags": null
      },
      "source": [
        "I3 = np.identity(3)\n",
        "I3"
      ],
      "execution_count": null,
      "outputs": []
    },
    {
      "cell_type": "code",
      "metadata": {
        "collapsed": null,
        "autoscroll": null,
        "deletable": null,
        "jupyter": null,
        "format": null,
        "name": null,
        "tags": null
      },
      "source": [
        "I4 = np.identity(4)\n",
        "I4"
      ],
      "execution_count": null,
      "outputs": []
    },
    {
      "cell_type": "markdown",
      "metadata": {
        "collapsed": null,
        "autoscroll": null,
        "deletable": null,
        "jupyter": null,
        "format": null,
        "name": null,
        "tags": null
      },
      "source": [
        "**Diagonal matrix:** A diagonal matrix is a matrix with non-zero elements in the diagonal and zeroes elsewhere.\n",
        "The NumPy function `np.diag(a)`\n",
        " creates a 2D array (diagonal matrix)\n",
        "given a 1D array (list/vector containing diagonal elements) as input. \n",
        ""
      ]
    },
    {
      "cell_type": "code",
      "metadata": {
        "collapsed": null,
        "autoscroll": null,
        "deletable": null,
        "jupyter": null,
        "format": null,
        "name": null,
        "tags": null
      },
      "source": [
        "# Create an array:\n",
        "v = np.array([3., 2., 5.])"
      ],
      "execution_count": null,
      "outputs": []
    },
    {
      "cell_type": "code",
      "metadata": {
        "collapsed": null,
        "autoscroll": null,
        "deletable": null,
        "jupyter": null,
        "format": null,
        "name": null,
        "tags": null
      },
      "source": [
        "# Create a matrix with elements of v on the diagonal:\n",
        "D = np.diag(v)\n",
        "print(D)"
      ],
      "execution_count": null,
      "outputs": []
    },
    {
      "cell_type": "markdown",
      "metadata": {
        "collapsed": null,
        "autoscroll": null,
        "deletable": null,
        "jupyter": null,
        "format": null,
        "name": null,
        "tags": null
      },
      "source": [
        "## Matrix multiplication\n",
        "**Matrix multiplication of two matrices consist of inner products of row-column pairs:**\n",
        "Consider the matrices A1 and A2:\n",
        ""
      ]
    },
    {
      "cell_type": "code",
      "metadata": {
        "collapsed": null,
        "autoscroll": null,
        "deletable": null,
        "jupyter": null,
        "format": null,
        "name": null,
        "tags": null
      },
      "source": [
        "A1 = np.array([[1, 3, 0], [4, 4, 4]])\n",
        "A2 = np.array([[2, 2], [0, 4], [2, 3]])"
      ],
      "execution_count": null,
      "outputs": []
    },
    {
      "cell_type": "markdown",
      "metadata": {
        "collapsed": null,
        "autoscroll": null,
        "deletable": null,
        "jupyter": null,
        "format": null,
        "name": null,
        "tags": null
      },
      "source": [
        "<article class=\"message is-warning\">\n",
        "  <div class=\"message-header\">Tip</div>\n",
        "  <div class=\"message-body\">In Numpy, matrices (and other arrays) are zero-indexed like regular Python lists. This is in contrast to mathematical notation, which is one-indexed.\n",
        "</div>\n",
        "</article>\n",
        "\n",
        "In the following, we demonstrate matrix multiplication as a series of inner products. The cell below shows matrix multiplication of `A1`\n",
        " and `A2`\n",
        " using the `dot`\n",
        " function in Numpy: \n",
        ""
      ]
    },
    {
      "cell_type": "code",
      "metadata": {
        "collapsed": null,
        "autoscroll": null,
        "deletable": null,
        "jupyter": null,
        "format": null,
        "name": null,
        "tags": null
      },
      "source": [
        "np.dot(A1, A2)"
      ],
      "execution_count": null,
      "outputs": []
    },
    {
      "cell_type": "markdown",
      "metadata": {
        "collapsed": null,
        "autoscroll": null,
        "deletable": null,
        "jupyter": null,
        "format": null,
        "name": null,
        "tags": null
      },
      "source": [
        "The first element ($2$) of the result is calculated as the inner product of the first row of `A1`\n",
        " and the first column of `A2`\n",
        ":\n",
        ""
      ]
    },
    {
      "cell_type": "code",
      "metadata": {
        "collapsed": null,
        "autoscroll": null,
        "deletable": null,
        "jupyter": null,
        "format": null,
        "name": null,
        "tags": null
      },
      "source": [
        "#A1 first row, A2 first column : position [1,1]\n",
        "np.dot(A1[0, :], A2[:, 0])"
      ],
      "execution_count": null,
      "outputs": []
    },
    {
      "cell_type": "markdown",
      "metadata": {
        "collapsed": null,
        "autoscroll": null,
        "deletable": null,
        "jupyter": null,
        "format": null,
        "name": null,
        "tags": null
      },
      "source": [
        "Similarly, the other elements can be calculated using the appropriate combinations of rows `A1`\n",
        " and columns in `A2`\n",
        ": \n",
        ""
      ]
    },
    {
      "cell_type": "code",
      "metadata": {
        "collapsed": null,
        "autoscroll": null,
        "deletable": null,
        "jupyter": null,
        "format": null,
        "name": null,
        "tags": null
      },
      "source": [
        "#A1 second row, A2 first column : position [2,1]\n",
        "print(\"A1 second row, A2 first column:\", np.dot(A1[1, :], A2[:, 0]))\n",
        "\n",
        "#A1 first row, A2 second column : position [1,2]\n",
        "print(\"A1 first row, A2 second column:\", np.dot(A1[0, :], A2[:, 1]))\n",
        "\n",
        "#A1 second row, A2 second column : position [2,2]\n",
        "print(\"A1 second row, A2 second column:\", np.dot(A1[1, :], A2[:, 1]))"
      ],
      "execution_count": null,
      "outputs": []
    },
    {
      "cell_type": "markdown",
      "metadata": {
        "collapsed": null,
        "autoscroll": null,
        "deletable": null,
        "jupyter": null,
        "format": null,
        "name": null,
        "tags": null
      },
      "source": [
        "### Identity matrix\n",
        "Multiplying a matrix A (from either left or right) with the identity matrix yields the matrix A. Thus, \n",
        "\n",
        "$$AI = A = IA.$$\n",
        "\n",
        "An example is provided below:\n",
        ""
      ]
    },
    {
      "cell_type": "code",
      "metadata": {
        "collapsed": null,
        "autoscroll": null,
        "deletable": null,
        "jupyter": null,
        "format": null,
        "name": null,
        "tags": null
      },
      "source": [
        "# create 3x3 matrix A with random values between 0 and 4.\n",
        "A = np.random.randint(5, size=(3, 3))\n",
        "\n",
        "# create 3x3 identity matrix.\n",
        "I = np.identity(3)\n",
        "\n",
        "# multiply the matrices\n",
        "R = np.dot(A, I)\n",
        "\n",
        "print(\"A:\\n\", A, \"\\nI:\\n\", I, \"\\nmultiplication result:\\n\", R)"
      ],
      "execution_count": null,
      "outputs": []
    },
    {
      "cell_type": "markdown",
      "metadata": {
        "collapsed": null,
        "autoscroll": null,
        "deletable": null,
        "jupyter": null,
        "format": null,
        "name": null,
        "tags": null
      },
      "source": [
        "## Determinant and inverse of a matrix\n",
        "We use [`np.linalg.det()`\n",
        "](https://numpy.org/doc/stable/reference/generated/numpy.linalg.det.html#numpy.linalg.det)\n",
        " to get determinant of a matrix. \n",
        ""
      ]
    },
    {
      "cell_type": "code",
      "metadata": {
        "collapsed": null,
        "autoscroll": null,
        "deletable": null,
        "jupyter": null,
        "format": null,
        "name": null,
        "tags": null
      },
      "source": [
        "# example matrices\n",
        "A = np.array([[1, 1, 1], [0, 2, 5], [2, 5, -1]])\n",
        "B = np.array([[0, 0, 0], [0, 2, 5], [2, 5, -1]])\n",
        "\n",
        "# calculate the determinant \n",
        "print(\"det(A):\", np.linalg.det(A))\n",
        "print(\"det(B):\", np.linalg.det(B))"
      ],
      "execution_count": null,
      "outputs": []
    },
    {
      "cell_type": "markdown",
      "metadata": {
        "collapsed": null,
        "autoscroll": null,
        "deletable": null,
        "jupyter": null,
        "format": null,
        "name": null,
        "tags": null
      },
      "source": [
        "The function [`np.linalg.inv(A)`\n",
        "](https://numpy.org/doc/stable/reference/generated/numpy.linalg.inv.html#numpy.linalg.inv)\n",
        " can be used to calculate the inverse of a matrix. \n",
        "<article class=\"message is-info\">\n",
        "  <div class=\"message-header\">Note</div>\n",
        "  <div class=\"message-body\">The function returns an error when the matrix is singular (i.e. the determinant is zero).\n",
        "</div>\n",
        "</article>\n",
        "\n",
        ""
      ]
    },
    {
      "cell_type": "code",
      "metadata": {
        "collapsed": null,
        "autoscroll": null,
        "deletable": null,
        "jupyter": null,
        "format": null,
        "name": null,
        "tags": null
      },
      "source": [
        "print(\"A^-1:\", np.linalg.inv(A))\n",
        "print(\"B^-1:\", np.linalg.inv(B))  # This yields an error because B is singular"
      ],
      "execution_count": null,
      "outputs": []
    },
    {
      "cell_type": "markdown",
      "metadata": {
        "collapsed": null,
        "autoscroll": null,
        "deletable": null,
        "jupyter": null,
        "format": null,
        "name": null,
        "tags": null
      },
      "source": [
        "The matrix A multiplied by its inverse yields the identity matrix:\n",
        ""
      ]
    },
    {
      "cell_type": "code",
      "metadata": {
        "collapsed": null,
        "autoscroll": null,
        "deletable": null,
        "jupyter": null,
        "format": null,
        "name": null,
        "tags": null
      },
      "source": [
        "np.dot(A, np.linalg.inv(A))"
      ],
      "execution_count": null,
      "outputs": []
    },
    {
      "cell_type": "markdown",
      "metadata": {
        "collapsed": null,
        "autoscroll": null,
        "deletable": null,
        "jupyter": null,
        "format": null,
        "name": null,
        "tags": null
      },
      "source": [
        "<article class=\"message is-info\">\n",
        "  <div class=\"message-header\">Note</div>\n",
        "  <div class=\"message-body\">The result of the calculation above may be slightly off. This is due to the limitations of floating point numbers.\n",
        "</div>\n",
        "</article>\n",
        "\n",
        "### Diagonal matrices (determinant and inversion)\n",
        ""
      ]
    },
    {
      "cell_type": "code",
      "metadata": {
        "collapsed": null,
        "autoscroll": null,
        "deletable": null,
        "jupyter": null,
        "format": null,
        "name": null,
        "tags": null
      },
      "source": [
        "# Create a diagonal matrix \n",
        "A = np.diag([5, 2, 3])\n",
        "A"
      ],
      "execution_count": null,
      "outputs": []
    },
    {
      "cell_type": "markdown",
      "metadata": {
        "collapsed": null,
        "autoscroll": null,
        "deletable": null,
        "jupyter": null,
        "format": null,
        "name": null,
        "tags": null
      },
      "source": [
        "The determinant of a diagonal matrix is the product of the elements on the diagonal. \n",
        ""
      ]
    },
    {
      "cell_type": "code",
      "metadata": {
        "collapsed": null,
        "autoscroll": null,
        "deletable": null,
        "jupyter": null,
        "format": null,
        "name": null,
        "tags": null
      },
      "source": [
        "np.linalg.det(A)"
      ],
      "execution_count": null,
      "outputs": []
    },
    {
      "cell_type": "markdown",
      "metadata": {
        "collapsed": null,
        "autoscroll": null,
        "deletable": null,
        "jupyter": null,
        "format": null,
        "name": null,
        "tags": null
      },
      "source": [
        "The inverse of a diagonal matrix is the reciprocal of each element on the diagonal.\n",
        ""
      ]
    },
    {
      "cell_type": "code",
      "metadata": {
        "collapsed": null,
        "autoscroll": null,
        "deletable": null,
        "jupyter": null,
        "format": null,
        "name": null,
        "tags": null
      },
      "source": [
        "np.linalg.inv(A)"
      ],
      "execution_count": null,
      "outputs": []
    },
    {
      "cell_type": "markdown",
      "metadata": {
        "collapsed": null,
        "autoscroll": null,
        "deletable": null,
        "jupyter": null,
        "format": null,
        "name": null,
        "tags": null
      },
      "source": [
        "This concludes the tutorial.\n",
        ""
      ]
    }
  ]
}