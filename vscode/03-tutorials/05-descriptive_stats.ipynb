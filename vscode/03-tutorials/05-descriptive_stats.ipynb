{
  "cells": [
    {
      "cell_type": "code",
      "execution_count": 1,
      "metadata": {
        "autoscroll": null,
        "collapsed": null,
        "deletable": null,
        "format": null,
        "jupyter": {
          "source_hidden": true
        },
        "name": null,
        "tags": null
      },
      "outputs": [
        {
          "data": {
            "text/html": [
              "\n",
              "<style>\n",
              "@import \"https://cdn.jsdelivr.net/npm/bulma@0.9.4/css/bulma.min.css\";\n",
              "</style>\n"
            ],
            "text/plain": [
              "<IPython.core.display.HTML object>"
            ]
          },
          "execution_count": 1,
          "metadata": {},
          "output_type": "execute_result"
        }
      ],
      "source": [
        "import requests\n",
        "from IPython.core.display import HTML\n",
        "HTML(f\"\"\"\n",
        "<style>\n",
        "@import \"https://cdn.jsdelivr.net/npm/bulma@0.9.4/css/bulma.min.css\";\n",
        "</style>\n",
        "\"\"\")"
      ]
    },
    {
      "cell_type": "markdown",
<<<<<<< HEAD
      "metadata": {
        "autoscroll": null,
        "collapsed": null,
        "deletable": null,
        "format": null,
        "jupyter": null,
        "name": null,
        "tags": null
      },
=======
      "id": "DoxxH_Yyq86MJ7XjO1oKp",
      "metadata": {},
>>>>>>> 6598f3655589f687053a5be906c18b71327ad5ab
      "source": [
        "# Data wrangling and statistics\n",
        "This tutorial covers essential concepts in descriptive statistics and their implementation in python. \n",
        "The tutorial includes:\n",
        "1. Initial Data Examination\n",
        "2. Descriptive Statistics\n",
        "3. Visualizations\n",
        "\n",
        "To fulfill the goals of this tutorial, we will make use of the Titanic dataset, which provides information about passengers on board the RMS Titanic. Run the code cells below to load the dataset, and the necessary libraries for obtaining descriptive statistics.\n"
      ]
    },
    {
      "cell_type": "code",
<<<<<<< HEAD
      "execution_count": 2,
      "metadata": {
        "autoscroll": null,
        "collapsed": null,
        "deletable": null,
        "format": null,
        "jupyter": null,
        "name": null,
        "tags": null
      },
      "outputs": [],
=======
      "id": "yqtpSqP7hvWLsoUBqgqAm",
      "metadata": {},
>>>>>>> 6598f3655589f687053a5be906c18b71327ad5ab
      "source": [
        "# import numpy\n",
        "import numpy as np\n",
        "# library for plotting and importing the data\n",
        "import seaborn as sns\n",
        "# library for specific stiatistics\n",
        "from scipy.stats import skew, kurtosis\n",
        "# library for manipulating and analysing data \n",
        "import pandas as pd\n",
        "# Load and filter the titanic dataset\n",
        "titanic = sns.load_dataset('titanic')\n",
        "titanic = titanic[['survived','age', 'sex', 'fare', 'deck', 'class', 'embark_town','alone']]"
<<<<<<< HEAD
=======
      ],
      "execution_count": 0,
      "outputs": []
    },
    {
      "cell_type": "markdown",
      "id": "myzBD5GXMCBE9bnvk1HwC",
      "metadata": {},
      "source": [
        ""
>>>>>>> 6598f3655589f687053a5be906c18b71327ad5ab
      ]
    },
    {
      "cell_type": "code",
<<<<<<< HEAD
      "execution_count": 3,
      "metadata": {
        "autoscroll": null,
        "collapsed": null,
        "deletable": null,
        "format": null,
        "jupyter": null,
        "name": null,
        "tags": null
      },
      "outputs": [],
=======
      "id": "o0ZllclWhELJGi7_lSsbW",
      "metadata": {},
>>>>>>> 6598f3655589f687053a5be906c18b71327ad5ab
      "source": [
        "# for display clarity \n",
        "pd.set_option('display.float_format', lambda x: '%.3f' % x) "
      ]
    },
    {
      "cell_type": "markdown",
<<<<<<< HEAD
      "metadata": {
        "autoscroll": null,
        "collapsed": null,
        "deletable": null,
        "format": null,
        "jupyter": null,
        "name": null,
        "tags": null
      },
=======
      "id": "Gv6t4dFDVqhojzmQ6wbQK",
      "metadata": {},
>>>>>>> 6598f3655589f687053a5be906c18b71327ad5ab
      "source": [
        "## Initial Data Examination\n",
        "The first steps is to get a quick overview of your dataset. The `head()`\n",
        " function shows the initial rows of the dataset, providing a brief overview of what the data looks like. This initial examination helps you understand how the data is organized (sometimes even showing missing values) and make informed decisions about further approaches.\n"
      ]
    },
    {
      "cell_type": "code",
<<<<<<< HEAD
      "execution_count": 4,
      "metadata": {
        "autoscroll": null,
        "collapsed": null,
        "deletable": null,
        "format": null,
        "jupyter": null,
        "name": null,
        "tags": null
      },
      "outputs": [
        {
          "name": "stdout",
          "output_type": "stream",
          "text": [
            "   survived    age     sex   fare deck  class  embark_town  alone\n",
            "0         0 22.000    male  7.250  NaN  Third  Southampton  False\n",
            "1         1 38.000  female 71.283    C  First    Cherbourg  False\n",
            "2         1 26.000  female  7.925  NaN  Third  Southampton   True\n",
            "3         1 35.000  female 53.100    C  First  Southampton  False\n",
            "4         0 35.000    male  8.050  NaN  Third  Southampton   True\n"
          ]
        }
      ],
=======
      "id": "2nQKSfqbxu9sCkwO3Jgzq",
      "metadata": {},
>>>>>>> 6598f3655589f687053a5be906c18b71327ad5ab
      "source": [
        "print(titanic.head())"
      ]
    },
    {
      "cell_type": "markdown",
<<<<<<< HEAD
      "metadata": {
        "autoscroll": null,
        "collapsed": null,
        "deletable": null,
        "format": null,
        "jupyter": null,
        "name": null,
        "tags": null
      },
=======
      "id": "Fu6KJJizHLVtka4LKNx9h",
      "metadata": {},
>>>>>>> 6598f3655589f687053a5be906c18b71327ad5ab
      "source": [
        "As illustrated in the output, this version of the dataset consists of 8 variables:\n",
        "1. `survived`\n",
        ": Indicates whether the passenger survived (0 = No, 1 = Yes).\n",
        "\n",
        "2. `age`\n",
        ": Age of the passenger.\n",
        "\n",
        "3. `sex`\n",
        ": Gender of the passenger.\n",
        "\n",
        "4. `fare`\n",
        ": Fare paid for the ticket.\n",
        "\n",
        "5. `class`\n",
        ": Equivalent to pclass but as a categoriacal data type.\n",
        "\n",
        "6. `deck`\n",
        ": Deck where the passenger's cabin was located.\n",
        "\n",
        "7. `embark_town`\n",
        ": Town where the passenger embarked.\n",
        "\n",
        "8. `alone`\n",
        ": Indicates whether the passenger was traveling alone.\n",
        "\n",
        "\n",
        "Additionally, the output reveals missing values (NaN), which will be relevant later in this tutorial. \n",
        "### Dimensionality\n",
        "Executing the code cell below returns a tuple with the dimensions of the dataset (rows, columns), by making use of the `.shape`\n",
        " attribute:\n"
      ]
    },
    {
      "cell_type": "code",
<<<<<<< HEAD
      "execution_count": 5,
      "metadata": {
        "autoscroll": null,
        "collapsed": null,
        "deletable": null,
        "format": null,
        "jupyter": null,
        "name": null,
        "tags": null
      },
      "outputs": [
        {
          "name": "stdout",
          "output_type": "stream",
          "text": [
            "(891, 8)\n"
          ]
        }
      ],
=======
      "id": "HRNcWu4fvuVgtQ8nCUG1B",
      "metadata": {},
>>>>>>> 6598f3655589f687053a5be906c18b71327ad5ab
      "source": [
        "print(titanic.shape)"
      ]
    },
    {
      "cell_type": "markdown",
<<<<<<< HEAD
      "metadata": {
        "autoscroll": null,
        "collapsed": null,
        "deletable": null,
        "format": null,
        "jupyter": null,
        "name": null,
        "tags": null
      },
=======
      "id": "dmcZ560B9h3oInh8r11Ma",
      "metadata": {},
>>>>>>> 6598f3655589f687053a5be906c18b71327ad5ab
      "source": [
        "### Data types and Structures\n",
        "Data types refer to the format in which data is stored. In the cell below the `.dtypes`\n",
        " attribute is used to access the data types of the features in the dataset:\n"
      ]
    },
    {
      "cell_type": "code",
<<<<<<< HEAD
      "execution_count": 6,
      "metadata": {
        "autoscroll": null,
        "collapsed": null,
        "deletable": null,
        "format": null,
        "jupyter": null,
        "name": null,
        "tags": null
      },
      "outputs": [
        {
          "name": "stdout",
          "output_type": "stream",
          "text": [
            "survived          int64\n",
            "age             float64\n",
            "sex              object\n",
            "fare            float64\n",
            "deck           category\n",
            "class          category\n",
            "embark_town      object\n",
            "alone              bool\n",
            "dtype: object\n"
          ]
        }
      ],
=======
      "id": "GOJMCv-oM0GbFYdnZ5Wsq",
      "metadata": {},
>>>>>>> 6598f3655589f687053a5be906c18b71327ad5ab
      "source": [
        "print(titanic.dtypes)"
      ]
    },
    {
      "cell_type": "markdown",
<<<<<<< HEAD
      "metadata": {
        "autoscroll": null,
        "collapsed": null,
        "deletable": null,
        "format": null,
        "jupyter": null,
        "name": null,
        "tags": null
      },
=======
      "id": "U3HfnUaDHOVGYaPC_49nN",
      "metadata": {},
>>>>>>> 6598f3655589f687053a5be906c18b71327ad5ab
      "source": [
        "The generic Python object data type is called `object`\n",
        ". Objects can consist of various types, such as strings, lists, dictionaries, or even custom objects. \n",
        "## Descriptive Statistics\n",
        "Descriptive statistics are a fundamental component in understanding a dataset, as they provide a concise summary of its main characteristics by summarizing its central tendencies, variability, and distribution. \n",
        "### Summary Statistics\n",
        "When examining a dataset, it's common to encounter two types of variables: numerical and categorical. Numerical variables represent quantities or measurements, while categorical variables represent categories or labels. To gain meaningful insights, numerical and categorical variables are summarized separately. \n",
        "**Numerical summary**\n",
        "Statistics of numerical variables include quantities such as\n",
        "- mean (average)\n",
        "- median (middle value)\n",
        "- mode (most frequent value)\n",
        "- range (difference between the maximum and minimum values)\n",
        "- quartiles (for assessing spread and distribution)\n",
        "- variance and standard deviation (both are measures of data dispersion)\n",
        "- skewness (distribution asymmetry measure) \n",
        "- kurtosis (tail thickness of distributions). \n",
        "\n",
        "The `describe()`\n",
        " function from the pandas library, and the `skew()`\n",
        " and `kurtosis()`\n",
        " functions from the scipy library are used in the cell below to calculate the statistics.\n"
      ]
    },
    {
      "cell_type": "code",
<<<<<<< HEAD
      "execution_count": 7,
      "metadata": {
        "autoscroll": null,
        "collapsed": null,
        "deletable": null,
        "format": null,
        "jupyter": null,
        "name": null,
        "tags": null
      },
      "outputs": [
        {
          "name": "stdout",
          "output_type": "stream",
          "text": [
            "          survived     age     fare\n",
            "count      891.000 714.000  891.000\n",
            "mean         0.384  29.699   32.204\n",
            "median       0.000  28.000   14.454\n",
            "25%          0.000  20.125    7.910\n",
            "75%          1.000  38.000   31.000\n",
            "mode         0.000  24.000    8.050\n",
            "min          0.000   0.420    0.000\n",
            "max          1.000  80.000  512.329\n",
            "range        1.000  79.580  512.329\n",
            "std          0.487  14.526   49.693\n",
            "variance     0.237 211.019 2469.437\n",
            "skewness     0.478     NaN    4.779\n",
            "kurtosis    -1.772     NaN   33.204\n"
          ]
        }
      ],
=======
      "id": "7S40l-XuqBS2xJsZJSymh",
      "metadata": {},
>>>>>>> 6598f3655589f687053a5be906c18b71327ad5ab
      "source": [
        "# Get summary statistics for numerical columns\n",
        "numerical_summary = titanic.describe()\n",
        "\n",
        "# Rename the \"50%\" row to \"median\" for clarity\n",
        "numerical_summary = numerical_summary.rename(index={'50%': 'median'})\n",
        "\n",
        "# Calculate the range and add it as a new row\n",
        "numerical_columns = titanic.select_dtypes(include=[np.number])\n",
        "range_values = numerical_columns.max(numeric_only=True) - numerical_columns.min(numeric_only=True)\n",
        "numerical_summary.loc['range'] = range_values\n",
        "\n",
        "# Find the mode \n",
        "numerical_summary.loc['mode'] = titanic.select_dtypes(include=[np.number]).mode().iloc[0]\n",
        "\n",
        "# Calculate variance, skewness, and kurtosis and add as new rows to summary\n",
        "numerical_columns = titanic.select_dtypes(include=[np.number])\n",
        "variance_values = numerical_columns.var()\n",
        "skewness_values = skew(numerical_columns, axis=0)\n",
        "kurtosis_values = kurtosis(numerical_columns, axis=0)\n",
        "numerical_summary.loc['variance'] = variance_values\n",
        "numerical_summary.loc['skewness'] = skewness_values\n",
        "numerical_summary.loc['kurtosis'] = kurtosis_values\n",
        "\n",
        "# Reorder the rows for clarity\n",
        "numerical_summary = numerical_summary.reindex(['count', 'mean', 'median', '25%', '75%','mode', 'min', 'max','range', 'std','variance','skewness','kurtosis'])\n",
        "\n",
        "# Print the numerical summary statistics\n",
        "print(numerical_summary)"
      ]
    },
    {
      "cell_type": "markdown",
<<<<<<< HEAD
      "metadata": {
        "autoscroll": null,
        "collapsed": null,
        "deletable": null,
        "format": null,
        "jupyter": null,
        "name": null,
        "tags": null
      },
=======
      "id": "nJPhj6amEIbDb-dMdsxg-",
      "metadata": {},
>>>>>>> 6598f3655589f687053a5be906c18b71327ad5ab
      "source": [
        "Observe a skewness and kurtosis value of NaN for the `age`\n",
        " variable. As you progress through the tutorial, you will discover that this variable includes missing values, resulting in an inaccurate calculation of these statistical measures.\n",
        "**Categorical summary**\n",
        "Categorical variables require different types of summary statistics and include \n",
        "- counts\n",
        "- percentages\n",
        "- frequencies\n",
        "- most common values\n",
        "\n",
        "for each category. The cell below uses the `describe()`\n",
        " function to obtain statistics of categorical variables:\n"
      ]
    },
    {
      "cell_type": "code",
<<<<<<< HEAD
      "execution_count": 8,
      "metadata": {
        "autoscroll": null,
        "collapsed": null,
        "deletable": null,
        "format": null,
        "jupyter": null,
        "name": null,
        "tags": null
      },
      "outputs": [
        {
          "name": "stdout",
          "output_type": "stream",
          "text": [
            "       deck  class\n",
            "count   203    891\n",
            "unique    7      3\n",
            "mode      C  Third\n",
            "freq     59    491\n"
          ]
        }
      ],
=======
      "id": "qCg7rGziL44XISybK2LBF",
      "metadata": {},
>>>>>>> 6598f3655589f687053a5be906c18b71327ad5ab
      "source": [
        "# Get summary statistics for categorical columns\n",
        "categorical_summary = titanic.describe(include='category')\n",
        "\n",
        "# For clarity rename top to mode, as the two are equivalent\n",
        "categorical_summary = categorical_summary.rename(index={'top': 'mode'})\n",
        "\n",
        "print(categorical_summary)"
      ]
    },
    {
      "cell_type": "markdown",
<<<<<<< HEAD
      "metadata": {
        "autoscroll": null,
        "collapsed": null,
        "deletable": null,
        "format": null,
        "jupyter": null,
        "name": null,
        "tags": null
      },
=======
      "id": "iyde7CQEoGd52NoU1mCJP",
      "metadata": {},
>>>>>>> 6598f3655589f687053a5be906c18b71327ad5ab
      "source": [
        "The statistics of the categorical variables do not provide insight into the distribution of each category, and therefore no insights into class imbalances. The cell below calculates the frequency of occurrence of each unique category within the dataset:\n"
      ]
    },
    {
      "cell_type": "code",
<<<<<<< HEAD
      "execution_count": 9,
      "metadata": {
        "autoscroll": null,
        "collapsed": null,
        "deletable": null,
        "format": null,
        "jupyter": null,
        "name": null,
        "tags": null
      },
      "outputs": [
        {
          "name": "stdout",
          "output_type": "stream",
          "text": [
            "         deck   class\n",
            "A      15.000     NaN\n",
            "B      47.000     NaN\n",
            "C      59.000     NaN\n",
            "D      33.000     NaN\n",
            "E      32.000     NaN\n",
            "F      13.000     NaN\n",
            "G       4.000     NaN\n",
            "First     NaN 216.000\n",
            "Second    NaN 184.000\n",
            "Third     NaN 491.000\n"
          ]
        }
      ],
=======
      "id": "zh0iJT143Jcc2pfQkJvwn",
      "metadata": {},
>>>>>>> 6598f3655589f687053a5be906c18b71327ad5ab
      "source": [
        "# count the number of observations belonging to each category\n",
        "category_counts = titanic.select_dtypes(include='category').apply(lambda col: col.value_counts())\n",
        "# this is only for display purposes\n",
        "category_counts = category_counts.reindex(['A', 'B', 'C', 'D', 'E', 'F', 'G', 'First', 'Second', 'Third'])\n",
        "print(category_counts)"
      ]
    },
    {
      "cell_type": "markdown",
<<<<<<< HEAD
      "metadata": {
        "autoscroll": null,
        "collapsed": null,
        "deletable": null,
        "format": null,
        "jupyter": null,
        "name": null,
        "tags": null
      },
=======
      "id": "UDdQ4Pr_9j5GjQbNyhBlN",
      "metadata": {},
>>>>>>> 6598f3655589f687053a5be906c18b71327ad5ab
      "source": [
        "The output shows that there is an imbalance in the categorical variables (varying number of observation for each class). Issues about imbalances will become important later in the course, when discussing classification. \n",
        "### Covariance\n",
        "Covariance is a measure of how much random variables co-vary (vary together, like the age of a person and the fare price paid by a passenger). Mathematically, the covariance between two variables $x$ and $y$ is defined as: \n",
        "\n",
        "$$\n",
        "\\text{Cov}(x, y) = \\frac{1}{n-1} \\sum_{i=1}^{n} (x_i - \\bar{x})(y_i - \\bar{y})\n",
        "$$\n",
        "\n",
        "where $n$ is the number of samples, $\\bar{x}$ and $\\bar{y}$ are the means of the random variables, and $x_i$ and $y_i$ refer to the specific data values of the random variables. The code cell below contains an implementation of the covariance calculation:\n"
      ]
    },
    {
      "cell_type": "code",
<<<<<<< HEAD
      "execution_count": 10,
      "metadata": {
        "autoscroll": null,
        "collapsed": null,
        "deletable": null,
        "format": null,
        "jupyter": null,
        "name": null,
        "tags": null
      },
      "outputs": [
        {
          "name": "stdout",
          "output_type": "stream",
          "text": [
            "59.162200289689366\n"
          ]
        }
      ],
=======
      "id": "ezhBkS3KHwMKGhofldl4H",
      "metadata": {},
>>>>>>> 6598f3655589f687053a5be906c18b71327ad5ab
      "source": [
        "def custom_covariance(x, y):\n",
        "    n = len(x)\n",
        "    mean_x = np.mean(x)\n",
        "    mean_y = np.mean(y)\n",
        "    \n",
        "    covariance = np.sum((x - mean_x) * (y - mean_y)) / (n - 1)\n",
        "    return covariance\n",
        "\n",
        "\n",
        "print(custom_covariance(titanic['age'], titanic['fare']))\n"
      ]
    },
    {
      "cell_type": "markdown",
<<<<<<< HEAD
      "metadata": {
        "autoscroll": null,
        "collapsed": null,
        "deletable": null,
        "format": null,
        "jupyter": null,
        "name": null,
        "tags": null
      },
=======
      "id": "ir0dL-3HCWQaG72gBvdwV",
      "metadata": {},
>>>>>>> 6598f3655589f687053a5be906c18b71327ad5ab
      "source": [
        "A positive covariance value indicates that two variables tend to move in the same direction, while a negative covariance value indicates that they tend to move in opposite directions. The magnitude of the covariance value is directly influenced by the scales of the variables involved. For example the variables `age`\n",
        " and `fare`\n",
        " have different units of measurement, which can make it challenging to compare covariances across the pair of variables.\n",
        "### Correlation\n",
        "Measures of correlation standardizes the covariance by transforming it into the range between -1 and 1. Pearson's $r$ is defined as:\n",
        "\n",
        "$$\n",
        "\\text{r} = \\frac{\\text{Cov}(x, y)}{\\sigma_x \\cdot \\sigma_y}\n",
        "$$\n",
        "where $\\sigma_x$ and $\\sigma_y$ are the standard deviations of each random variable involved. \n",
        "Covariance and correlation are similar statistical measures, as both quantify how two variables co-vary. Using the values of the covariance when the two variables have different units of measurment makes interpretation difficult. Standardization in correlation attempts to make this easier. The absolute value of the correlation coefficient indicates the strength of the relationship, with the strength increasing as the values get closer to 1 and -1. The sign of the correlation coefficient (+ or -) indicates the direction of the relationship. A positive correlation means that when one variable increases, the other increases at a constant rate, while a negative correlation means that when one variable increases, the other decreases at a constant rate. A correlation of 0 indicates no linear relationship between two variables.\n",
        "The code cell below calculates Pearson's correlation between `survived`\n",
        " and `fare`\n",
        " variables:\n"
      ]
    },
    {
      "cell_type": "code",
<<<<<<< HEAD
      "execution_count": 11,
      "metadata": {
        "autoscroll": null,
        "collapsed": null,
        "deletable": null,
        "format": null,
        "jupyter": null,
        "name": null,
        "tags": null
      },
      "outputs": [
        {
          "name": "stdout",
          "output_type": "stream",
          "text": [
            "0.25759563083707987\n"
          ]
        }
      ],
=======
      "id": "EFuNIGew6mPjETp5zgCrl",
      "metadata": {},
>>>>>>> 6598f3655589f687053a5be906c18b71327ad5ab
      "source": [
        "# get the covariance between\n",
        "num = custom_covariance(titanic['survived'], titanic['fare'])\n",
        "# get all standard deviation for x (survived)\n",
        "sigma_x =np.sum((np.std(titanic['survived'])))\n",
        "# get all standard deviation for y (fare)\n",
        "sigma_y = (np.sum((np.std(titanic['fare']))))\n",
        "\n",
        "print(num/(sigma_x*sigma_y))"
      ]
    },
    {
      "cell_type": "markdown",
<<<<<<< HEAD
      "metadata": {
        "autoscroll": null,
        "collapsed": null,
        "deletable": null,
        "format": null,
        "jupyter": null,
        "name": null,
        "tags": null
      },
=======
      "id": "VeRkUZJsVGHCB987AJ0BO",
      "metadata": {},
>>>>>>> 6598f3655589f687053a5be906c18b71327ad5ab
      "source": [
        "Correlation between multiple variables result in a correlation matrix. The cell below calculates multivariate correlation for the Titanic dataset using the `corr`\n",
        " function from pandas:\n"
      ]
    },
    {
      "cell_type": "code",
<<<<<<< HEAD
      "execution_count": 12,
      "metadata": {
        "autoscroll": null,
        "collapsed": null,
        "deletable": null,
        "format": null,
        "jupyter": null,
        "name": null,
        "tags": null
      },
      "outputs": [
        {
          "name": "stdout",
          "output_type": "stream",
          "text": [
            "          survived    age  fare\n",
            "survived     1.000 -0.077 0.257\n",
            "age         -0.077  1.000 0.096\n",
            "fare         0.257  0.096 1.000\n"
          ]
        }
      ],
=======
      "id": "ZJUjehG-7axzlq-01Vu_x",
      "metadata": {},
>>>>>>> 6598f3655589f687053a5be906c18b71327ad5ab
      "source": [
        "# Calculate the pairwise correlation matrix\n",
        "correlation_matrix = numerical_columns.corr()\n",
        "\n",
        "print(correlation_matrix)"
      ]
    },
    {
      "cell_type": "markdown",
<<<<<<< HEAD
      "metadata": {
        "autoscroll": null,
        "collapsed": null,
        "deletable": null,
        "format": null,
        "jupyter": null,
        "name": null,
        "tags": null
      },
=======
      "id": "xX9DM1pKvD69E3LmPceKs",
      "metadata": {},
>>>>>>> 6598f3655589f687053a5be906c18b71327ad5ab
      "source": [
        "### Missing Data\n",
        "Missing data refers to absent or incomplete values in a dataset. It’s common to encounter missing data due to various reasons such as data collection errors, sensor failures, or simply because certain information was not collected for some observations. Dealing with missing data is a crucial step in data preprocessing, as it can significantly impact the accuracy and reliability of any analysis or modeling performed on the dataset. The code cell below identifies the number of missing values for each variable in the dataset, by calling the `isna()`\n",
        " function: \n"
      ]
    },
    {
      "cell_type": "code",
<<<<<<< HEAD
      "execution_count": 13,
      "metadata": {
        "autoscroll": null,
        "collapsed": null,
        "deletable": null,
        "format": null,
        "jupyter": null,
        "name": null,
        "tags": null
      },
      "outputs": [
        {
          "name": "stdout",
          "output_type": "stream",
          "text": [
            "survived         0\n",
            "age            177\n",
            "sex              0\n",
            "fare             0\n",
            "deck           688\n",
            "class            0\n",
            "embark_town      2\n",
            "alone            0\n",
            "dtype: int64\n"
          ]
        }
      ],
=======
      "id": "d7Q4qRxmm-q47dMWTxnfG",
      "metadata": {},
>>>>>>> 6598f3655589f687053a5be906c18b71327ad5ab
      "source": [
        "# Count missing data for each column\n",
        "print(titanic.isna().sum())"
      ]
    },
    {
      "cell_type": "markdown",
<<<<<<< HEAD
      "metadata": {
        "autoscroll": null,
        "collapsed": null,
        "deletable": null,
        "format": null,
        "jupyter": null,
        "name": null,
        "tags": null
      },
=======
      "id": "lBAPLNGJzYi-Cy74bndUm",
      "metadata": {},
>>>>>>> 6598f3655589f687053a5be906c18b71327ad5ab
      "source": [
        "The variables `age`\n",
        ", `deck`\n",
        " and `embark_town`\n",
        " contain multiple missing values. For the current tutorial we will not remove or manipulate these values.\n",
        "### Duplicates\n",
        "Duplicate rows refer to observations that are identical in all their attribute values across all columns and can arise due to reasons such as missing values, data entry errors, system glitches, or issues during data collection. The `duplicated()`\n",
        " function in pandas identifies and marks duplicate rows:\n"
      ]
    },
    {
      "cell_type": "code",
<<<<<<< HEAD
      "execution_count": 14,
      "metadata": {
        "autoscroll": null,
        "collapsed": null,
        "deletable": null,
        "format": null,
        "jupyter": null,
        "name": null,
        "tags": null
      },
      "outputs": [
        {
          "name": "stdout",
          "output_type": "stream",
          "text": [
            "107\n"
          ]
        }
      ],
=======
      "id": "olnf9hpaphgIhbXryfVvD",
      "metadata": {},
>>>>>>> 6598f3655589f687053a5be906c18b71327ad5ab
      "source": [
        "# Count duplicate rows\n",
        "print(titanic.duplicated().sum())"
      ]
    },
    {
      "cell_type": "markdown",
<<<<<<< HEAD
      "metadata": {
        "autoscroll": null,
        "collapsed": null,
        "deletable": null,
        "format": null,
        "jupyter": null,
        "name": null,
        "tags": null
      },
=======
      "id": "l9y70BYBPNLCfWCnmyN55",
      "metadata": {},
>>>>>>> 6598f3655589f687053a5be906c18b71327ad5ab
      "source": [
        "The Titanic dataset contains 107 duplicated rows. It's essential to exercise caution when deciding whether to keep or delete duplicates. Some duplicates may result from missing data. For instance, `age`\n",
        " and `deck`\n",
        " variables contain multiple missing observations, so identical rows could still originate from different passengers due to incomplete information. Blindly removing duplicates may result in the loss of valuable data. In this tutorial, we opted not to remove duplicates for this reason.\n",
        "### Outliers\n",
        "Outliers are data points that deviate significantly from the majority of observations in a dataset. Outliers can have a disproportionate impact on statistical measures and modeling results, therefore it’s crucial that they are correctly identified and handled.\n",
        "$Z$-scores, also known as standard scores, are a valuable tool for detecting outliers. They quantify how many standard deviations a data point is away from the mean of the dataset. They provide a standardized measure of deviation that is independent of the original data’s scale. $Z$-scores are calculated by subtracting the mean of a variable from a specific data point (indicating how far the data point is from the average) and dividing this difference by the standard deviation:\n"
      ]
    },
    {
      "cell_type": "code",
<<<<<<< HEAD
      "execution_count": 15,
      "metadata": {
        "autoscroll": null,
        "collapsed": null,
        "deletable": null,
        "format": null,
        "jupyter": null,
        "name": null,
        "tags": null
      },
      "outputs": [],
=======
      "id": "hPH_bxQLXPXmAFapZBbJo",
      "metadata": {},
>>>>>>> 6598f3655589f687053a5be906c18b71327ad5ab
      "source": [
        "# Calculate the mean and standard deviation for each numerical column\n",
        "mean_values = numerical_columns.mean()\n",
        "std_values = numerical_columns.std()\n",
        "\n",
        "# Calculate z-scores for each data point in the numerical columns\n",
        "z_scores = (numerical_columns - mean_values) / std_values"
      ]
    },
    {
      "cell_type": "markdown",
<<<<<<< HEAD
      "metadata": {
        "autoscroll": null,
        "collapsed": null,
        "deletable": null,
        "format": null,
        "jupyter": null,
        "name": null,
        "tags": null
      },
=======
      "id": "yg4ul2_gKgVbgq0Ar9sNU",
      "metadata": {},
>>>>>>> 6598f3655589f687053a5be906c18b71327ad5ab
      "source": [
        "A $z$-threshold is set, with $z$-scores greater than or equal to that threshold being considered outliers. The choice of z-threshold depends on the specific analysis and domain knowledge. For the current analysis a threshold of $2$ is used:\n"
      ]
    },
    {
      "cell_type": "code",
<<<<<<< HEAD
      "execution_count": 16,
      "metadata": {
        "autoscroll": null,
        "collapsed": null,
        "deletable": null,
        "format": null,
        "jupyter": null,
        "name": null,
        "tags": null
      },
      "outputs": [
        {
          "name": "stdout",
          "output_type": "stream",
          "text": [
            "age     29\n",
            "fare    38\n",
            "dtype: int64\n"
          ]
        }
      ],
=======
      "id": "lmAUI4sPZlTi3oEbt4N7y",
      "metadata": {},
>>>>>>> 6598f3655589f687053a5be906c18b71327ad5ab
      "source": [
        "# Define the z-score threshold for identifying outliers\n",
        "z_threshold = 2\n",
        "\n",
        "# Identify and print outliers using z-scores\n",
        "outliers = titanic[abs(z_scores) > z_threshold]\n",
        "\n",
        "# Filter to exclude columns with all NaN values\n",
        "outliers = outliers.dropna(axis=1, how='all')\n",
        "\n",
        "print(outliers.count())"
      ]
    },
    {
      "cell_type": "markdown",
<<<<<<< HEAD
      "metadata": {
        "autoscroll": null,
        "collapsed": null,
        "deletable": null,
        "format": null,
        "jupyter": null,
        "name": null,
        "tags": null
      },
=======
      "id": "lEHm32oGVRexXr6Su-jYF",
      "metadata": {},
>>>>>>> 6598f3655589f687053a5be906c18b71327ad5ab
      "source": [
        "Overall, 29 outliers were identified for the `age`\n",
        " variable and 38 outliers for the `fare`\n",
        " variable. In the current tutorial none of the outliers are removed. \n",
        "\n",
        "**Note**\n",
        "When dealing with higher dimensional, multivariate data the Mahalanobis distance would be used for outlier detection, which calculates the distance between a data point and the center of a dataset, accounting for the correlations between variables.\n",
        "\n",
        "## Visualizations\n",
        "While measures like mean, median, mode and standard deviation provide insights into the typical values and spread of data, visualizations offer a more comprehensive understanding by revealing patterns, relationships, and additional information within the dataset. Different data types necessitate the use of specific types of plots. \n",
        "### Histograms\n",
        "A histogram is a graphical representation of the distribution of the data. Histograms are particularly useful for understanding the general tendencies, spread, and shape of data. The `sns.histplot()`\n",
        " function from the Seaborn library is used to plot a histogram of the fare prices paid by the passengers on Titanic: \n"
      ]
    },
    {
      "cell_type": "code",
<<<<<<< HEAD
      "execution_count": 17,
      "metadata": {
        "autoscroll": null,
        "collapsed": null,
        "deletable": null,
        "format": null,
        "jupyter": null,
        "name": null,
        "tags": null
      },
      "outputs": [
        {
          "data": {
            "text/plain": [
              "<Axes: xlabel='fare', ylabel='Count'>"
            ]
          },
          "execution_count": 17,
          "metadata": {},
          "output_type": "execute_result"
        },
        {
          "data": {
            "image/png": "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",
            "text/plain": [
              "<Figure size 640x480 with 1 Axes>"
            ]
          },
          "metadata": {},
          "output_type": "display_data"
        }
      ],
=======
      "id": "JRrx1oNuXv3SJUFI4i7Oz",
      "metadata": {},
>>>>>>> 6598f3655589f687053a5be906c18b71327ad5ab
      "source": [
        "sns.histplot(titanic['fare'], bins=50, color='skyblue')"
      ]
    },
    {
      "cell_type": "markdown",
<<<<<<< HEAD
      "metadata": {
        "autoscroll": null,
        "collapsed": null,
        "deletable": null,
        "format": null,
        "jupyter": null,
        "name": null,
        "tags": null
      },
=======
      "id": "1fanrn567mjiNLFZEfM9M",
      "metadata": {},
>>>>>>> 6598f3655589f687053a5be906c18b71327ad5ab
      "source": [
        "In this case, the histogram is positively skewed, as it has an elongated tail on the right side. Overall, the histogram shows us that the majority of passengers paid relatively lower fares, while a small number paid high fares, resulting in the elongated tail. The plot illustrates the findings from the numerical summary, where a skewness value of 5 was observed. This is considered large and indicates that the distribution is heavily skewed to the right. \n",
        "### Box Plots\n",
        "Similarly to histograms, box plots (a.k.a a box-and-whisker plot) are used to visualize the distribution of a variable. Boxplots are particularly useful for comparing the distribution of a variable across different categories or groups. In the cell below we make use of the `sns.boxplot()`\n",
        " function from the Seaborn library, to plot the age of the passengers across different classes in the titanic dataset: \n"
      ]
    },
    {
      "cell_type": "code",
<<<<<<< HEAD
      "execution_count": 18,
      "metadata": {
        "autoscroll": null,
        "collapsed": null,
        "deletable": null,
        "format": null,
        "jupyter": null,
        "name": null,
        "tags": null
      },
      "outputs": [
        {
          "data": {
            "text/plain": [
              "<Axes: xlabel='class', ylabel='age'>"
            ]
          },
          "execution_count": 18,
          "metadata": {},
          "output_type": "execute_result"
        },
        {
          "data": {
            "image/png": "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",
            "text/plain": [
              "<Figure size 640x480 with 1 Axes>"
            ]
          },
          "metadata": {},
          "output_type": "display_data"
        }
      ],
=======
      "id": "2Aci5ecpcjmStlE5c7wFC",
      "metadata": {},
>>>>>>> 6598f3655589f687053a5be906c18b71327ad5ab
      "source": [
        "# Create a boxplot of the \"fare\" column\n",
        "sns.boxplot(x=titanic['class'], y=titanic['age'])"
      ]
    },
    {
      "cell_type": "markdown",
<<<<<<< HEAD
      "metadata": {
        "autoscroll": null,
        "collapsed": null,
        "deletable": null,
        "format": null,
        "jupyter": null,
        "name": null,
        "tags": null
      },
=======
      "id": "vHmR5b3k8ZGaQkNQVqBu0",
      "metadata": {},
>>>>>>> 6598f3655589f687053a5be906c18b71327ad5ab
      "source": [
        "Each box in the plot represents the age distribution of one of the three passenger classes: First Class (First), Second Class (Second), and Third Class (Third). The vertical position of each box on the y-axis represents the median (50th percentile) age of passengers in that class. The horizontal line inside the box represents the median age. The height of each box shows the interquartile range (IQR), which measures the middle 50% of the age distribution. The vertical lines extending from the boxes are called \"whiskers\" and represent the range of ages that fall within a reasonable quartile range (Quartile 1 – 1.5 * IQR or Quartile 3 + 1.5 * IQR). Any data points beyond the whiskers are considered outliers. The plot above shows that the median age of passengers differs between classes, where the first class of passengers have the highest median age, and third class have the lowest. The second and third classes have multiple outliers, with the second class having outliers on both ends.\n",
        "### Bar Charts\n",
        "Bar charts are used to display the frequency of categories within a dataset. They are useful for comparing different categories and understanding their relative sizes. The cell below makes use of the `sns.barplot()`\n",
        " function from the Seaborn library, to provide a visual representation of the class distribution among the passengers: \n"
      ]
    },
    {
      "cell_type": "code",
<<<<<<< HEAD
      "execution_count": 19,
      "metadata": {
        "autoscroll": null,
        "collapsed": null,
        "deletable": null,
        "format": null,
        "jupyter": null,
        "name": null,
        "tags": null
      },
      "outputs": [
        {
          "data": {
            "text/plain": [
              "<Axes: >"
            ]
          },
          "execution_count": 19,
          "metadata": {},
          "output_type": "execute_result"
        },
        {
          "data": {
            "image/png": "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",
            "text/plain": [
              "<Figure size 640x480 with 1 Axes>"
            ]
          },
          "metadata": {},
          "output_type": "display_data"
        }
      ],
=======
      "id": "yz04NNwd-FBSH3DbQVXiL",
      "metadata": {},
>>>>>>> 6598f3655589f687053a5be906c18b71327ad5ab
      "source": [
        "# Count the number of passengers in each class\n",
        "class_counts = titanic['class'].value_counts()\n",
        "sns.barplot(x=class_counts.index, y=class_counts.values, palette='Set2')"
      ]
    },
    {
      "cell_type": "markdown",
<<<<<<< HEAD
      "metadata": {
        "autoscroll": null,
        "collapsed": null,
        "deletable": null,
        "format": null,
        "jupyter": null,
        "name": null,
        "tags": null
      },
=======
      "id": "2uJbTmJIGpEzuORdgaYPd",
      "metadata": {},
>>>>>>> 6598f3655589f687053a5be906c18b71327ad5ab
      "source": [
        "The third class has the highest number of passengers, while the second class has the lowest. The plot clearly visualizes the class imbalances. \n",
        "### Heatmaps\n",
        "Heatmaps are commonly used to visualize relationships, patterns, or distributions within complex datasets. Heatmaps are particularly useful for identifying multicollinearity. The Seaborn library contains the `sns.heatmap()`\n",
        " function, used in the cell below to create a heatmap of the correlation matrix: \n"
      ]
    },
    {
      "cell_type": "code",
<<<<<<< HEAD
      "execution_count": 20,
      "metadata": {
        "autoscroll": null,
        "collapsed": null,
        "deletable": null,
        "format": null,
        "jupyter": null,
        "name": null,
        "tags": null
      },
      "outputs": [
        {
          "data": {
            "text/plain": [
              "<Axes: >"
            ]
          },
          "execution_count": 20,
          "metadata": {},
          "output_type": "execute_result"
        },
        {
          "data": {
            "image/png": "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",
            "text/plain": [
              "<Figure size 640x480 with 2 Axes>"
            ]
          },
          "metadata": {},
          "output_type": "display_data"
        }
      ],
=======
      "id": "XIMo-x5Bgv3dzhZ9yLIWt",
      "metadata": {},
>>>>>>> 6598f3655589f687053a5be906c18b71327ad5ab
      "source": [
        "sns.heatmap(correlation_matrix, annot=True, cmap='coolwarm', linewidths=.5)"
      ]
    },
    {
      "cell_type": "markdown",
<<<<<<< HEAD
      "metadata": {
        "autoscroll": null,
        "collapsed": null,
        "deletable": null,
        "format": null,
        "jupyter": null,
        "name": null,
        "tags": null
      },
=======
      "id": "Cz7UW7b5lG1YOhumd4xFf",
      "metadata": {},
>>>>>>> 6598f3655589f687053a5be906c18b71327ad5ab
      "source": [
        "Each cell in the heatmap represents the correlation between two numerical variables from the dataset. The color of each cell indicates the strength and direction of the correlation with darker colors indicating stronger, and lighter blue colors indicating weaker or no correlations (close to 0). Blue cells represent negative correlations, while red cells represent positive correlations. The intensity of the color corresponds to the magnitude of the correlation coefficient. The numerical values within the cells provide precise correlation coefficients.\n",
        "### Scatter Plots\n",
        "Scatter plots are used to visualize the relationship between two numerical variables. Sometimes, outliers can be spotted in scatterplots, as they appear as points far away from the remaining parts of the data. In the cell below the `sns.scatterplot()`\n",
        " function from the Seaborn library is used to visualize the relationship between passenger ages and the fare prices paid:\n"
      ]
    },
    {
      "cell_type": "code",
<<<<<<< HEAD
      "execution_count": 21,
      "metadata": {
        "autoscroll": null,
        "collapsed": null,
        "deletable": null,
        "format": null,
        "jupyter": null,
        "name": null,
        "tags": null
      },
      "outputs": [
        {
          "data": {
            "text/plain": [
              "<Axes: xlabel='age', ylabel='fare'>"
            ]
          },
          "execution_count": 21,
          "metadata": {},
          "output_type": "execute_result"
        },
        {
          "data": {
            "image/png": "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",
            "text/plain": [
              "<Figure size 640x480 with 1 Axes>"
            ]
          },
          "metadata": {},
          "output_type": "display_data"
        }
      ],
=======
      "id": "SiEzAdMybgwm76hPzBQul",
      "metadata": {},
>>>>>>> 6598f3655589f687053a5be906c18b71327ad5ab
      "source": [
        "sns.scatterplot(x=titanic['age'], y=titanic['fare'], alpha=0.5, color='b')  # Plot age vs. fare"
      ]
    },
    {
      "cell_type": "markdown",
<<<<<<< HEAD
      "metadata": {
        "autoscroll": null,
        "collapsed": null,
        "deletable": null,
        "format": null,
        "jupyter": null,
        "name": null,
        "tags": null
      },
=======
      "id": "L0WQhFFGP5B6pzTm2yqNO",
      "metadata": {},
>>>>>>> 6598f3655589f687053a5be906c18b71327ad5ab
      "source": [
        "The scatterplot above shows no discernible pattern or trend between `age`\n",
        " and `fare`\n",
        ", no significant clustering of points is visible, and no clear correlation can be observed, as also indicated by the values of the correlation matrix. \n",
        "### Pair Plots\n",
        "Pair plots are a comprehensive way to visualize the relationships between multiple numerical variables simultaneously. Pair plots can be generated for the `age`\n",
        " and `fare`\n",
        " variables using the `sns.pairplot()`\n",
        " function from the Seaborn library:\n"
      ]
    },
    {
      "cell_type": "code",
<<<<<<< HEAD
      "execution_count": 22,
      "metadata": {
        "autoscroll": null,
        "collapsed": null,
        "deletable": null,
        "format": null,
        "jupyter": null,
        "name": null,
        "tags": null
      },
      "outputs": [
        {
          "data": {
            "text/plain": [
              "<seaborn.axisgrid.PairGrid at 0x162259cd0>"
            ]
          },
          "execution_count": 22,
          "metadata": {},
          "output_type": "execute_result"
        },
        {
          "data": {
            "image/png": "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",
            "text/plain": [
              "<Figure size 500x500 with 6 Axes>"
            ]
          },
          "metadata": {},
          "output_type": "display_data"
        }
      ],
=======
      "id": "1MT1fk_epDHCjC1hRyb_E",
      "metadata": {},
>>>>>>> 6598f3655589f687053a5be906c18b71327ad5ab
      "source": [
        "sns.pairplot(titanic[['age', 'fare']])"
      ]
    },
    {
      "cell_type": "markdown",
<<<<<<< HEAD
      "metadata": {
        "autoscroll": null,
        "collapsed": null,
        "deletable": null,
        "format": null,
        "jupyter": null,
        "name": null,
        "tags": null
      },
=======
      "id": "QMz8xLsGVSER9L_xu7Yr2",
      "metadata": {},
>>>>>>> 6598f3655589f687053a5be906c18b71327ad5ab
      "source": [
        "The plot suggests that there is no correlation between the `age`\n",
        " and `fare`\n",
        " variables. There are distinct patterns in fare distribution (lower right corner), with a concentration of passengers paying lower fares and fewer passengers paying higher fares. \n",
        "### Missing Data Patterns\n",
        "Heatmaps can also provide a quick and intuitive way to identify patterns of missing data. You can create a heatmap of missing data by combining the `sns.heatmap()`\n",
        " function from the seaborn library and the `isna()`\n",
        " function:\n"
      ]
    },
    {
      "cell_type": "code",
<<<<<<< HEAD
      "execution_count": 23,
      "metadata": {
        "autoscroll": null,
        "collapsed": null,
        "deletable": null,
        "format": null,
        "jupyter": null,
        "name": null,
        "tags": null
      },
      "outputs": [
        {
          "data": {
            "text/plain": [
              "<Axes: >"
            ]
          },
          "execution_count": 23,
          "metadata": {},
          "output_type": "execute_result"
        },
        {
          "data": {
            "image/png": "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",
            "text/plain": [
              "<Figure size 640x480 with 1 Axes>"
            ]
          },
          "metadata": {},
          "output_type": "display_data"
        }
      ],
=======
      "id": "5FO0NXS-RrY0fHo9bzTXf",
      "metadata": {},
>>>>>>> 6598f3655589f687053a5be906c18b71327ad5ab
      "source": [
        "sns.heatmap(titanic.isna(), cbar=False, cmap='viridis')"
      ]
    },
    {
      "cell_type": "markdown",
<<<<<<< HEAD
      "metadata": {
        "autoscroll": null,
        "collapsed": null,
        "deletable": null,
        "format": null,
        "jupyter": null,
        "name": null,
        "tags": null
      },
=======
      "id": "5CIQvi-Zjjgdh8BXQ8yKz",
      "metadata": {},
>>>>>>> 6598f3655589f687053a5be906c18b71327ad5ab
      "source": [
        "The heatmap shows missing values as yellow cells, allowing quick identification of which variables (x-axis) and observations (y-axis) have missing data.\n"
      ]
    }
  ],
  "metadata": {
    "kernelspec": {
      "display_name": "Python",
      "language": "python3",
      "name": "python3"
    },
    "language_info": {
      "codemirror_mode": {
        "name": "ipython",
        "version": 3
      },
      "file_extension": ".py",
      "mimetype": "text/x-python",
      "name": "python",
      "nbconvert_exporter": "python",
      "pygments_lexer": "ipython3",
      "version": "3.11.4"
    }
  },
  "nbformat": 4,
  "nbformat_minor": 5
}
