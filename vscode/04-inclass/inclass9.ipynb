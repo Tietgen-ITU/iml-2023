{
  "metadata": {
    "kernelspec": {
      "display_name": "Python",
      "language": "python3",
      "name": "python3"
    },
    "language_info": {
      "codemirror_mode": {
        "name": "ipython",
        "version": 3
      },
      "file_extension": "py",
      "mimetype": "text/x-python",
      "name": "python"
    }
  },
  "nbformat": 4,
  "nbformat_minor": 5,
  "cells": [
    {
      "cell_type": "code",
      "id": "css_setup",
      "metadata": {
        "jupyter": {
          "source_hidden": true
        }
      },
      "source": [
        "import requests\n",
        "from IPython.core.display import HTML\n",
        "HTML(f\"\"\"\n",
        "<style>\n",
        "@import \"https://cdn.jsdelivr.net/npm/bulma@0.9.4/css/bulma.min.css\";\n",
        "</style>\n",
        "\"\"\")"
      ],
      "execution_count": 0,
      "outputs": []
    },
    {
      "cell_type": "markdown",
      "id": "4_5Vdja-dtkQanK7CGFzd",
      "metadata": {},
      "source": [
        "# Principal Component Analysis (PCA)\n",
        "In this in-class exercise you will be guided through the steps necessary for implementing a PCA on a sequence of human poses. You will work with the poses data, which was used for the exercises in week 6\n",
        ". The dataset has a shape of $(1403, 100, 25*2)$. This means that there are 1403 pose sequences. Each sequence is a 100-frames time series capturing human poses. Each pose consists of 25 skeletal joints, where each joint is an x and y coordinate ($25*2$). For this exercise, you will use a single pose sequence of 100 frames and apply dimension reduction to the selected sequence. \n",
        "The following cells loads the neccessary libraries, the dataset and provides functions for plotting the poses:\n",
        ""
      ]
    },
    {
      "cell_type": "code",
      "id": "Hx0ppsKeXzZlPaToixIst",
      "metadata": {},
      "source": [
        "import numpy as np\n",
        "import matplotlib.pyplot as plt\n",
        "import warnings\n",
        "import seaborn as sns\n",
        "\n",
        "# Suppress the specific warning\n",
        "warnings.filterwarnings(\"ignore\")"
      ],
      "execution_count": 0,
      "outputs": []
    },
    {
      "cell_type": "markdown",
      "id": "46mijTszyLyo-MgzIitZ2",
      "metadata": {},
      "source": [
        ""
      ]
    },
    {
      "cell_type": "code",
      "id": "-Qq4asm7sb8sBfzcr8KpE",
      "metadata": {},
      "source": [
        "def limb_number_plot(s_pose_x,s_pose_y,n1,n2,c=\"red\",label=None):\n",
        "  if label is not None:\n",
        "    if (s_pose_x[n1]>0) and (s_pose_x[n2]>0) and (s_pose_y[n1]>0) and (s_pose_y[n2]>0): \n",
        "      plt.plot([s_pose_x[n1],s_pose_x[n2]], [s_pose_y[n1], s_pose_y[n2]],color = c, linestyle=\"-\",label=label)\n",
        "  else:\n",
        "    if (s_pose_x[n1]>0) and (s_pose_y[n1]>0):\n",
        "       plt.plot(s_pose_x[n1], s_pose_y[n1],'*',color = c,label=label)\n",
        "    if (s_pose_x[n2]>0) and (s_pose_y[n2]>0):\n",
        "       plt.plot(s_pose_x[n2], s_pose_y[n2],'*',color = c,label=label)\n",
        "    if (s_pose_x[n1]>0) and (s_pose_x[n2]>0) and (s_pose_y[n1]>0) and (s_pose_y[n2]>0):\n",
        "      plt.plot([s_pose_x[n1],s_pose_x[n2]], [s_pose_y[n1], s_pose_y[n2]],color = c, linestyle=\"-\")\n",
        "\n",
        "def plot_single_pose(s_pose,c = \"darkgreen\",label=None,ds='body_25',c_head = 'red',head = True):\n",
        "    \n",
        "    s_pose_x=s_pose[::2]\n",
        "    s_pose_y=s_pose[1::2]\n",
        "    #torso/body\n",
        "    limb_number_plot(s_pose_x,s_pose_y,2,5,c)\n",
        "    if label is not None:\n",
        "\n",
        "        limb_number_plot(s_pose_x,s_pose_y,9,12,c,label)\n",
        "    else:\n",
        "        limb_number_plot(s_pose_x,s_pose_y,9,12,c)\n",
        "    limb_number_plot(s_pose_x,s_pose_y,2,9,c)\n",
        "    limb_number_plot(s_pose_x,s_pose_y,5,12,c)\n",
        "\n",
        "    #left arm (person facing away)\n",
        "    limb_number_plot(s_pose_x,s_pose_y,2,3,c)\n",
        "    limb_number_plot(s_pose_x,s_pose_y,3,4,c)\n",
        "\n",
        "    #right arm\n",
        "    limb_number_plot(s_pose_x,s_pose_y,5,6,c)\n",
        "    limb_number_plot(s_pose_x,s_pose_y,6,7,c)\n",
        "\n",
        "    #left leg / foot\n",
        "    limb_number_plot(s_pose_x,s_pose_y,9,10,c)\n",
        "    limb_number_plot(s_pose_x,s_pose_y,10,11,c)\n",
        "    limb_number_plot(s_pose_x,s_pose_y,11,22,c)\n",
        "    #right leg / foot\n",
        "    limb_number_plot(s_pose_x,s_pose_y,12,13,c)\n",
        "    limb_number_plot(s_pose_x,s_pose_y,13,14,c)\n",
        "    limb_number_plot(s_pose_x,s_pose_y,14,19,c)\n",
        "\n",
        "    # head\n",
        "    if head:\n",
        "        limb_number_plot(s_pose_x,s_pose_y,0,15,c)\n",
        "        limb_number_plot(s_pose_x,s_pose_y,0,16,c)\n",
        "\n",
        "        limb_number_plot(s_pose_x,s_pose_y,15,17,c)\n",
        "        limb_number_plot(s_pose_x,s_pose_y,16,18,c)\n",
        "    return True \n",
        "\n",
        "def plot_single_sequence(poses, pose_name='Poses',color='blue'):\n",
        "    \"\"\"\n",
        "    Plots a single sequence of skeleton joints.\n",
        "\n",
        "    Parameters:\n",
        "        poses (array-like): Skeleton sequence data, shape (T,D).\n",
        "        poses_name (string, optional): subtitle of each skeleton body in the sequence. \n",
        "        color (string, optional): color of skeleton bodies. \n",
        "    \"\"\"\n",
        "    plt.style.use('seaborn')\n",
        "    plt.figure(figsize=(25,5))\n",
        "    plt.title('Ground truth')\n",
        "\n",
        "    for i in range(len(poses)):\n",
        "        plt.subplot(5, 10, i + 1)\n",
        "        plot_single_pose(poses[i], c=color, head=True)\n",
        "        plt.ylim(1, 0)\n",
        "        plt.xlim(-1, 1)\n",
        "        plt.title(pose_name + str(i))\n",
        "        plt.axis('off')\n",
        "\n",
        "    plt.show()"
      ],
      "execution_count": 0,
      "outputs": []
    },
    {
      "cell_type": "markdown",
      "id": "reKnTSJCVGT9nACwWbQFb",
      "metadata": {},
      "source": [
        "## 1. Data inspection\n",
        "The cell below:\n",
        "1. Loads the data and construct data matrix.\n",
        "2. Reshapes the data into a $100x50$ data-matrix: we want to implement dimension reduction on the entire chosen sequence, therefore we first flatten the array. \n",
        "3. Selects the first 50 frames from a single pose sequence and plot it.\n",
        "\n",
        "\n",
        "---\n",
        "**Task 1 (easy): Loading and inspecting the data👩‍💻**\n",
        "1. Run the code cell\n",
        "2. Change the code to display the display sequences 4,5,7 and visually observe how these sequences vary. \n",
        "\n",
        "\n",
        "---"
      ]
    },
    {
      "cell_type": "code",
      "id": "LFL2iymQTzoaT_B1QPNtY",
      "metadata": {},
      "source": [
        "data = np.load('poses_norm.npy')\n",
        "print(data.shape)\n",
        "N,T,D,C = data.shape\n",
        "reshaped_data = data.reshape(N,T,D*C)\n",
        "dataset = reshaped_data[19]\n",
        "\n",
        "# Define the new shape you want (30, 50)\n",
        "new_shape = (50, 50)\n",
        "# Reshape the array to the new shape\n",
        "reshaped_data2 = np.empty(new_shape)  # Create an empty array with the new shape\n",
        "reshaped_data2[:] = dataset[:new_shape[0], :]  \n",
        "\n",
        "plot_single_sequence(reshaped_data2,pose_name='Pose',color='blue')"
      ],
      "execution_count": 0,
      "outputs": []
    },
    {
      "cell_type": "markdown",
      "id": "EWw0Ct29hMTVVPUumnsKQ",
      "metadata": {},
      "source": [
        "## 2. Covariance matrix\n",
        "The following tasks construct and inspect the covariance matrix for the chosen pose sequence. \n",
        "\n",
        "---\n",
        "**Task 2 (easy): Covariance matrix - NumPy method👩‍💻**\n",
        "1. Run the cell below to obtain and plot the covariance matrix. We will use the covariance matrix obtained here in later parts of the exercise as well. \n",
        "2. What does the heatmap tell us about the relationship between the variables? \n",
        "\n",
        "\n",
        "---"
      ]
    },
    {
      "cell_type": "code",
      "id": "MPUOb_IM1xyJ7yHIu10zM",
      "metadata": {},
      "source": [
        "# Calculate the covariance matrix for the entire dataset\n",
        "cov_matrix = np.cov(dataset, rowvar=False)\n",
        "# Plotting\n",
        "sns.heatmap(cov_matrix, cmap='coolwarm')"
      ],
      "execution_count": 0,
      "outputs": []
    },
    {
      "cell_type": "markdown",
      "id": "UkpMgnhKjA2xs9IWRh3Hw",
      "metadata": {},
      "source": [
        "\n",
        "---\n",
        "**Task 3 (easy): Rearranging the data👩‍💻**\n",
        "Currently, the dataset is arranged by frames, with each frame being defined by an x and y coordinate. \n",
        "1. Run the cell below to rearrange the dataset. Rearranging is done just for illustrative purposes. \n",
        "2. How are the x and y coordinates arranged after rearranging the data?\n",
        "\n",
        "\n",
        "---"
      ]
    },
    {
      "cell_type": "code",
      "id": "N_SdLUoEbEiUKYctQ48IK",
      "metadata": {},
      "source": [
        "# Get the number of rows and columns in the dataset\n",
        "num_rows, num_columns = dataset.shape\n",
        "\n",
        "# Separate even and odd columns\n",
        "even_indexes = np.arange(0, num_columns, 2)  # Even indexes (0, 2, 4, ...)\n",
        "odd_indexes = np.arange(1, num_columns, 2)   # Odd indexes (1, 3, 5, ...)\n",
        "\n",
        "# Rearrange the dataset\n",
        "rearranged_dataset = dataset[:, np.concatenate((even_indexes, odd_indexes))]"
      ],
      "execution_count": 0,
      "outputs": []
    },
    {
      "cell_type": "markdown",
      "id": "u2yIeJTCubO2DrLGRAdlc",
      "metadata": {},
      "source": [
        "\n",
        "---\n",
        "**Task 4 (medium): Covariance matrix - custom method👩‍💻**\n",
        "Use the `rearranged_dataset`\n",
        " to:\n",
        "1. Construct the covariance matrix using the formula:\n",
        "\n",
        "\n",
        "$$\n",
        "\n",
        "\\mathbf{C} = \\frac{1}{N} \\sum_{i=1}^{N} (\\mathbf{x}_i - \\boldsymbol{\\bar{x}})(\\mathbf{x}_i - \\boldsymbol{\\bar{x}})^\\top\n",
        "\n",
        "$$\n",
        "where $\\mathbf{x}_i$ represents the $i$-th coordinate in the dataset and $\\boldsymbol{\\bar{x}}$ is the mean vector obtained by averaging the coordinates for each joint $\\boldsymbol{\\bar{x}} = \\frac{1}{N} \\sum_{i=1}^{N} \\mathbf{x}_i$\n",
        "\n",
        "**Hint**\n",
        "To center the data first calculate the mean vector, then subtract it from each data point of the pose sequence.\n",
        "\n",
        "2. Create a heatmap of the covariance matrix.\n",
        "3. Compare the covariance matrix obtained in this task to the one obtained in the previous task. How and why are they similar/different?\n",
        "\n",
        "\n",
        "---"
      ]
    },
    {
      "cell_type": "code",
      "id": "HJUckEk06OBaPLQ1yd18f",
      "metadata": {},
      "source": [
        "# write your solution here"
      ],
      "execution_count": 0,
      "outputs": []
    },
    {
      "cell_type": "markdown",
      "id": "MeDdrpRPRDQCTd_lMFXdr",
      "metadata": {},
      "source": [
        "\n",
        "---\n",
        "**Task 5 (easy): (Optional) Reflection💡**\n",
        "- How would you change the above pipeline for obtaining the covariance matrix if you wanted to implement PCA on all of the 1403 pose sequences? \n",
        "\n",
        "\n",
        "---## 3. Eigenvalues and eigenvectors\n",
        "Through the following steps you will implement the eigen decompositon and inspect crucial properties of the covariance matrix. \n",
        "\n",
        "---\n",
        "**Task 6 (easy): Eigen decomposition👩‍💻**\n",
        "1. Run the cell below to find the eigenvalues and eigenvectors.\n",
        "2. Plot the eigenvalues. The plot should have a similar format to the given output.\n",
        "\n",
        "\n",
        "---"
      ]
    },
    {
      "cell_type": "code",
      "id": "yqOnXlhVCbj911euTc8V5",
      "metadata": {},
      "source": [
        "eigenvalues, eigenvectors = np.linalg.eigh(cov_matrix)\n",
        "\n",
        "# write your solution here"
      ],
      "execution_count": 0,
      "outputs": []
    },
    {
      "cell_type": "markdown",
      "id": "Q4s1Uw-hyRgabKTi7rxqf",
      "metadata": {},
      "source": [
        "\n",
        "---\n",
        "**Task 7 (easy): Properties of eigenvalues and eigenvectors👩‍💻**\n",
        "1. Determine whether all of the eigenvalues are non-negative (greater than or equal to 0)\n",
        "2. Verify that the obtained eigenvectors are orthogonal. An efficient way is to use the definition of an orthonormal matrix. Alternatively, you can verify them individually.\n",
        "\n",
        "\n",
        "**Hint**\n",
        "Notice that the values may be slightly imprecise due to the finite precision of numerical representations. You can use `np.isclose`\n",
        " to check whether two values are close to each other or not.\n",
        "\n",
        "3. What is the total variance of the dataset? \n",
        "\n",
        "\n",
        "**Hint**\n",
        "The sum of all eigenvalues should equal (approximately) the total variance in the original data.\n",
        "\n",
        "\n",
        "---"
      ]
    },
    {
      "cell_type": "code",
      "id": "1eh-NTyGoOBGSukQWo3De",
      "metadata": {},
      "source": [
        "# Write your solution here"
      ],
      "execution_count": 0,
      "outputs": []
    },
    {
      "cell_type": "markdown",
      "id": "Nu3WgV6xpbqfMlf0rj0FK",
      "metadata": {},
      "source": [
        "\n",
        "---\n",
        "**Task 8 (easy): Sorting Eigenvalues and Eigenvectors👩‍💻**\n",
        "1. Sort the eigenvectors and their corresponding eigenvalues in descending order based on the eigenvalues. \n",
        "2. Plot the sorted eigenvalues. The plot should have a similar format to the given output.\n",
        "\n",
        "\n",
        "---"
      ]
    },
    {
      "cell_type": "code",
      "id": "xpdwcL-raCzfUPKPQ7H58",
      "metadata": {},
      "source": [
        "# Write your solution here"
      ],
      "execution_count": 0,
      "outputs": []
    },
    {
      "cell_type": "markdown",
      "id": "1ltuMLv_r6XLLwU5AcaE_",
      "metadata": {},
      "source": [
        "\n",
        "---\n",
        "**Task 9 (easy): Select components👩‍💻**\n",
        "The cell below calculates the cumulative explained variance ratio.\n",
        "\n",
        "**Info**\n",
        "By using this cutoff point we want to retain 95% of the variation in the original data. Remember that the sum of the selected eigenvalues can be used as a measure of how much variance is retained.\n",
        "\n",
        "1. Plot the cumulative variance. The plot should have a similar format to the given output.\n",
        "2. How many components do you need to retain: $50$%, $80$%, $90$%, $95$% of the variation\n",
        "3. Select and print $k$ such that $95$% of the variation is retained.\n",
        "\n",
        "\n",
        "---"
      ]
    },
    {
      "cell_type": "code",
      "id": "522UZwCQcaIe2AVPjSDtf",
      "metadata": {},
      "source": [
        "cumulative_variance_ratio = np.cumsum(sorted_eigenvalues) / np.sum(sorted_eigenvalues)\n",
        "\n",
        "# Write your solution here"
      ],
      "execution_count": 0,
      "outputs": []
    },
    {
      "cell_type": "markdown",
      "id": "A5SRPF978kObz_gkZAaDy",
      "metadata": {},
      "source": [
        "## 4. Mixing parameters (Optional)\n",
        "The following section describes how much each variable contributes to the selected principal components:\n",
        "\n",
        "---\n",
        "**Task 10 (medium): Mixing parameters👩‍💻**\n",
        "1. Change the cell below to construct the $\\Phi$ matrix containing the first 9 eigenvectors. The matrix is constructed as follows:\n",
        "\n",
        "\n",
        "$$\n",
        "{\\Phi} = \n",
        "\\begin{bmatrix}\n",
        "    | & | & \\cdots & | \\\\\n",
        "    \\vec{v}_1 & \\vec{v}_2 & \\cdots & \\vec{v}_9 \\\\\n",
        "    | & | & \\cdots & |\n",
        "\\end{bmatrix}\n",
        "$$\n",
        "2. Define the mixing parameters as $\\Phi_{i} \\cdot \\sqrt{\\lambda_i}$, where $\\Phi_{i}$ represents the $i$-th column of $\\Phi$ (the selected eigenvectors) and $\\lambda_i$ represents the corresponding eigenvalue. \n",
        "\n",
        "\n",
        "---"
      ]
    },
    {
      "cell_type": "code",
      "id": "e4T0hp9OxdSv1hWlT2ptw",
      "metadata": {},
      "source": [
        "# Write your solution here\n",
        "\n",
        "\n",
        "print(mixing_params.shape)"
      ],
      "execution_count": 0,
      "outputs": []
    },
    {
      "cell_type": "markdown",
      "id": "hE_DF-zs-GO6Llj2ODxAo",
      "metadata": {},
      "source": [
        "\n",
        "---\n",
        "**Task 11 (medium): Plot the loadings👩‍💻**\n",
        "- Plot the contribtuion of each variable to the principal components. The plot should have a similar format to the given output.\n",
        "\n",
        "\n",
        "---"
      ]
    },
    {
      "cell_type": "code",
      "id": "kD30zlhkFtaDvdETRIBWG",
      "metadata": {},
      "source": [
        "# Write your solution here"
      ],
      "execution_count": 0,
      "outputs": []
    },
    {
      "cell_type": "markdown",
      "id": "lX7TpF-3Dn0nsQLyKV4h1",
      "metadata": {},
      "source": [
        "\n",
        "---\n",
        "**Task 12 (easy): Reflection💡**\n",
        "- What do positive and negative component loadings indicate in PCA, and how do they relate to the original variables?\n",
        "\n",
        "\n",
        "---## 5. Generative process - Projecting to subspace and back\n",
        "We can project the normalized data onto the selected principal components. This is done by taking the dot product of the data matrix with the eigenvector matrix, where each column represents a principal component. The following steps will implement this process. \n",
        "\n",
        "---\n",
        "**Task 13 (easy): Project to subspace👩‍💻**\n",
        "Run the cell below to make sure that your data is centered. Use the centered data to:\n",
        "1. Project the original data onto the selected eigenvectors. \n",
        "\n",
        "\n",
        "**Hint**\n",
        "Dot product.\n",
        "\n",
        "2. To plot the projected data using the given code.\n",
        "\n",
        "\n",
        "---"
      ]
    },
    {
      "cell_type": "code",
      "id": "UcGgVGy2ZDEPRcYFuEAJD",
      "metadata": {},
      "source": [
        "# Calculate the mean vector\n",
        "mean_vector = np.mean(dataset, axis=0)\n",
        "\n",
        "# Subtract the mean from each data point\n",
        "centered_data = dataset - mean_vector\n",
        "\n",
        "# Write your solution here\n",
        "\n",
        "\n",
        "# Create a scatter plot for each pair of components for 9 components\n",
        "plt.figure(figsize=(15, 15))\n",
        "for i in range(9):\n",
        "    for j in range(9):\n",
        "        plt.subplot(9, 9, (i * 9) + j + 1)\n",
        "        plt.scatter(projected_data.T[:, i], projected_data.T[:, j], marker=\".\")\n",
        "        plt.xlabel(f'PC {i + 1}')\n",
        "        plt.ylabel(f'PC {j + 1}')\n",
        "        plt.title(f'PC {i + 1} vs. PC {j + 1}')\n",
        "        plt.xlim([-1.5, 1.5]) \n",
        "        plt.ylim([1.5, -1.5])  \n",
        "plt.tight_layout()\n",
        "plt.show()\n",
        "\n",
        "print(projected_data.T.shape)"
      ],
      "execution_count": 0,
      "outputs": []
    },
    {
      "cell_type": "markdown",
      "id": "KUJzqmLY8abbDf0eWkJYN",
      "metadata": {},
      "source": [
        "\n",
        "---\n",
        "**Task 14 (easy): Project back to original space👩‍💻**\n",
        "1. Project the data back from the PCA space to the original data space using the selected eigenvectors. \n",
        "\n",
        "\n",
        "**Hint**\n",
        "Dot product. Remember to add the mean!\n",
        "\n",
        "\n",
        "---"
      ]
    },
    {
      "cell_type": "code",
      "id": "pIeC4O584KTA7r1G21UWP",
      "metadata": {},
      "source": [
        "# Write your solution here\n",
        "\n",
        "\n",
        "print(reconstructed_data.shape)"
      ],
      "execution_count": 0,
      "outputs": []
    },
    {
      "cell_type": "markdown",
      "id": "a_9gnuJtBTNPO9ZPPVSGA",
      "metadata": {},
      "source": [
        "\n",
        "---\n",
        "**Task 15 (medium): Plotting original and reconstructed data👩‍💻**\n",
        "- Plot the first 50 frames from both the original and the reconstructed data. \n",
        "\n",
        "\n",
        "---"
      ]
    },
    {
      "cell_type": "code",
      "id": "Hv0sM8v2ExmpFh0pErosP",
      "metadata": {},
      "source": [
        "# Write your solution here"
      ],
      "execution_count": 0,
      "outputs": []
    },
    {
      "cell_type": "markdown",
      "id": "Bt89bew4mwTdLor6ENhN8",
      "metadata": {},
      "source": [
        "\n",
        "---\n",
        "**Task 16 (easy): Plotting original and reconstructed data👩‍💻**\n",
        "- Change the number of components selected and rerun the process. \n",
        "\n",
        "\n",
        "---"
      ]
    }
  ]
}