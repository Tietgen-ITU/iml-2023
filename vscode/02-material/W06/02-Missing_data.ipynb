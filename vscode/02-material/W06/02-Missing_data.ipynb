{
  "metadata": {
    "kernelspec": {
      "display_name": "Python",
      "language": "python3",
      "name": "python3"
    },
    "language_info": {
      "codemirror_mode": {
        "name": "ipython",
        "version": 3
      },
      "file_extension": "py",
      "mimetype": "text/x-python",
      "name": "python"
    }
  },
  "nbformat": 4,
  "nbformat_minor": 5,
  "cells": [
    {
      "cell_type": "code",
      "id": "css_setup",
      "metadata": {
        "jupyter": {
          "source_hidden": true
        }
      },
      "source": [
        "import requests\n",
        "from IPython.core.display import HTML\n",
        "HTML(f\"\"\"\n",
        "<style>\n",
        "@import \"https://cdn.jsdelivr.net/npm/bulma@0.9.4/css/bulma.min.css\";\n",
        "</style>\n",
        "\"\"\")"
      ],
      "execution_count": 0,
      "outputs": []
    },
    {
      "cell_type": "markdown",
      "id": "Duc6auL9K2swgBHfdJAIf",
      "metadata": {},
      "source": [
        "# Descriptive Statistics and Handling Missing Data in Pose Data Sequences\n",
        "This exercise delves into the exploration of descriptive statistics and methodologies for managing missing data, particularly within a slightly intricate dataset comprising fixed-length skeleton data sequences. Moreover, it encompasses the evaluation of the efficacy of these methodologies.\n",
        "The primary objective is to implement and scrutinize various techniques for managing absent data points, ensuring a comprehensive and unblemished dataset for subsequent analyses.\n",
        "### Pose Data Overview\n",
        "In the subsequent cell, the ground truth dataset is loaded alongside an identical yet noise-infused counterpart. This involves a 30-frame time series sequence, capturing human poses with each frame encompassing 25_2 features, namely the x and y coordinates for 25 skeletal joints. We'll generate 200 such sequences, forming a dataset with a shape of ( (200, 30, 25_2) ).\n",
        "#### Handling Missing Values\n",
        "From the ground truth dataset (`GT_poses`\n",
        "), data has been intentionally omitted, thereby creating the `Noisy_poses`\n",
        " dataset wherein 30% of the original values have been randomly substituted with NaN values (`np.nan`\n",
        "). The ensuing step involves implementing and evaluating varied strategies for dealing with these missing data points, ensuring the robustness of the eventual analyses derived from this dataset.\n",
        "\n",
        "<article class=\"message\">\n",
        "    <div class=\"message-body\">\n",
        "        <strong>List of tasks</strong>\n",
        "        <ul style=\"list-style: none;\">\n",
        "            <li>\n",
        "            <a href=\"#filling_zeros\">Task 1: Filling missing data - zeros</a>\n",
        "            </li>\n",
        "            <li>\n",
        "            <a href=\"#mean_impute\">Task 2: Mean imputer</a>\n",
        "            </li>\n",
        "            <li>\n",
        "            <a href=\"#temp_interpolation\">Task 3: Temporal interpolation</a>\n",
        "            </li>\n",
        "            <li>\n",
        "            <a href=\"#evaluation\">Task 4: Adjust data and evaluate</a>\n",
        "            </li>\n",
        "            <li>\n",
        "            <a href=\"#method_comp\">Task 5: Method comparison</a>\n",
        "            </li>\n",
        "            <li>\n",
        "            <a href=\"#Mean\">Task 6: Mean pose and pose sequence</a>\n",
        "            </li>\n",
        "            <li>\n",
        "            <a href=\"#Correlation\">Task 7: Correlation between features</a>\n",
        "            </li>\n",
        "        </ul>\n",
        "    </div>\n",
        "</article>\n",
        "\n",
        ""
      ]
    },
    {
      "cell_type": "code",
      "id": "WLxzWdzW4XWfpb0XMMiro",
      "metadata": {},
      "source": [
        "## Load the data \n",
        "# give a title - to this box\n",
        "## import libraries\n",
        "import numpy as np\n",
        "import seaborn as sns\n",
        "import matplotlib.pyplot as plt\n",
        "plt.style.use('seaborn')\n",
        "np.random.seed(42)\n",
        "GT_poses  = np.load(\"data/Input_Poses.npy\")\n",
        "Noisy_poses = np.load('data/Noisy_poses.npy')\n",
        "\n",
        "N,T,D,C = Noisy_poses.shape\n",
        "GT_poses = GT_poses.reshape(N,T,D*C)\n",
        "Noisy_poses = Noisy_poses.reshape(N,T,D*C)"
      ],
      "execution_count": 0,
      "outputs": []
    },
    {
      "cell_type": "markdown",
      "id": "aPUQ5BWU4ptKDi6SfHc5h",
      "metadata": {},
      "source": [
        "Helper plotting functions in the cell below. It is not required to understand or modify any of the plotting functions to complete the exercise.\n",
        ""
      ]
    },
    {
      "cell_type": "code",
      "id": "L0e45nPt4nOm82-pkM3GH",
      "metadata": {},
      "source": [
        "def limb_number_plot(s_pose_x,s_pose_y,n1,n2,c=\"red\",label=None):\n",
        "  if label is not None:\n",
        "    if (s_pose_x[n1]>0) and (s_pose_x[n2]>0) and (s_pose_y[n1]>0) and (s_pose_y[n2]>0): \n",
        "      plt.plot([s_pose_x[n1],s_pose_x[n2]], [s_pose_y[n1], s_pose_y[n2]],color = c, linestyle=\"-\",label=label)\n",
        "  else:\n",
        "    if (s_pose_x[n1]>0) and (s_pose_y[n1]>0):\n",
        "       plt.plot(s_pose_x[n1], s_pose_y[n1],'*',color = c,label=label)\n",
        "    if (s_pose_x[n2]>0) and (s_pose_y[n2]>0):\n",
        "       plt.plot(s_pose_x[n2], s_pose_y[n2],'*',color = c,label=label)\n",
        "    if (s_pose_x[n1]>0) and (s_pose_x[n2]>0) and (s_pose_y[n1]>0) and (s_pose_y[n2]>0):\n",
        "      plt.plot([s_pose_x[n1],s_pose_x[n2]], [s_pose_y[n1], s_pose_y[n2]],color = c, linestyle=\"-\")\n",
        "\n",
        "def plot_single_pose(s_pose,c = \"darkgreen\",label=None,ds='body_25',c_head = 'red',head = True):\n",
        "    \n",
        "    s_pose_x=s_pose[::2]\n",
        "    s_pose_y=s_pose[1::2]\n",
        "    #torso/body\n",
        "    limb_number_plot(s_pose_x,s_pose_y,2,5,c)\n",
        "    if label is not None:\n",
        "\n",
        "        limb_number_plot(s_pose_x,s_pose_y,9,12,c,label)\n",
        "    else:\n",
        "        limb_number_plot(s_pose_x,s_pose_y,9,12,c)\n",
        "    limb_number_plot(s_pose_x,s_pose_y,2,9,c)\n",
        "    limb_number_plot(s_pose_x,s_pose_y,5,12,c)\n",
        "\n",
        "    #left arm (person facing away)\n",
        "    limb_number_plot(s_pose_x,s_pose_y,2,3,c)\n",
        "    limb_number_plot(s_pose_x,s_pose_y,3,4,c)\n",
        "\n",
        "    #right arm\n",
        "    limb_number_plot(s_pose_x,s_pose_y,5,6,c)\n",
        "    limb_number_plot(s_pose_x,s_pose_y,6,7,c)\n",
        "\n",
        "    #left leg / foot\n",
        "    limb_number_plot(s_pose_x,s_pose_y,9,10,c)\n",
        "    limb_number_plot(s_pose_x,s_pose_y,10,11,c)\n",
        "    limb_number_plot(s_pose_x,s_pose_y,11,22,c)\n",
        "    #right leg / foot\n",
        "    limb_number_plot(s_pose_x,s_pose_y,12,13,c)\n",
        "    limb_number_plot(s_pose_x,s_pose_y,13,14,c)\n",
        "    limb_number_plot(s_pose_x,s_pose_y,14,19,c)\n",
        "\n",
        "    # head\n",
        "    if head:\n",
        "        limb_number_plot(s_pose_x,s_pose_y,0,15,c)\n",
        "        limb_number_plot(s_pose_x,s_pose_y,0,16,c)\n",
        "\n",
        "        limb_number_plot(s_pose_x,s_pose_y,15,17,c)\n",
        "        limb_number_plot(s_pose_x,s_pose_y,16,18,c)\n",
        "    return True \n",
        "\n",
        "def plot_single_sequence(poses, pose_name='Poses',color='blue'):\n",
        "    \"\"\"\n",
        "    Plots a single sequence of skeleton joints.\n",
        "\n",
        "    Parameters:\n",
        "        poses (array-like): Skeleton sequence data, shape (T,D).\n",
        "        poses_name (string, optional): subtitle of each skeleton body in the sequence. \n",
        "        color (string, optional): color of skeleton bodies. \n",
        "    \"\"\"\n",
        "    plt.style.use('seaborn')\n",
        "    plt.figure(figsize=(20,5))\n",
        "    plt.title('Ground truth')\n",
        "\n",
        "    for i in range(len(poses)):\n",
        "        plt.subplot(3, 10, i + 1)\n",
        "        plot_single_pose(poses[i], c=color, head=False)\n",
        "        plt.ylim(1, 0)\n",
        "        plt.xlim(-1, 1)\n",
        "        plt.title(pose_name + str(i))\n",
        "        plt.axis('off')\n",
        "\n",
        "    plt.show()"
      ],
      "execution_count": 0,
      "outputs": []
    },
    {
      "cell_type": "markdown",
      "id": "aRS2dC-hHwI3ba_eXqHGz",
      "metadata": {},
      "source": [
        ""
      ]
    },
    {
      "cell_type": "code",
      "id": "_LU-5psRVtNSMC-5P1Rsn",
      "metadata": {},
      "source": [
        "## Plot a random single sequence of both the noisy and ground truth skeleton data.\n",
        "np.random.seed(12)\n",
        "sample = np.random.randint(0,200)\n",
        "plot_single_sequence(GT_poses[sample],pose_name='GT',color='blue')\n",
        "plot_single_sequence(Noisy_poses[sample],pose_name='Noisy poses',color='red')"
      ],
      "execution_count": 0,
      "outputs": []
    },
    {
      "cell_type": "markdown",
      "id": "FpbsM1UE07IyXmeGJhoUw",
      "metadata": {},
      "source": [
        "### Missing data strategies\n",
        "In the following steps we will learn 3 different methods for handling missing data. \n",
        "1. Inserting zeros\n",
        "2. Inserting means\n",
        "3. Linear interpolation over time\n",
        "\n",
        "\n",
        "---\n",
        "**Task 1 (easy): Filling missing data - zeros👩‍💻**\n",
        "Implement the first of 3 different methods for filling in missing data in the `Noisy_poses`\n",
        " in the cell below. The approach `filling_missing`\n",
        " should fill missing entries in the data sequences (`np.nan`\n",
        "-values)with a zeros.\n",
        "**Note:** (Hint: the function `np.isnan`\n",
        " can be used to find indices containing NaN values.)\n",
        "\n",
        "\n",
        "---"
      ]
    },
    {
      "cell_type": "code",
      "id": "hxmQsaHwtgGpVyFUtAIKP",
      "metadata": {},
      "source": [
        "## Method 1: Flling missing entries with 0s\n",
        "def filling_missing(data):\n",
        "    \"\"\"\n",
        "    Fills missing entries in the given data with a specified value.\n",
        "\n",
        "    Parameters:\n",
        "    - data (numpy.array): 3D numpy array with shape (num_samples, seq_len, num_features) containing data entries.\n",
        "    - filling (int or float): The value used to fill missing entries.\n",
        "\n",
        "    Returns:\n",
        "    - numpy.array: Data with missing entries filled using the specified value.\n",
        "    \"\"\"\n",
        "    #write code here ..."
      ],
      "execution_count": 0,
      "outputs": []
    },
    {
      "cell_type": "markdown",
      "id": "Oum7HOGNaCdpRyXj9STu9",
      "metadata": {},
      "source": [
        "\n",
        "---\n",
        "**Task 2 (medium): Mean imputer👩‍💻**\n",
        "Implement the `mean_imputer`\n",
        " function below. The function should contain:\n",
        "- Extract `data`\n",
        " shape and create a copy, `imputed_data`\n",
        ", for imputation.\n",
        "\n",
        "- Loop through each feature in `imputed_data`\n",
        ".\n",
        "\n",
        "- Compute the mean, identify `np.nan`\n",
        " indices, and replace them with the mean.\n",
        "\n",
        "- Ensure `imputed_data`\n",
        " is returned, with all `np.nan`\n",
        " entries imputed.\n",
        "\n",
        "\n",
        "\n",
        "---"
      ]
    },
    {
      "cell_type": "code",
      "id": "t20PHUjBjZ_YfRZh-7ssM",
      "metadata": {},
      "source": [
        "## Method 2: Mean impute\n",
        "def mean_imputer(data):\n",
        "    \"\"\"\n",
        "    Imputes missing entries in the given data using the mean value of the features.\n",
        "\n",
        "    Parameters:\n",
        "    - data (numpy.array): 3D numpy array with shape (num_samples, sequence_len, num_features) containing data entries.\n",
        "\n",
        "    Returns:\n",
        "    - numpy.array: Data with missing entries imputed using the mean value.\n",
        "    \"\"\"\n",
        "    #write code here ..."
      ],
      "execution_count": 0,
      "outputs": []
    },
    {
      "cell_type": "markdown",
      "id": "l17gvOUbcWuz73K_JofVY",
      "metadata": {},
      "source": [
        "\n",
        "---\n",
        "**Task 3 (hard): Temporal interpolation _(optional)_👩‍💻**\n",
        "Implementing the `time_series_interpolation`\n",
        " Function: A Stepwise Exercise,   - Define the function `time_series_interpolation(data)`\n",
        " with `data`\n",
        " as a 3D numpy array input.\n",
        "- Extract the shape of `data`\n",
        " and create a copy named `interpolated_data`\n",
        " to perform operations without altering the original data.\n",
        "\n",
        "- Implement nested for-loops to iterate through each sample (i) and each feature (j) in `interpolated_data`\n",
        ".\n",
        "\n",
        "- Inside the nested loops:\n",
        "    - Retrieve the time series sequence for the current sample and feature.\n",
        "    - Handle cases for the first element being `np.nan`\n",
        " by finding the next available value in the sequence and imputing the `np.nan`\n",
        " using a suitable replacement logic.\n",
        "    - Iterate through the time series (k), locating `np.nan`\n",
        " entries, and implementing logic to interpolate values, ensuring handling of consecutive `np.nan`\n",
        " entries.\n",
        "    - Account for the scenario where the last element is `np.nan`\n",
        ", replacing it with the second-to-last element.\n",
        "\n",
        "\n",
        "- Have the function return `interpolated_data`\n",
        " with all `np.nan`\n",
        " entries interpolated.\n",
        "\n",
        "\n",
        "\n",
        "---"
      ]
    },
    {
      "cell_type": "code",
      "id": "r-nJL55XvcxlyzIV5NqNM",
      "metadata": {},
      "source": [
        "## Mehtod 3:Temporal approach\n",
        "def time_series_interpolation(data):\n",
        "    \"\"\"\n",
        "    Performs time series interpolation to fill missing entries in the given data.\n",
        "\n",
        "    Parameters:\n",
        "    - data (numpy.array): 3D numpy array with shape (num_samples, sequence_len, num_features) containing data entries.\n",
        "\n",
        "    Returns:\n",
        "    - numpy.array: Data with missing entries filled using time series interpolation.\n",
        "    \"\"\"\n",
        "    #write code here ..."
      ],
      "execution_count": 0,
      "outputs": []
    },
    {
      "cell_type": "markdown",
      "id": "_TH9mSBUrj5JcJ4hXqxq2",
      "metadata": {},
      "source": [
        "### Apply and evaluate approaches\n",
        "#### Error function (MSE)\n",
        "The function  `MSE`\n",
        " that find the mean squared error between the adjusted and ground truth data.\n",
        "- the MSE can be averaged across different dimensions of the skeleton pose data array such that average loss across each step of the time seqeunce ('Temporal') or the loss across each joints/features ('Joint') is calculated.\n",
        ""
      ]
    },
    {
      "cell_type": "code",
      "id": "dtBf1JQ6cH1Ml6Gpb7h-Z",
      "metadata": {},
      "source": [
        "def MSE(Noisy,GT,avg='Temporal'):\n",
        "    loss = (Noisy - GT) ** 2\n",
        "    if avg=='Temporal':\n",
        "        loss = loss.mean(axis=(0,2))\n",
        "    elif avg == \"Joint\":\n",
        "        loss = loss.mean(axis=(0,1))\n",
        "    else:\n",
        "        loss  = loss.mean()\n",
        "    return loss"
      ],
      "execution_count": 0,
      "outputs": []
    },
    {
      "cell_type": "markdown",
      "id": "N2pyTVT1-9X1MymnI-bv9",
      "metadata": {},
      "source": [
        "\n",
        "---\n",
        "**Task 4 (easy): Adjust data and evaluate👩‍💻**\n",
        "Evaluate the performance of each imputation approach by comparing the adjusted data to the ground truth seqeunces using the `MSE`\n",
        " function. The task is done in the following steps.\n",
        "1. Adjust the noisy data with an imputation method.\n",
        "2. Calculate the _mean squared error_ between the adjusted and ground truth poses, by using the function `MSE`\n",
        ". \n",
        "3. Repeat for the remaining methods.\n",
        "\n",
        "\n",
        "---"
      ]
    },
    {
      "cell_type": "code",
      "id": "ZE61RRyWiEUn1NVn53Ymt",
      "metadata": {},
      "source": [
        "### Apply the 3 missing data measures to the noisy data and calculate their respective MSE\n",
        "##example\n",
        "#adjusted_data1 =  filling_missing(Noisy_poses)\n",
        "#error1 = MSE(adjusted_data1,GT_poses,avg='None')\n",
        "#print(f'The MSE of the data adjusted with filling in zeros: {error1}')"
      ],
      "execution_count": 0,
      "outputs": []
    },
    {
      "cell_type": "markdown",
      "id": "8bHOCwVA_tYAuEY7nmPkq",
      "metadata": {},
      "source": [
        "### Plotting\n",
        "#### Plot error distances\n",
        "In the cell below, the MSE is plotted between the ground truth and adjusted poses, averaging both over the joints and the temporal sequence.\n",
        ""
      ]
    },
    {
      "cell_type": "code",
      "id": "JNzZ_M0Kk5qnJP3Jb-WJK",
      "metadata": {},
      "source": [
        "## Your should only run this cell after completing the exercise above\n",
        "Dist1 = MSE(adjusted_data3,GT_poses)\n",
        "plt.figure(figsize=(20,10))\n",
        "plt.title('Distance Pose seqeunce')\n",
        "plt.subplot(2,1,1)\n",
        "plt.bar(np.arange(len(Dist1)), Dist1, align='center',label='Temporal Distance')\n",
        "plt.legend()\n",
        "plt.subplot(2,1,2)\n",
        "Dist2 = MSE(adjusted_data3,GT_poses,avg='Joint')\n",
        "plt.bar(np.arange(len(Dist2)), Dist2, align='center',color='green',label='Joint Distance')\n",
        "plt.legend();"
      ],
      "execution_count": 0,
      "outputs": []
    },
    {
      "cell_type": "markdown",
      "id": "7cTtzHQFqUbXdEXGLz4z0",
      "metadata": {},
      "source": [
        "#### Plotting GT, noisy and adjusted poses\n",
        ""
      ]
    },
    {
      "cell_type": "code",
      "id": "wPDepGfkn6_BqeBF0e_nS",
      "metadata": {},
      "source": [
        "## Your should only run this cell after completing the exercise above\n",
        "## Plot a random single sequence of the noisy, ground truth and adjusted skeleton data.\n",
        "np.random.seed(42)\n",
        "sample = np.random.randint(0,200)\n",
        "plot_single_sequence(GT_poses[sample],pose_name='GT',color='blue')\n",
        "plot_single_sequence(Noisy_poses[sample],pose_name='Noisy poses',color='red')\n",
        "plot_single_sequence(adjusted_data3[sample],pose_name='Adjusted poses',color='green')"
      ],
      "execution_count": 0,
      "outputs": []
    },
    {
      "cell_type": "markdown",
      "id": "oqaw-bmWBaKa5jJUW7ow0",
      "metadata": {},
      "source": [
        "\n",
        "---\n",
        "**Task 5 (medium): Method comparison💡**\n",
        "Analyze the mean squared error (MSE), and inspect the adjusted pose sequences for each missing data approach and discuss the advantages and disadvantages of each method.\n",
        "\n",
        "---"
      ]
    },
    {
      "cell_type": "code",
      "id": "oQxcNIH0-kOZ1oIRjQOBg",
      "metadata": {},
      "source": [
        "# Write your answers here"
      ],
      "execution_count": 0,
      "outputs": []
    },
    {
      "cell_type": "markdown",
      "id": "vetFuTcDxnn7uHm2ex2T7",
      "metadata": {},
      "source": [
        "### Descriptive statistics for evaluating imputation method\n",
        "As a final step, we need to evaluate how the missing value imputation procedure affects the statistical properties of the data. Specifically, we will focus on the mean and the covariance of both the original and the imputed poses.\n",
        "\n",
        "---\n",
        "**Task 6 (medium): Mean pose and pose sequence👩‍💻💡**\n",
        "The cell below contains code for plotting the original mean pose sequence. First run the cell, then modify the code to:\n",
        "- Plot the mean sequence after filling in the missing values with zeros.\n",
        "- Compare the two plots. Do you observe any differences? If yes, what could be the reason behind these differences and what insights can they provide regarding the characteristics of the mean?\n",
        "- Plot the mean pose (not a sequence of poses, but a single pose) for the ground truth data and for the imputed datasets as well. Do you observe any differences between the mean pose (or the scale of the pose) in any of the plots?\n",
        "- Based on the way in which the mean is calculated, is the mean sequence of poses or the mean pose more affected by the imputation process for missing data?\n",
        "\n",
        "\n",
        "---"
      ]
    },
    {
      "cell_type": "code",
      "id": "cwm9cQ8F7WbFvtSzYnQsp",
      "metadata": {},
      "source": [
        "## Plotting the mean sequence\n",
        "plot_single_sequence(GT_poses.mean(axis=(0)),color='red')\n",
        "\n",
        "# Your solution goes here"
      ],
      "execution_count": 0,
      "outputs": []
    },
    {
      "cell_type": "markdown",
      "id": "8rZWScBzfi7mb_jxZcjvX",
      "metadata": {},
      "source": [
        "In addition to analyzing the data's mean, we also need to investigate how the different imputation methods impact the relationship between variables. The tutorial demonstrated that correlation matrices are useful for quantifying how multiple variables co-vary. Throughout the next task we generate multiple correlation matrices to examine whether the relationship between features/joints is preserved by the way we handled missing data:\n",
        "\n",
        "---\n",
        "**Task 7 (easy): Correlation between features👩‍💻💡**\n",
        "This task is divided into multiple steps, as we need to construct and compare multiple correlation matrices:\n",
        "\n",
        "**Info**\n",
        "In the tutorial the correlation matrix was generated using the corr() function, which is exclusively applicable to Pandas DataFrames. In the current exercises we are working with a Numpy array. The correlation matrix for such an array can be obtained using the np.corrcoef() function.\n",
        "\n",
        "\n",
        "The cell below contains code for pre-processing the ground truth dataset and constructing the correlation matrix:\n",
        "1. Run the code and modify it to obtain a correlation matrix for each of the imputed datasets.\n",
        "2. Compare the correlation matrices:    - Do any of the imputation methods preserve the original relationships between joints?\n",
        "    - Does it have any significance whether the original relationship is preserved?\n",
        "\n",
        "\n",
        "3. Based on the MSE scores, the visual inspection, and the inspection of statistical properties, which imputation method would you chose for the current dataset and why? List at least 5 different reasons for your choice.\n",
        "\n",
        "\n",
        "---"
      ]
    },
    {
      "cell_type": "code",
      "id": "K_BVOfe1ITcr7Yetu71_b",
      "metadata": {},
      "source": [
        "# pre-processing the data: flattening and transposing all of the ground truth poses\n",
        "GT_poses_reshaped = GT_poses.reshape(-1,50)[:].T\n",
        "\n",
        "GT_poses_reshaped_only_x = GT_poses.reshape(-1,50)[:,::2].T\n",
        "GT_poses_reshaped_only_y = GT_poses.reshape(-1,50)[:,1::2].T\n",
        "\n",
        "# Generating the correlation matrix\n",
        "plt.title('Keypoint correlation heatmap plot',fontsize=22)\n",
        "sns.heatmap(np.corrcoef(GT_poses_reshaped),cmap='coolwarm')\n",
        "plt.show()\n",
        "### Only x and only y correlation keypoint plots\n",
        "plt.figure(figsize=(16,6))\n",
        "plt.suptitle('Only 1 coordinate (x or y) keypoint correlation plot',fontsize=30)\n",
        "plt.subplot(1,2,1)\n",
        "sns.heatmap(np.corrcoef(GT_poses_reshaped_only_x),cmap='coolwarm')\n",
        "plt.subplot(1,2,2)\n",
        "sns.heatmap(np.corrcoef(GT_poses_reshaped_only_y),cmap='coolwarm')\n",
        "plt.show();"
      ],
      "execution_count": 0,
      "outputs": []
    },
    {
      "cell_type": "markdown",
      "id": "efr2dTr0TQB5GYQtayx_F",
      "metadata": {},
      "source": [
        ""
      ]
    },
    {
      "cell_type": "code",
      "id": "d34RG2JOsoI1d3ouxla1m",
      "metadata": {},
      "source": [
        "### write reflection here ..."
      ],
      "execution_count": 0,
      "outputs": []
    },
    {
      "cell_type": "markdown",
      "id": "AXp5c_E6DsmQqHS2kHHtS",
      "metadata": {},
      "source": [
        ""
      ]
    }
  ]
}