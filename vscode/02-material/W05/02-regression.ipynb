{
  "metadata": {
    "kernelspec": {
      "display_name": "Python",
      "language": "python3",
      "name": "python3"
    },
    "language_info": {
      "codemirror_mode": {
        "name": "ipython",
        "version": 3
      },
      "file_extension": "py",
      "mimetype": "text/x-python",
      "name": "python"
    }
  },
  "nbformat": 4,
  "nbformat_minor": 5,
  "cells": [
    {
      "cell_type": "code",
      "metadata": {
        "collapsed": null,
        "autoscroll": null,
        "deletable": null,
        "jupyter": {
          "outputs_hidden": null,
          "source_hidden": true
        },
        "format": null,
        "name": null,
        "tags": null
      },
      "source": [
        "import requests\n",
        "from IPython.core.display import HTML\n",
        "HTML(f\"\"\"\n",
        "<style>\n",
        "@import \"https://cdn.jsdelivr.net/npm/bulma@0.9.4/css/bulma.min.css\";\n",
        "</style>\n",
        "\"\"\")"
      ],
      "execution_count": null,
      "outputs": []
    },
    {
      "cell_type": "markdown",
      "metadata": {
        "collapsed": null,
        "autoscroll": null,
        "deletable": null,
        "jupyter": null,
        "format": null,
        "name": null,
        "tags": null
      },
      "source": [
        "# Polynomial regression\n",
        ""
      ]
    },
    {
      "cell_type": "code",
      "metadata": {
        "collapsed": null,
        "autoscroll": null,
        "deletable": null,
        "jupyter": null,
        "format": null,
        "name": null,
        "tags": null
      },
      "source": [
        "import numpy as np\n",
        "from scipy import stats\n",
        "import matplotlib.pyplot as plt"
      ],
      "execution_count": null,
      "outputs": []
    },
    {
      "cell_type": "markdown",
      "metadata": {
        "collapsed": null,
        "autoscroll": null,
        "deletable": null,
        "jupyter": null,
        "format": null,
        "name": null,
        "tags": null
      },
      "source": [
        "In this exercise you will implement a method to estimate the model parameters of  $N$-th order polynomials and use the model to predict the price of a house (in Canadian dollars) based on its lot size (in square feet).\n",
        "Suppose you want to buy a house in the City of Windsor, Canada. You contact a real-estate salesperson to get information about current house prices and receive details on 546 properties sold in Windsor in the last two years. You would like to figure out what the expected cost of a house might be given only the lot size of the house you want to buy. The dataset has an independent variable, `lotsize`\n",
        ", specifying the lot size of a property and a dependent variable, `price`\n",
        ", the sale price of a house. You will train the model on the dataset using polynomial regression.\n",
        "A polynomial _model_ of order $N$ is defined by:\n",
        "\n",
        "$$\n",
        "f_\\mathbf{w}(x) = \\mathbf{w}_0 + \\mathbf{w}_1 x + \\mathbf{w}_2 x^2 + \\dots + \\mathbf{w}_N x^N,\n",
        "$$\n",
        "\n",
        "in which, the coefficients $\\mathbf{w}_i$ are the model parameters. Note that $f_\\mathbf{w}$ is linear with respect to the model parameters, i.e. if $x$ is fixed. Solving for the model parameters can be done by setting up the linear set of equations $A \\mathbf{w} = y$. The full definition is\n",
        "\n",
        "$$\n",
        "\\underbrace{\\begin{bmatrix}\n",
        "    1 & x_1 & x_1^2 & x_1^3 & \\dots & x_1^N \\\\\n",
        "    1 & x_2 & x_2^2 & x_2^3 & \\dots & x_2^N \\\\\n",
        "    1 & x_3 & x_3^2 & x_3^3 & \\dots & x_3^N \\\\\n",
        "    \\vdots & \\vdots & \\vdots & \\vdots & \\ddots & \\vdots \\\\\n",
        "    1 & x_m & x_m^2 & x_m^3 & \\dots & x_m^N\n",
        "\\end{bmatrix}}_A\n",
        "\\times\n",
        "\\underbrace{\\begin{bmatrix}\n",
        "    \\mathbf{w}_0 \\\\\n",
        "    \\mathbf{w}_1 \\\\\n",
        "    \\mathbf{w}_2 \\\\\n",
        "    \\mathbf{w}_3 \\\\\n",
        "    \\vdots \\\\\n",
        "    \\mathbf{w}_N\n",
        "\\end{bmatrix}}_\\mathbf{w}\n",
        "=\n",
        "\\underbrace{\\begin{bmatrix}\n",
        "    y_1 \\\\\n",
        "    y_2 \\\\\n",
        "    y_3 \\\\\n",
        "    \\vdots \\\\\n",
        "    y_m\n",
        "\\end{bmatrix}}_y.\n",
        "$$\n",
        "\n",
        "The _loss_ $\\ell$ for a single prediction is the squared error\n",
        "\n",
        "$$\n",
        "\\ell(\\hat{y}_i, y_i) = (\\hat{y}_i-y_{i})^2,\n",
        "$$\n",
        "\n",
        "where $\\hat{y}_i=f_{\\mathbf{w}}(x_i)$ and $y_i$ is the label.\n",
        "The linear least squares method minimizes the sum of squares. In other words, the parameters $\\mathbf{w}$ can be decided by solving the following optimisation problem:\n",
        "\n",
        "$$\n",
        "\\mathbf{w} = \\underset{\\mathbf{w}}{\\operatorname{argmin}} \\frac{1}{m}\\sum_{i=1}^{m} \\ell(\\hat{y}_i, y_i) \\quad\\quad \\text{(1)}\n",
        "$$\n",
        "\n",
        "In summary, the _model_ $f_w(x)$ is a polynomial in $x$ and the goal is to estimate the coefficients (model parameters $\\mathbf{w}$) that minimize the average squared distance between predictions and labels. Projecting the vector of labels $\\mathbb{y} = \\begin{bmatrix} y_1\\\\y_2\\\\\\vdots\\\\y_n \\end{bmatrix}$ onto the column space of the design matrix defined by $A$ is equivalent to minimizing the mean squared error in Equation 1.\n",
        "## Data exploration\n",
        "The following cell loads the dataset and visualizes the data:\n",
        ""
      ]
    },
    {
      "cell_type": "code",
      "metadata": {
        "collapsed": null,
        "autoscroll": null,
        "deletable": null,
        "jupyter": null,
        "format": null,
        "name": null,
        "tags": null
      },
      "source": [
        "filename = \"./data/simple_windsor.csv\"\n",
        "names = [\"lotsize\", \"price\"]\n",
        "dataset = np.loadtxt(filename, delimiter=',').astype(np.int64)\n",
        "\n",
        "X_full, y_full = dataset.T\n",
        "\n",
        "plt.scatter(X_full, y_full)\n",
        "plt.xlabel('Lot size')\n",
        "plt.ylabel('House price');"
      ],
      "execution_count": null,
      "outputs": []
    },
    {
      "cell_type": "markdown",
      "metadata": {
        "collapsed": null,
        "autoscroll": null,
        "deletable": null,
        "jupyter": null,
        "format": null,
        "name": null,
        "tags": null
      },
      "source": [
        "The visualisation says a lot about the data.\n",
        "\n",
        "---\n",
        "**Task 1 (easy): Questions💡**\n",
        "Notice the large spread in house prices for relatively similar lot sizes (vertically). \n",
        "1. In the cell below, list at least three reasons for the house price variability given the lot size.\n",
        "\n",
        "\n",
        "---\n",
        ""
      ]
    },
    {
      "cell_type": "code",
      "metadata": {
        "collapsed": null,
        "autoscroll": null,
        "deletable": null,
        "jupyter": null,
        "format": null,
        "name": null,
        "tags": null
      },
      "source": [
        "## Write reasons here"
      ],
      "execution_count": null,
      "outputs": []
    },
    {
      "cell_type": "markdown",
      "metadata": {
        "collapsed": null,
        "autoscroll": null,
        "deletable": null,
        "jupyter": null,
        "format": null,
        "name": null,
        "tags": null
      },
      "source": [
        "### Splitting into train and test data\n",
        "The next cell splits the dataset into $80\\%$ training data and $20\\%$ test data using the _Scikit Learn_ library:\n",
        ""
      ]
    },
    {
      "cell_type": "code",
      "metadata": {
        "collapsed": null,
        "autoscroll": null,
        "deletable": null,
        "jupyter": null,
        "format": null,
        "name": null,
        "tags": null
      },
      "source": [
        "from sklearn.model_selection import train_test_split\n",
        "\n",
        "X_train, X_test, y_train, y_test = train_test_split(X_full, y_full, test_size=0.2, random_state=42)"
      ],
      "execution_count": null,
      "outputs": []
    },
    {
      "cell_type": "markdown",
      "metadata": {
        "collapsed": null,
        "autoscroll": null,
        "deletable": null,
        "jupyter": null,
        "format": null,
        "name": null,
        "tags": null
      },
      "source": [
        "## Polynomial regression\n",
        "The following exercise will guide you through the steps (1-4) for linear regression\n",
        "1. Define a model, e.g. line or polynomial.\n",
        "2. Identitfy knowns and uknowns.\n",
        "3. Construct the design matrix $A$ for the input dataset (see the `get_design_matrix`\n",
        " function below).\n",
        "4. Estimate the model parameters using linear least squares ([Task 2](#estimate)).\n",
        "\n",
        "The function `get_design_matrix`\n",
        " (defined in the cell below) creates design matrices for polynomials of order $N$.\n",
        ""
      ]
    },
    {
      "cell_type": "code",
      "metadata": {
        "collapsed": null,
        "autoscroll": null,
        "deletable": null,
        "jupyter": null,
        "format": null,
        "name": null,
        "tags": null
      },
      "source": [
        "def get_design_matrix(x, order=1):\n",
        "    \"\"\"\n",
        "    Get the coefficients of polynomial in a least square sense of order N.\n",
        "    \n",
        "    :param x: Must be numpy array of size (N).\n",
        "    :order n: Order of Polynomial.\n",
        "    \"\"\"\n",
        "    \n",
        "    if order < 1 or x.ndim != 1:\n",
        "        return x\n",
        "\n",
        "    count = x.shape[0]\n",
        "    matrix = np.ones((count, order + 1), np.float64)\n",
        "\n",
        "    for i in range(1, order+1):\n",
        "        matrix[:, i] = x**i\n",
        "\n",
        "    return matrix"
      ],
      "execution_count": null,
      "outputs": []
    },
    {
      "cell_type": "markdown",
      "metadata": {
        "collapsed": null,
        "autoscroll": null,
        "deletable": null,
        "jupyter": null,
        "format": null,
        "name": null,
        "tags": null
      },
      "source": [
        "\n",
        "---\n",
        "**Task 2 (medium): Estimate parameters👩‍💻**\n",
        "Implement the function `estimate(X, y, order)`\n",
        " in the cell below to estimate the model parameters. Use `get_design_matrix(X, order)`\n",
        " to create the design matrix.\n",
        "\n",
        "---\n",
        ""
      ]
    },
    {
      "cell_type": "code",
      "metadata": {
        "collapsed": null,
        "autoscroll": null,
        "deletable": null,
        "jupyter": null,
        "format": null,
        "name": null,
        "tags": null
      },
      "source": [
        "def estimate(X, y, order):\n",
        "    \"\"\"\n",
        "    :param X: Input vector.\n",
        "    :param y: Training data values.\n",
        "    :param order: Order of the model to estimate.\n",
        "    \n",
        "    :return: Parameters of model.\n",
        "    \"\"\"\n",
        "    ..."
      ],
      "execution_count": null,
      "outputs": []
    },
    {
      "cell_type": "markdown",
      "metadata": {
        "collapsed": null,
        "autoscroll": null,
        "deletable": null,
        "jupyter": null,
        "format": null,
        "name": null,
        "tags": null
      },
      "source": [
        "\n",
        "---\n",
        "**Task 3 (easy): Implement linear model👩‍💻**\n",
        "Use the learned model parameters to predict house prices given an input vector $X$ of lot sizes. Implement the prediction function `predict(X, params)`\n",
        " in the cell below. \n",
        "\n",
        "---\n",
        ""
      ]
    },
    {
      "cell_type": "code",
      "metadata": {
        "collapsed": null,
        "autoscroll": null,
        "deletable": null,
        "jupyter": null,
        "format": null,
        "name": null,
        "tags": null
      },
      "source": [
        "def predict(X, w):\n",
        "    \"\"\"\n",
        "    :param X: Input vector.\n",
        "    :param w: Estimated parameters.\n",
        "    \n",
        "    :return: Predicted y-values.\n",
        "    \"\"\"\n",
        "    ..."
      ],
      "execution_count": null,
      "outputs": []
    },
    {
      "cell_type": "markdown",
      "metadata": {
        "collapsed": null,
        "autoscroll": null,
        "deletable": null,
        "jupyter": null,
        "format": null,
        "name": null,
        "tags": null
      },
      "source": [
        "\n",
        "---\n",
        "**Task 4 (easy): Prediction👩‍💻**\n",
        "In this task you will combine the functions above to learn the model parameters for a polynomial model and use it for making predictions of house prices. Implement the following steps in the code cell below (marked by `#`\n",
        ").\n",
        "1. Estimate model parameters from `X_train`\n",
        " and `y_train`\n",
        ". \n",
        "2. Then calculate the predicted `y`\n",
        "-values for the provided lot-sizes in the variable `values`\n",
        " in the cell below. \n",
        "3. Plot the predicted house prices as a line-plot.\n",
        "\n",
        "\n",
        "---\n",
        ""
      ]
    },
    {
      "cell_type": "code",
      "metadata": {
        "collapsed": null,
        "autoscroll": null,
        "deletable": null,
        "jupyter": null,
        "format": null,
        "name": null,
        "tags": null
      },
      "source": [
        "values = np.linspace(X_full.min(), X_full.max(), 50)\n",
        "\n",
        "# (1) Estimate model parameters\n",
        "\n",
        "# (2) Evaluate model\n",
        "\n",
        "plt.scatter(X_train, y_train)\n",
        "\n",
        "# (3) Plot predicted values"
      ],
      "execution_count": null,
      "outputs": []
    },
    {
      "cell_type": "markdown",
      "metadata": {
        "collapsed": null,
        "autoscroll": null,
        "deletable": null,
        "jupyter": null,
        "format": null,
        "name": null,
        "tags": null
      },
      "source": [
        "\n",
        "---\n",
        "**Task 5 (medium): Order of Polynomial👩‍💻**\n",
        "In this task you will experiment with the order of the polynomial model to investigate performance.\n",
        "1. Increase the order of the polynomial and evaluate the results. Use    1. A $3$th-order polynomial.\n",
        "    2. A $4$th-order polynomial.\n",
        "    3. A $7$th-order polynomial.\n",
        "    4. An $11$th-order polynomial.\n",
        "\n",
        "\n",
        "\n",
        "Observe that the predictions deviate drastically from the actual lot sizes for the $7$th-order polynomial and above. \n",
        "1. Explain why this happens? _Hint: It has to do with the behavior of floating point numbers at extreme values._\n",
        "\n",
        "\n",
        "---\n",
        "The above problem can be solved by normalizing the input vectors. Normalization transforms (scales and translates) a series of input values to the interval $[0, 1]$ by using the minimum and maximum values of the inputs. \n",
        "The cell below provides helper functions for normalizing and denormalising (the inverse transformation) input vectors:\n",
        ""
      ]
    },
    {
      "cell_type": "code",
      "metadata": {
        "collapsed": null,
        "autoscroll": null,
        "deletable": null,
        "jupyter": null,
        "format": null,
        "name": null,
        "tags": null
      },
      "source": [
        "def normalized(X):\n",
        "    n = (X - np.min(X_full))/np.max(X_full)\n",
        "    return n\n",
        "\n",
        "def denormalized(X):\n",
        "    return X*np.max(X_full) + np.min(X_full)"
      ],
      "execution_count": null,
      "outputs": []
    },
    {
      "cell_type": "markdown",
      "metadata": {
        "collapsed": null,
        "autoscroll": null,
        "deletable": null,
        "jupyter": null,
        "format": null,
        "name": null,
        "tags": null
      },
      "source": [
        "\n",
        "---\n",
        "**Task 6 (medium): Higher order polynomials with normalization👩‍💻**\n",
        "In this task you will need to modify the code in [Task 4](#learn). Write your solution in the cell below.\n",
        "1. Normalize the inputs in the variable `X_{train}`\n",
        " using `normalized`\n",
        " from the cell above. \n",
        "2. Re-train the model parameters using the normalized inputs. Use $3.$, $4.$, and $7.$ order polynomials as done in [Task 4](#learn).\n",
        "3. Plot the results.\n",
        "\n",
        "\n",
        "---\n",
        ""
      ]
    },
    {
      "cell_type": "code",
      "metadata": {
        "collapsed": null,
        "autoscroll": null,
        "deletable": null,
        "jupyter": null,
        "format": null,
        "name": null,
        "tags": null
      },
      "source": [
        "values = np.linspace(X_full.min(), X_full.max(), 50)\n",
        "\n",
        "# (1) Normalize the inputs\n",
        "X_normalized = normalized(X_train)\n",
        "\n",
        "# (2) Estimate parameters and predict y-values\n",
        "\n",
        "plt.scatter(X_train, y_train, c=\"g\")\n",
        "\n",
        "# (3) Plot predicted values"
      ],
      "execution_count": null,
      "outputs": []
    },
    {
      "cell_type": "markdown",
      "metadata": {
        "collapsed": null,
        "autoscroll": null,
        "deletable": null,
        "jupyter": null,
        "format": null,
        "name": null,
        "tags": null
      },
      "source": [
        "\n",
        "---\n",
        "**Task 7 (medium): Normalization improvement💡**\n",
        "How much did the results improve for the different model orders? Explain why normalization achieves better performance. Write your answer in the cell below\n",
        "\n",
        "---\n",
        ""
      ]
    },
    {
      "cell_type": "code",
      "metadata": {
        "collapsed": null,
        "autoscroll": null,
        "deletable": null,
        "jupyter": null,
        "format": null,
        "name": null,
        "tags": null
      },
      "source": [
        "# Write your answer here"
      ],
      "execution_count": null,
      "outputs": []
    },
    {
      "cell_type": "markdown",
      "metadata": {
        "collapsed": null,
        "autoscroll": null,
        "deletable": null,
        "jupyter": null,
        "format": null,
        "name": null,
        "tags": null
      },
      "source": [
        "## Evaluation\n",
        "The final step is to evaluate the models using the _root mean squarred error_ on unseen data (test data). The errors of the fitted models will be used to decide which model appears to be preferable.\n",
        "The _root mean squared error_ is used because it calculates the average error in the same units as the house prices and is given by: \n",
        "\n",
        "$$\n",
        " \\sqrt{\\frac{1}{m}\\sum_{i=1}^{m}(f_{\\mathbf{w}}(x_{i})-y_{i})^2}\n",
        "$$\n",
        "\n",
        "\n",
        "---\n",
        "**Task 8 (easy): Error calculation👩‍💻**\n",
        "Implement the _root mean squared error_ in the `rmse`\n",
        " function below using the steps:\n",
        "1. Normalize the `X`\n",
        " values using the `normalized`\n",
        " function\n",
        "2. Predict the prices using the normalized `X`\n",
        " values and model parameters `w`\n",
        "\n",
        "3. Calculate and return the _root mean squared error_ of the predicted values\n",
        "\n",
        "\n",
        "---\n",
        ""
      ]
    },
    {
      "cell_type": "code",
      "metadata": {
        "collapsed": null,
        "autoscroll": null,
        "deletable": null,
        "jupyter": null,
        "format": null,
        "name": null,
        "tags": null
      },
      "source": [
        "def rmse(X, y, w):\n",
        "    ..."
      ],
      "execution_count": null,
      "outputs": []
    },
    {
      "cell_type": "markdown",
      "metadata": {
        "collapsed": null,
        "autoscroll": null,
        "deletable": null,
        "jupyter": null,
        "format": null,
        "name": null,
        "tags": null
      },
      "source": [
        "\n",
        "---\n",
        "**Task 9 (easy): Model evaluation👩‍💻**\n",
        "In this task you will implement the function `evaluate_models`\n",
        " which must evaluate polynomial models of order 1 to 19 using the _root mean squared error_.  Your implementation should start at the `# Add code here`\n",
        " comment and do these steps\n",
        "1. Estimate the model parameters using the `estimate`\n",
        " function.\n",
        "2. Calculate the _root mean squared error_ of the train and test datasets, respectively.\n",
        "\n",
        "\n",
        "---\n",
        ""
      ]
    },
    {
      "cell_type": "code",
      "metadata": {
        "collapsed": null,
        "autoscroll": null,
        "deletable": null,
        "jupyter": null,
        "format": null,
        "name": null,
        "tags": null
      },
      "source": [
        "def evaluate_models():\n",
        "    \"\"\"Calculates the RMS error for both training and test data for models with polynomial orders \n",
        "    from 1 to 19.\n",
        "    \n",
        "    Returns: (train losses, test losses)\n",
        "    \"\"\"\n",
        "    losses_train = []\n",
        "    losses_test = []\n",
        "    for order in range(1, 19):\n",
        "        # Add code here\n",
        "        # first, estimate parameters\n",
        "        rmse_train = ...\n",
        "        rmse_test = ...\n",
        "        losses_train.append(rmse_train)\n",
        "        losses_test.append(rmse_test)\n",
        "    return losses_train, losses_test"
      ],
      "execution_count": null,
      "outputs": []
    },
    {
      "cell_type": "markdown",
      "metadata": {
        "collapsed": null,
        "autoscroll": null,
        "deletable": null,
        "jupyter": null,
        "format": null,
        "name": null,
        "tags": null
      },
      "source": [
        "\n",
        "---\n",
        "**Task 10 (easy): Plotting results👩‍💻**\n",
        "1. Plot the training and test losses in the cell below. \n",
        "2. Explain why the test and train losses behave differently as the order of the polynomial increases.\n",
        "3. What could be the consequence of using these models given that they have these properties. \n",
        "\n",
        "\n",
        "---\n",
        ""
      ]
    },
    {
      "cell_type": "code",
      "metadata": {
        "collapsed": null,
        "autoscroll": null,
        "deletable": null,
        "jupyter": null,
        "format": null,
        "name": null,
        "tags": null
      },
      "source": [
        "# Write your solution here"
      ],
      "execution_count": null,
      "outputs": []
    },
    {
      "cell_type": "markdown",
      "metadata": {
        "collapsed": null,
        "autoscroll": null,
        "deletable": null,
        "jupyter": null,
        "format": null,
        "name": null,
        "tags": null
      },
      "source": [
        "\n",
        "---\n",
        "**Task 11 (medium): Reflection💡**\n",
        "Explain whether it is possible and fair to improve the test loss to an arbitrarily low value using a different model or not.\n",
        "\n",
        "---\n",
        ""
      ]
    },
    {
      "cell_type": "code",
      "metadata": {
        "collapsed": null,
        "autoscroll": null,
        "deletable": null,
        "jupyter": null,
        "format": null,
        "name": null,
        "tags": null
      },
      "source": [
        "# Write your answers here"
      ],
      "execution_count": null,
      "outputs": []
    }
  ]
}