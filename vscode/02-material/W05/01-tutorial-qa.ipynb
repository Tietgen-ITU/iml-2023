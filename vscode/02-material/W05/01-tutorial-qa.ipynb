{
  "cells": [
    {
      "cell_type": "code",
      "execution_count": 1,
      "metadata": {
        "autoscroll": null,
        "collapsed": null,
        "deletable": null,
        "format": null,
        "jupyter": {
          "outputs_hidden": null,
          "source_hidden": true
        },
        "name": null,
        "tags": null
      },
      "outputs": [
        {
          "data": {
            "text/html": [
              "\n",
              "<style>\n",
              "@import \"https://cdn.jsdelivr.net/npm/bulma@0.9.4/css/bulma.min.css\";\n",
              "</style>\n"
            ],
            "text/plain": [
              "<IPython.core.display.HTML object>"
            ]
          },
          "execution_count": 1,
          "metadata": {},
          "output_type": "execute_result"
        }
      ],
      "source": [
        "import requests\n",
        "from IPython.core.display import HTML\n",
        "HTML(f\"\"\"\n",
        "<style>\n",
        "@import \"https://cdn.jsdelivr.net/npm/bulma@0.9.4/css/bulma.min.css\";\n",
        "</style>\n",
        "\"\"\")"
      ]
    },
    {
      "cell_type": "markdown",
      "metadata": {
        "autoscroll": null,
        "collapsed": null,
        "deletable": null,
        "format": null,
        "jupyter": null,
        "name": null,
        "tags": null
      },
      "source": [
        "# Experimenting with the tutorial\n",
        "The following exercises and questions are related to this week's tutorial\n",
        ". \n",
        "The individual tasks will ask you to either reflect on parts of the tutorial or modify specific code cells.\n",
        "<article class=\"message\">\n",
        "    <div class=\"message-body\">\n",
        "        <strong>List of tasks</strong>\n",
        "        <ul style=\"list-style: none;\">\n",
        "            <li>\n",
        "            <a href=\"#copy\">Task 1: Notebook copy</a>\n",
        "            </li><li>\n",
        "            <a href=\"#project\">Task 2: Projection experiments</a>\n",
        "            </li><li>\n",
        "            <a href=\"#ls\">Task 3: Linear Least Squares Experimen…</a>\n",
        "            </li><li>\n",
        "            <a href=\"#poly\">Task 4: Second-order polynomial</a>\n",
        "            </li><li>\n",
        "            <a href=\"#pmatrix\">Task 5: Projection matrix</a>\n",
        "            </li>\n",
        "        </ul>\n",
        "    </div>\n",
        "</article>\n",
        "## Experiments for the tutorial notebook\n",
        "[Task 2](#project) and [Task 3](#ls) require you to modify the code of your copy of the tutorial notebook\n",
        ". \n",
        "Before each task, try to anticipate the outcome of the task before implementing it.\n",
        "\n",
        "---\n",
        "**Task 1 (easy): Notebook copy _(optional)_**\n",
        "Copy the tutorial notebook\n",
        " in the repository. \n",
        "This makes it easy to go back to the original in case something goes wrong.\n",
        "\n",
        "---\n"
      ]
    },
    {
      "cell_type": "code",
      "execution_count": 2,
      "id": "b3e12b98",
      "metadata": {},
      "outputs": [],
      "source": [
        "# importing libraries\n",
        "import numpy as np\n",
        "import matplotlib.pyplot as plt"
      ]
    },
    {
      "cell_type": "code",
      "execution_count": 4,
      "id": "6d577196",
      "metadata": {},
      "outputs": [
        {
          "data": {
            "image/png": "[encoded data removed]",
            "text/plain": [
              "<Figure size 640x480 with 1 Axes>"
            ]
          },
          "metadata": {},
          "output_type": "display_data"
        }
      ],
      "source": [
        "# Three points\n",
        "X = np.array([\n",
        "    [1, 2],\n",
        "    [2, 1.5],\n",
        "    [3, 1.2]\n",
        "]).T\n",
        "\n",
        "# Show plot\n",
        "plt.scatter(X[0, :], X[1, :], c=\"r\")\n",
        "\n",
        "# Make line points (remember Numpy broadcasting)\n",
        "x = np.linspace(0, 4)\n",
        "f_x = x * 0.5\n",
        "\n",
        "# Plot line\n",
        "plt.plot(x, f_x);"
      ]
    },
    {
      "cell_type": "code",
      "execution_count": 5,
      "id": "83429b2f",
      "metadata": {},
      "outputs": [
        {
          "name": "stdout",
          "output_type": "stream",
          "text": [
            "P:\n",
            " [[0.8 0.4]\n",
            " [0.4 0.2]]\n",
            "projected points:\n",
            " [[1.6  2.2  2.88]\n",
            " [0.8  1.1  1.44]]\n"
          ]
        }
      ],
      "source": [
        "##1\n",
        "#The line l written as the design matrix\n",
        "A = np.array([[1, 0.5]]).T  #  has to be a column vector\n",
        "\n",
        "##2\n",
        "## construct projection matrix\n",
        "P = (A @ np.linalg.inv(A.T @ A)) @ A.T\n",
        "print(\"P:\\n\", P)\n",
        "\n",
        "#projection the points with matrix multiplication\n",
        "x_prime = P @ X\n",
        "print(\"projected points:\\n\", x_prime)"
      ]
    },
    {
      "cell_type": "markdown",
      "id": "645302a4",
      "metadata": {},
      "source": [
        "\n",
        "---\n",
        "**Task 2 (easy): Projection experiments👩‍💻**\n",
        "This task concerns the “Projections” section of the tutorial.\n",
        "1. Identify comment `##1`\n",
        " in the tutorial. \n",
        "2. Modify the line $l$ used in the projection by changing the values of its design matrix $A$ (just below the comment). \n",
        "Experiment with different values and observe how the projection changes in the plot.\n",
        "3. Identify comment `##2`\n",
        " in the tutorial.\n",
        "4. Apply the projection matrix $P$ twice, i.e. calculate $PPX$ (just below the comment). How does this affect the projected points?\n",
        "\n",
        "\n",
        "---\n",
        "\n",
        "---\n",
        "**Task 3 (easy): Linear Least Squares Experiments👩‍💻**\n",
        "This task concerns the “Linear Least Squares” section of the tutorial.\n",
        "1. Identify comment `##3`\n",
        ".\n",
        "2. Change the values of the first point in the matrix `X`\n",
        " such that it gradually moves further and further away from the line. Observe how it affects the error $RMS$.\n",
        "3. Add two points to `X`\n",
        " and observe how they affect the fitted line and the error.    - How can you change the two additional points so the fitted line does not move?\n",
        "\n",
        "\n",
        "4. What happens to the error when removing all but two points from `X`\n",
        "?\n",
        "5. What happens when you remove all but one point from `X`\n",
        "?\n",
        "\n",
        "\n",
        "---\n",
        "## Pen and paper exercises\n",
        "A 2. order polynomial is given by \n",
        "\n",
        "$$f(x) = w_0 + w_1x + w_2x^2 = \\sum^2_{i=0} w_ix^i.$$\n",
        "\n",
        "Generally, an $N$’th order  polynomial is given by\n",
        "\n",
        "$$f(x) = \\sum^N_{i=0} w_ix^i,$$\n",
        "\n",
        "where $\\mathbb{w}$ is a vector of coefficients.\n",
        "\n",
        "---\n",
        "**Task 4 (medium): Second-order polynomial♾️**\n",
        "1. Identify the knowns and unknowns in the polynomial above.\n",
        "2. Is the function linear or non-linear in $\\mathbb{w}$?\n",
        "3. Propose a method for fitting the polynomial using linear least squares.\n",
        "\n",
        "\n",
        "---\n",
        "\n",
        "---\n",
        "**Task 5 (medium): Projection matrix♾️**\n",
        "The projection matrix $P = A(A^\\top A )^{-1}A^\\top$ is, under certain conditions, equal to the identity matrix.\n",
        "1. Give an example of a design matrix $A$ for which $P=I$.\n",
        "2. Explain why projection matrices are usually not identity matrices.\n",
        "3. (optional) Prove a condition for which $P=I$. Hint: when is $A^\\top A=I$?.\n",
        "\n",
        "\n",
        "---\n"
      ]
    },
    {
      "cell_type": "markdown",
      "id": "7d02add5",
      "metadata": {},
      "source": [
        "econd-order polynomial</a>\n",
        "            </li><li>\n",
        "            <a href=\"#pmatrix\">Task 5: Projection matrix</a>\n",
        "            </li>\n",
        "        </ul>\n",
        "    </div>\n",
        "</article>\n",
        "## Experiments for the tutorial notebook\n",
        "[Task 2](#project) and [Task 3](#ls) require you to modify the code of your copy of the tutorial notebook\n",
        ". \n",
        "Before each task, try to anticipate the outcome of the task before implementing it.\n",
        "\n",
        "---\n",
        "**Task 1 (easy): Notebook copy _(optional)_**\n",
        "Copy the tutorial notebook\n",
        " in the repository. \n",
        "This makes it easy to go back to the original in case something goes wrong.\n",
        "\n",
        "---\n",
        "\n",
        "---\n",
        "**Task 2 (easy): Projection experiments👩‍💻**\n",
        "This task concerns the “Projections” section of the tutorial.\n",
        "1. Identify comment `##1`\n",
        " in the tutorial. \n",
        "2. Modify the line $l$ used in the projection by changing the values of its design matrix $A$ (just below the comment). \n",
        "Experiment with different values and observe how the projection changes in the plot.\n",
        "3. Identify comment `##2`\n",
        " in the tutorial.\n",
        "4. Apply the projection matrix $P$ twice, i.e. calculate $PPX$ (just below the comment). How does this affect the projected points?\n",
        "\n",
        "\n",
        "---\n",
        "\n",
        "---\n",
        "**Task 3 (easy): Linear Least Squares Experiments👩‍💻**\n",
        "This task concerns the “Linear Least Squares” section of the tutorial.\n",
        "1. Identify comment `##3`\n",
        ".\n",
        "2. Change the values of the first point in the matrix `X`\n",
        " such that it gradually moves further and further away from the line. Observe how it affects the error $RMS$.\n",
        "3. Add two points to `X`\n",
        " and observe how they affect the fitted line and the error.    - How can you change the two additional points so the fitted line does not move?\n",
        "\n",
        "\n",
        "4. What happens to the error when removing all but two points from `X`\n",
        "?\n",
        "5. What happens when you remove all but one point from `X`\n",
        "?\n",
        "\n",
        "\n",
        "---\n",
        "## Pen and paper exercises\n",
        "A 2. order polynomial is given by \n",
        "\n",
        "$$f(x) = w_0 + w_1x + w_2x^2 = \\sum^2_{i=0} w_ix^i.$$\n",
        "\n",
        "Generally, an $N$’th order  polynomial is given by\n",
        "\n",
        "$$f(x) = \\sum^N_{i=0} w_ix^i,$$\n",
        "\n",
        "where $\\mathbb{w}$ is a vector of coefficients.\n",
        "\n",
        "---\n",
        "**Task 4 (medium): Second-order polynomial♾️**\n",
        "1. Identify the knowns and unknowns in the polynomial above.\n",
        "2. Is the function linear or non-linear in $\\mathbb{w}$?\n",
        "3. Propose a method for fitting the polynomial using linear least squares.\n",
        "\n",
        "\n",
        "---\n",
        "\n",
        "---\n",
        "**Task 5 (medium): Projection matrix♾️**\n",
        "The projection matrix $P = A(A^\\top A )^{-1}A^\\top$ is, under certain conditions, equal to the identity matrix.\n",
        "1. Give an example of a design matrix $A$ for which $P=I$.\n",
        "2. Explain why projection matrices are usually not identity matrices.\n",
        "3. (optional) Prove a condition for which $P=I$. Hint: when is $A^\\top A=I$?.\n",
        "\n",
        "\n",
        "---\n"
      ]
    }
  ],
  "metadata": {
    "kernelspec": {
      "display_name": "Python",
      "language": "python3",
      "name": "python3"
    },
    "language_info": {
      "codemirror_mode": {
        "name": "ipython",
        "version": 3
      },
      "file_extension": ".py",
      "mimetype": "text/x-python",
      "name": "python",
      "nbconvert_exporter": "python",
      "pygments_lexer": "ipython3",
      "version": "3.11.4"
    }
  },
  "nbformat": 4,
  "nbformat_minor": 5
}
