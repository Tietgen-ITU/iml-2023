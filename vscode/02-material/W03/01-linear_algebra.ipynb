{
  "metadata": {
    "kernelspec": {
      "display_name": "Python",
      "language": "python3",
      "name": "python3"
    },
    "language_info": {
      "codemirror_mode": {
        "name": "ipython",
        "version": 3
      },
      "file_extension": "py",
      "mimetype": "text/x-python",
      "name": "python"
    }
  },
  "nbformat": 4,
  "nbformat_minor": 5,
  "cells": [
    {
      "cell_type": "code",
      "id": "css_setup",
      "metadata": {
        "jupyter": {
          "source_hidden": true
        }
      },
      "source": [
        "import requests\n",
        "from IPython.core.display import HTML\n",
        "HTML(f\"\"\"\n",
        "<style>\n",
        "@import \"https://cdn.jsdelivr.net/npm/bulma@0.9.4/css/bulma.min.css\";\n",
        "</style>\n",
        "\"\"\")"
      ],
      "execution_count": 0,
      "outputs": []
    },
    {
      "cell_type": "markdown",
      "id": "iqxF2x7CJBbrhY5NFt2s1",
      "metadata": {},
      "source": [
        "# Linear Algebra using Python and Numpy\n",
        "This exercise introduces fundamental linear algebra operations in Numpy and how to use them to solve linear systems of equations. The goal is to familiarise yourself with the concepts of linear algebra and how to use them in Numpy. The following topics will be covered:\n",
        "- Performing matrix operations (elementwise operations, transpose, multiplication, inverse).\n",
        "- Properties of matrix multiplication and inverse.\n",
        "- Representing linear equations in matrix form.\n",
        "- Solving linear equations using the matrix inverse.\n",
        "\n",
        "\n",
        "<article class=\"message\">\n",
        "    <div class=\"message-body\">\n",
        "        <strong>List of individual tasks</strong>\n",
        "        <ul style=\"list-style: none;\">\n",
        "            <li>\n",
        "            <a href=\"#diff\">Task 1: Elementwise difference</a>\n",
        "            </li>\n",
        "            <li>\n",
        "            <a href=\"#mul_prop\">Task 2: Multiplication properties</a>\n",
        "            </li>\n",
        "            <li>\n",
        "            <a href=\"#elem_mul\">Task 3: Elementwise multiplication</a>\n",
        "            </li>\n",
        "            <li>\n",
        "            <a href=\"#inverses\">Task 4: Inverses</a>\n",
        "            </li>\n",
        "            <li>\n",
        "            <a href=\"#inverse_prop\">Task 5: Inverse properties</a>\n",
        "            </li>\n",
        "            <li>\n",
        "            <a href=\"#determinant\">Task 6: The determinant</a>\n",
        "            </li>\n",
        "            <li>\n",
        "            <a href=\"#transpose\">Task 7: Transpose</a>\n",
        "            </li>\n",
        "            <li>\n",
        "            <a href=\"#eqsys\">Task 8: Solving linear equation systems</a>\n",
        "            </li>\n",
        "            <li>\n",
        "            <a href=\"#matmul\">Task 9: Implementing matrix multiplication</a>\n",
        "            </li>\n",
        "        </ul>\n",
        "    </div>\n",
        "</article>\n",
        "\n",
        "The cell below defines matrices `A`\n",
        ", `B`\n",
        ", `C`\n",
        ", `D`\n",
        ", `E`\n",
        " that are used throughout the exercise:\n",
        ""
      ]
    },
    {
      "cell_type": "code",
      "id": "5yNLHnA5ZKIfdMExuX6EG",
      "metadata": {},
      "source": [
        "import numpy as np\n",
        "import matplotlib.pyplot as plt"
      ],
      "execution_count": 0,
      "outputs": []
    },
    {
      "cell_type": "markdown",
      "id": "rAGKe01WFHdy3ALWXs5x0",
      "metadata": {},
      "source": [
        ""
      ]
    },
    {
      "cell_type": "code",
      "id": "33aceCU1jVlu1D2-Wb0vB",
      "metadata": {},
      "source": [
        "# Define matrices to be used in the tasks:\n",
        "A = np.array([\n",
        "    [1, 0.5, 1/3, 0.25],\n",
        "    [0.5, 1/3, 0.25, 0.2],\n",
        "    [1/3, 0.25, 0.2, 1/6],\n",
        "    [0.25, 0.2, 1/6, 1/7]\n",
        "])\n",
        "\n",
        "B = np.array([\n",
        "    [-16, 15, -14, 13],\n",
        "    [-12, 11, -10, 9],\n",
        "    [-8, 7, -6, 5],\n",
        "    [-4, 3, -2, 1]\n",
        "])\n",
        "\n",
        "C = np.array([\n",
        "    [1, 1/2, 1/3, 1/4],\n",
        "    [1/2, 1/3, 1/4, 1/5],\n",
        "    [1/3, 1/5, 1/7, 1/9],\n",
        "    [1/4, 1/7, 1/8, 1/9],\n",
        "])\n",
        "\n",
        "D = np.array([\n",
        "    [2, 4, 5/2],\n",
        "    [-3/4, 2, 0.25],\n",
        "    [0.25, 0.5, 2]\n",
        "])\n",
        "\n",
        "E = np.array([\n",
        "    [1, -0.5, 3/4],\n",
        "    [3/2, 0.5, -2],\n",
        "    [0.25, 1, 0.5]\n",
        "])\n",
        "\n",
        "D_inv = np.linalg.inv(D)\n",
        "E_inv = np.linalg.inv(E)"
      ],
      "execution_count": 0,
      "outputs": []
    },
    {
      "cell_type": "markdown",
      "id": "xTJkdTgc5B601jtyGs9gj",
      "metadata": {},
      "source": [
        "\n",
        "---\n",
        "**Task 1 (easy): Elementwise difference👩‍💻**\n",
        "1. Calculate $A-B$ in the code cell below.\n",
        "\n",
        "\n",
        "---"
      ]
    },
    {
      "cell_type": "code",
      "id": "6O53kmH4xkXgUCMVo8atb",
      "metadata": {},
      "source": [
        "# Write your solution here"
      ],
      "execution_count": 0,
      "outputs": []
    },
    {
      "cell_type": "markdown",
      "id": "8eWjB8nDgW7vJ8h0hdQs0",
      "metadata": {},
      "source": [
        "\n",
        "---\n",
        "**Task 2 (easy): Multiplication properties👩‍💻**\n",
        "1. Calculate $AC$ and $CA$ in the code cell below. (You may use either [`np.dot`\n",
        "](https://numpy.org/doc/stable/reference/generated/numpy.dot.html<elem-3>.dot)\n",
        " or the `@`\n",
        " operator).\n",
        "2. Explain why the results are different.\n",
        "\n",
        "\n",
        "---"
      ]
    },
    {
      "cell_type": "code",
      "id": "b68QfRFGJFsB6bql97Jc-",
      "metadata": {},
      "source": [
        "# Write your solution here"
      ],
      "execution_count": 0,
      "outputs": []
    },
    {
      "cell_type": "markdown",
      "id": "WtGdsFOLH3yMgVhpTuHBo",
      "metadata": {},
      "source": [
        "\n",
        "---\n",
        "**Task 3 (easy): Elementwise multiplication👩‍💻**\n",
        "1. Calculate the elementwise multiplication of $A$ and $C$ using the `*`\n",
        " operator.\n",
        "2. Explain the difference between the `*`\n",
        " and `@`\n",
        " operators.\n",
        "\n",
        "\n",
        "---"
      ]
    },
    {
      "cell_type": "code",
      "id": "NkpVmAYBAIXlP0hv-2yxV",
      "metadata": {},
      "source": [
        "# Write your solution here"
      ],
      "execution_count": 0,
      "outputs": []
    },
    {
      "cell_type": "markdown",
      "id": "YKO1gHLD9wRXgCjkjFnQP",
      "metadata": {},
      "source": [
        "\n",
        "---\n",
        "**Task 4 (easy): Inverses👩‍💻**\n",
        "1. Use [`np.linalg.inv`\n",
        "](https://docs.scipy.org/doc/numpy/reference/generated/numpy.linalg.inv.html)\n",
        " to calculate  the inverse of $A$ and $C$.\n",
        "2. Verify that $AA^{-1}=I$ and $CC^{-1}=I$. If the results differ from your expectations, argue why this is the case. _Hint: The question relates to the limitations of floating point numbers._\n",
        "\n",
        "\n",
        "---"
      ]
    },
    {
      "cell_type": "code",
      "id": "miB4PFxiUKYh0BV5G80wc",
      "metadata": {},
      "source": [
        "# Write your solution here"
      ],
      "execution_count": 0,
      "outputs": []
    },
    {
      "cell_type": "markdown",
      "id": "7AzRd3LnxKUvy0gyaKX1A",
      "metadata": {},
      "source": [
        "### Properties\n",
        "\n",
        "---\n",
        "**Task 5 (easy): Inverse properties👩‍💻**\n",
        "Use the code cell below to verify that:\n",
        "1. $D^{-1}E^{-1} = (ED)^{-1}$\n",
        "2. $D^{-1}E^{-1} \\neq (DE)^{-1}$\n",
        "\n",
        "\n",
        "---"
      ]
    },
    {
      "cell_type": "code",
      "id": "wV9Yz9F69V46pmE_q0owp",
      "metadata": {},
      "source": [
        "# Write your solution here"
      ],
      "execution_count": 0,
      "outputs": []
    },
    {
      "cell_type": "markdown",
      "id": "cEkq09CVjwccfmgEQOssN",
      "metadata": {},
      "source": [
        "\n",
        "---\n",
        "**Task 6 (easy): The determinant👩‍💻**\n",
        "1. Calculate the determinant of $A$, $B$, and $C$ using [`np.linalg.det`\n",
        "](https://numpy.org/doc/stable/reference/generated/numpy.linalg.det.html<elem-4>.linalg.det)\n",
        ".\n",
        "2. Based on the results, determine which of the matrices have an inverse.\n",
        "3. Calculate the inverses of the matrices using [`np.linalg.inv`\n",
        "](https://numpy.org/doc/stable/reference/generated/numpy.linalg.inv.html<elem-6>.linalg.inv)\n",
        ". Explain what happens and how this is related to your answer in (2).\n",
        "\n",
        "\n",
        "---"
      ]
    },
    {
      "cell_type": "code",
      "id": "A1-_FhPMr9Wm0fZZWQhQe",
      "metadata": {},
      "source": [
        "# Write your solution here"
      ],
      "execution_count": 0,
      "outputs": []
    },
    {
      "cell_type": "markdown",
      "id": "8PGL2w33c_7MGk5F32eKW",
      "metadata": {},
      "source": [
        "\n",
        "---\n",
        "**Task 7 (easy): Transpose👩‍💻**\n",
        "1. Verify that $(D^{-1})^\\top$ and ${D^\\top}^{-1}$ are equal.\n",
        "\n",
        "\n",
        "**Hint**\n",
        "The transpose of a matrix `A`\n",
        " in Numpy can be calculated with `A.T`\n",
        ".\n",
        "\n",
        "\n",
        "---"
      ]
    },
    {
      "cell_type": "code",
      "id": "N9GMm-4qy0cQOhgb7KXBG",
      "metadata": {},
      "source": [
        "# Write your solution here"
      ],
      "execution_count": 0,
      "outputs": []
    },
    {
      "cell_type": "markdown",
      "id": "MJM-_OKxUCUCLaLI-8XeO",
      "metadata": {},
      "source": [
        "## Linear equations\n",
        "Matrices can represent systems of linear equations\n",
        "\n",
        "$$\n",
        "Ax=b\n",
        "$$\n",
        "where $A$ is the coefficient matrix, $x$ vector of unknowns, and $b$ is a vector of the dependent variables.\n",
        "A solution can be found using\n",
        "\n",
        "$$\n",
        "\\begin{align*}\n",
        "A^{-1}Ax&=A^{-1}b\\\\\n",
        "x &= A^{-1}b.\n",
        "\\end{align*}\n",
        "$$\n",
        "\n",
        "---\n",
        "**Task 8 (medium): Solving linear equation systems👩‍💻**\n",
        "For each of the following sets of linear equations determine whether a unique solution exits. Recall that the determinant \n",
        "can be used to determine whether a matrix has an inverse:\n",
        "a)\n",
        "\n",
        "$$ \n",
        "\\begin{align*}\n",
        "2x + 3y  &= -1\\\\\n",
        "x + y  &= 0\\\\\n",
        "\\end{align*}\n",
        "$$\n",
        "b)\n",
        "\n",
        "$$\n",
        "\\begin{align*}\n",
        "1x + 0y  &= 5\\\\\n",
        "0x + 1y  &= 7\\\\\n",
        "\\end{align*}\n",
        "$$\n",
        "c)\n",
        "\n",
        "$$\n",
        "\\begin{align*}\n",
        "0x + y  &= -1\\\\\n",
        "-2x + -3y  &= 2\\\\\n",
        "\\end{align*}\n",
        "$$\n",
        "d)\n",
        "\n",
        "$$\n",
        "\\begin{align*}\n",
        "x + -3y + 3z &= 0.5\\\\\n",
        "x - 5y + 3z& = 0.5\\\\\n",
        "6z + -6y + 4x &= 1.\n",
        "\\end{align*}\n",
        "$$\n",
        "e)\n",
        "\n",
        "$$\n",
        "\\begin{align*}\n",
        "2x + 3y + 4z &= 2\\\\\n",
        "x + 4z + y &= -2\\\\\n",
        "4z + 5y + 2x &= 3.\n",
        "\\end{align*}\n",
        "$$\n",
        "f)\n",
        "\n",
        "$$\n",
        "\\begin{align*}\n",
        "x + y + z &= 2\\\\\n",
        "2x + 2z + 2y &= -2\\\\\n",
        "3z + 3y + 3x &= 3.\n",
        "\\end{align*}\n",
        "$$\n",
        "\n",
        "---"
      ]
    },
    {
      "cell_type": "code",
      "id": "UO46WUXENd_1iLc1_0KtZ",
      "metadata": {},
      "source": [
        "# Write your solutions here"
      ],
      "execution_count": 0,
      "outputs": []
    },
    {
      "cell_type": "markdown",
      "id": "QlK9BqBMNLjRkIZQi450I",
      "metadata": {},
      "source": [
        "## Matrix multiplication\n",
        "For an $N\\times D$ matrix $A$ and a $D\\times K$ matrix $B$, the \n",
        "matrix multiplication (or matrix product) is a new $N\\times K$ matrix $R$. Elements $R_{ij}$ of $R$ can be calculated \n",
        "using the following formula\n",
        "\n",
        "$$\n",
        "R_{ij} = \\sum_{d=1}^D A_{id}B_{dj}.\n",
        "$$\n",
        "In other words, it is the dot product of the $i$'th row vector of $A$ and the $j$'th column vector of $B$.\n",
        "\n",
        "---\n",
        "**Task 9 (medium): Implementing matrix multiplication _(optional)_👩‍💻**\n",
        "Implement matrix multiplication in the `matmul`\n",
        " function in the code cell below. You may use either Python lists or Numpy arrays, but the intention is to not use Numpy's built-in functions for matrix multiplication (i.e., `np.dot`\n",
        ", `@`\n",
        ", `np.matmul`\n",
        ", etc.). You may, however, use `np.dot`\n",
        " for the purpose of computing the inner product between row and column vectors.\n",
        "\n",
        "**Hint**\n",
        "It might be helpful to calculate the correct result by hand first, to make debugging easier.\n",
        "\n",
        "\n",
        "---"
      ]
    },
    {
      "cell_type": "code",
      "id": "IqDNTZopAv8qFVsguA9to",
      "metadata": {},
      "source": [
        "def matmul(a, b):\n",
        "    # Implement this function\n",
        "    ...\n",
        "    \n",
        "\n",
        "ma = [\n",
        "    [1, 2, 3],\n",
        "    [4, 5, 6],\n",
        "    [7, 8, 9]\n",
        "]\n",
        "\n",
        "mb = [\n",
        "    [5, 4, 9],\n",
        "    [2, 1, 7],\n",
        "    [8, 0, 1]\n",
        "]\n",
        "\n",
        "matmul(ma, mb)"
      ],
      "execution_count": 0,
      "outputs": []
    },
    {
      "cell_type": "markdown",
      "id": "vpqM0wIamlXOjHAqFglqF",
      "metadata": {},
      "source": [
        "---\n",
        ""
      ]
    }
  ]
}