{
  "cells": [
    {
      "cell_type": "code",
      "execution_count": null,
      "metadata": {
        "autoscroll": null,
        "collapsed": null,
        "deletable": null,
        "format": null,
        "jupyter": {
          "source_hidden": true
        },
        "name": null,
        "tags": null
      },
      "outputs": [],
      "source": [
        "import requests\n",
        "from IPython.core.display import HTML\n",
        "HTML(f\"\"\"\n",
        "<style>\n",
        "@import \"https://cdn.jsdelivr.net/npm/bulma@0.9.4/css/bulma.min.css\";\n",
        "</style>\n",
        "\"\"\")"
      ]
    },
    {
      "cell_type": "markdown",
      "metadata": {
        "autoscroll": null,
        "collapsed": null,
        "deletable": null,
        "format": null,
        "jupyter": null,
        "name": null,
        "tags": null
      },
      "source": [
        "# Linear Algebra using Python and Numpy\n",
        "This exercise introduces fundamental linear algebra operations in Numpy and how to use them to solve linear systems of equations. The goal is to familiarise yourself with the concepts of linear algebra and how to use them in Numpy. The following topics will be covered:\n",
        "- Performing matrix operations (elementwise operations, transpose, multiplication, inverse).\n",
        "- Properties of matrix multiplication and inverse.\n",
        "- Representing linear equations in matrix form.\n",
        "- Solving linear equations using the matrix inverse.\n",
        "\n",
        "\n",
        "<article class=\"message\">\n",
        "    <div class=\"message-body\">\n",
        "        <strong>List of individual tasks</strong>\n",
        "        <ul style=\"list-style: none;\">\n",
        "            <li>\n",
        "            <a href=\"#diff\">Task 1: Elementwise difference</a>\n",
        "            </li>\n",
        "            <li>\n",
        "            <a href=\"#mul_prop\">Task 2: Multiplication properties</a>\n",
        "            </li>\n",
        "            <li>\n",
        "            <a href=\"#elem_mul\">Task 3: Elementwise multiplication</a>\n",
        "            </li>\n",
        "            <li>\n",
        "            <a href=\"#inverses\">Task 4: Inverses</a>\n",
        "            </li>\n",
        "            <li>\n",
        "            <a href=\"#inverse_prop\">Task 5: Inverse properties</a>\n",
        "            </li>\n",
        "            <li>\n",
        "            <a href=\"#determinant\">Task 6: The determinant</a>\n",
        "            </li>\n",
        "            <li>\n",
        "            <a href=\"#transpose\">Task 7: Transpose</a>\n",
        "            </li>\n",
        "            <li>\n",
        "            <a href=\"#eqsys\">Task 8: Solving linear equation systems</a>\n",
        "            </li>\n",
        "            <li>\n",
        "            <a href=\"#matmul\">Task 9: Implementing matrix multiplication</a>\n",
        "            </li>\n",
        "        </ul>\n",
        "    </div>\n",
        "</article>\n",
        "\n",
        "The cell below defines matrices `A`\n",
        ", `B`\n",
        ", `C`\n",
        ", `D`\n",
        ", `E`\n",
        " that are used throughout the exercise:\n"
      ]
    },
    {
      "cell_type": "code",
      "execution_count": 3,
      "metadata": {
        "autoscroll": null,
        "collapsed": null,
        "deletable": null,
        "format": null,
        "jupyter": null,
        "name": null,
        "tags": null
      },
      "outputs": [],
      "source": [
        "import numpy as np\n",
        "import matplotlib.pyplot as plt"
      ]
    },
    {
      "cell_type": "markdown",
      "id": "7g0g6esWZ9COxuwrbK8cV",
      "metadata": {},
      "source": [
        ""
      ]
    },
    {
      "cell_type": "code",
      "execution_count": 4,
      "metadata": {
        "autoscroll": null,
        "collapsed": null,
        "deletable": null,
        "format": null,
        "jupyter": null,
        "name": null,
        "tags": null
      },
      "outputs": [],
      "source": [
        "# Define matrices to be used in the tasks:\n",
        "A = np.array([\n",
        "    [1, 0.5, 1/3, 0.25],\n",
        "    [0.5, 1/3, 0.25, 0.2],\n",
        "    [1/3, 0.25, 0.2, 1/6],\n",
        "    [0.25, 0.2, 1/6, 1/7]\n",
        "])\n",
        "\n",
        "B = np.array([\n",
        "    [-16, 15, -14, 13],\n",
        "    [-12, 11, -10, 9],\n",
        "    [-8, 7, -6, 5],\n",
        "    [-4, 3, -2, 1]\n",
        "])\n",
        "\n",
        "C = np.array([\n",
        "    [1, 1/2, 1/3, 1/4],\n",
        "    [1/2, 1/3, 1/4, 1/5],\n",
        "    [1/3, 1/5, 1/7, 1/9],\n",
        "    [1/4, 1/7, 1/8, 1/9],\n",
        "])\n",
        "\n",
        "D = np.array([\n",
        "    [2, 4, 5/2],\n",
        "    [-3/4, 2, 0.25],\n",
        "    [0.25, 0.5, 2]\n",
        "])\n",
        "\n",
        "E = np.array([\n",
        "    [1, -0.5, 3/4],\n",
        "    [3/2, 0.5, -2],\n",
        "    [0.25, 1, 0.5]\n",
        "])\n",
        "\n",
        "D_inv = np.linalg.inv(D)\n",
        "E_inv = np.linalg.inv(E)"
      ]
    },
    {
      "cell_type": "markdown",
      "metadata": {
        "autoscroll": null,
        "collapsed": null,
        "deletable": null,
        "format": null,
        "jupyter": null,
        "name": null,
        "tags": null
      },
      "source": [
        "\n",
        "---\n",
        "**Task 1 (easy): Elementwise difference👩‍💻**\n",
        "1. Calculate $A-B$ in the code cell below.\n",
        "\n",
        "\n",
        "---\n"
      ]
    },
    {
      "cell_type": "code",
      "execution_count": 5,
      "metadata": {
        "autoscroll": null,
        "collapsed": null,
        "deletable": null,
        "format": null,
        "jupyter": null,
        "name": null,
        "tags": null
      },
      "outputs": [
        {
          "name": "stdout",
          "output_type": "stream",
          "text": [
            "[[ 17.         -14.5         14.33333333 -12.75      ]\n",
            " [ 12.5        -10.66666667  10.25        -8.8       ]\n",
            " [  8.33333333  -6.75         6.2         -4.83333333]\n",
            " [  4.25        -2.8          2.16666667  -0.85714286]]\n"
          ]
        }
      ],
      "source": [
        "# Write your solution here\n",
        "R = A-B\n",
        "print(R)"
      ]
    },
    {
      "cell_type": "markdown",
      "metadata": {
        "autoscroll": null,
        "collapsed": null,
        "deletable": null,
        "format": null,
        "jupyter": null,
        "name": null,
        "tags": null
      },
      "source": [
        "\n",
        "---\n",
        "**Task 2 (easy): Multiplication properties👩‍💻**\n",
        "1. Calculate $AC$ and $CA$ in the code cell below. (You may use either [`np.dot`\n",
        "](https://numpy.org/doc/stable/reference/generated/numpy.dot.html<elem-3>.dot)\n",
        " or the `@`\n",
        " operator).\n",
        "2. Explain why the results are different.\n",
        "\n",
        "\n",
        "---\n"
      ]
    },
    {
      "cell_type": "code",
      "execution_count": 9,
      "metadata": {
        "autoscroll": null,
        "collapsed": null,
        "deletable": null,
        "format": null,
        "jupyter": null,
        "name": null,
        "tags": null
      },
      "outputs": [
        {
          "name": "stdout",
          "output_type": "stream",
          "text": [
            "[[1.42361111 0.76904762 0.53720238 0.41481481]\n",
            " [0.8        0.43968254 0.31071429 0.24166667]\n",
            " [0.56666667 0.31380952 0.22301587 0.17407407]\n",
            " [0.44126984 0.24540816 0.175      0.13689153]]\n",
            "[[1.42361111 0.8        0.56666667 0.44126984]\n",
            " [0.8        0.46361111 0.33333333 0.26190476]\n",
            " [0.50873016 0.29126984 0.20820106 0.16301587]\n",
            " [0.39087302 0.22609127 0.16256614 0.12777778]]\n",
            "\n",
            "They are different because the multiplication of the column and rows changes \n",
            "      \n"
          ]
        }
      ],
      "source": [
        "# Write your solution here\n",
        "ac = np.dot(A,C)\n",
        "ca = np.dot(C,A)\n",
        "print(ac)\n",
        "print(ca)\n",
        "print(\"\"\"\n",
        "They are different because the multiplication of the column and rows changes \n",
        "      \"\"\")\n"
      ]
    },
    {
      "cell_type": "markdown",
      "metadata": {
        "autoscroll": null,
        "collapsed": null,
        "deletable": null,
        "format": null,
        "jupyter": null,
        "name": null,
        "tags": null
      },
      "source": [
        "\n",
        "---\n",
        "**Task 3 (easy): Elementwise multiplication👩‍💻**\n",
        "1. Calculate the elementwise multiplication of $A$ and $C$ using the `*`\n",
        " operator.\n",
        "2. Explain the difference between the `*`\n",
        " and `@`\n",
        " operators.\n",
        "\n",
        "\n",
        "---\n"
      ]
    },
    {
      "cell_type": "code",
      "execution_count": null,
      "metadata": {
        "autoscroll": null,
        "collapsed": null,
        "deletable": null,
        "format": null,
        "jupyter": null,
        "name": null,
        "tags": null
      },
      "outputs": [],
      "source": [
        "# Write your solution here"
      ]
    },
    {
      "cell_type": "markdown",
      "metadata": {
        "autoscroll": null,
        "collapsed": null,
        "deletable": null,
        "format": null,
        "jupyter": null,
        "name": null,
        "tags": null
      },
      "source": [
        "\n",
        "---\n",
        "**Task 4 (easy): Inverses👩‍💻**\n",
        "1. Use [`np.linalg.inv`\n",
        "](https://docs.scipy.org/doc/numpy/reference/generated/numpy.linalg.inv.html)\n",
        " to calculate  the inverse of $A$ and $C$.\n",
        "2. Verify that $AA^{-1}=I$ and $CC^{-1}=I$. If the results differ from your expectations, argue why this is the case. _Hint: The question relates to the limitations of floating point numbers._\n",
        "\n",
        "\n",
        "---\n"
      ]
    },
    {
      "cell_type": "code",
      "execution_count": 11,
      "metadata": {
        "autoscroll": null,
        "collapsed": null,
        "deletable": null,
        "format": null,
        "jupyter": null,
        "name": null,
        "tags": null
      },
      "outputs": [
        {
          "name": "stdout",
          "output_type": "stream",
          "text": [
            "[[ 1.00000000e+00  0.00000000e+00  0.00000000e+00  1.13686838e-13]\n",
            " [-1.33226763e-16  1.00000000e+00 -2.38919995e-14  5.38236122e-14]\n",
            " [ 2.47949809e-15 -3.44909286e-14  1.00000000e+00 -2.59052039e-14]\n",
            " [-4.12368552e-16  1.10387889e-14 -4.78981933e-14  1.00000000e+00]]\n",
            "[[ 1.00000000e+00  0.00000000e+00  0.00000000e+00  0.00000000e+00]\n",
            " [ 5.27133892e-14  1.00000000e+00 -1.18882681e-13 -1.96731520e-14]\n",
            " [ 5.28219443e-14  2.74965236e-14  1.00000000e+00 -1.43342128e-14]\n",
            " [-4.02147451e-15  2.74965236e-14 -1.86591483e-13  1.00000000e+00]]\n"
          ]
        }
      ],
      "source": [
        "# Write your solution here\n",
        "A_inv = np.linalg.inv(A)\n",
        "C_inv = np.linalg.inv(C)\n",
        "\n",
        "print(np.dot(A,A_inv))\n",
        "print(np.dot(C,C_inv))\n",
        "print(\"\"\"\n",
        "This is due to the float type not being precise. So yes it is the identity matrix, but the precision of the float makes the decimal of the float have a deviation such that it\n",
        "is not exactly 1\n",
        "      \"\"\")"
      ]
    },
    {
      "cell_type": "markdown",
      "metadata": {
        "autoscroll": null,
        "collapsed": null,
        "deletable": null,
        "format": null,
        "jupyter": null,
        "name": null,
        "tags": null
      },
      "source": [
        "### Properties\n",
        "\n",
        "---\n",
        "**Task 5 (easy): Inverse properties👩‍💻**\n",
        "Use the code cell below to verify that:\n",
        "1. $D^{-1}E^{-1} = (ED)^{-1}$\n",
        "2. $D^{-1}E^{-1} \\neq (DE)^{-1}$\n",
        "\n",
        "\n",
        "---\n"
      ]
    },
    {
      "cell_type": "code",
      "execution_count": 12,
      "metadata": {
        "autoscroll": null,
        "collapsed": null,
        "deletable": null,
        "format": null,
        "jupyter": null,
        "name": null,
        "tags": null
      },
      "outputs": [
        {
          "name": "stdout",
          "output_type": "stream",
          "text": [
            "[[ 0.25261376  0.13578836 -0.51301587]\n",
            " [-0.08601058  0.11462434  0.18539683]\n",
            " [ 0.16592593 -0.18962963  0.17777778]]\n",
            "[[ 0.21096296 -0.256      -0.1517037 ]\n",
            " [-0.15365079  0.20571429  0.56634921]\n",
            " [ 0.05367196 -0.28342857  0.12833862]]\n"
          ]
        }
      ],
      "source": [
        "# Write your solution here\n",
        "ED_inv = np.dot(D_inv, E_inv)\n",
        "DE_inv = np.dot(E_inv, D_inv)\n",
        "\n",
        "print(ED_inv)\n",
        "print(DE_inv)"
      ]
    },
    {
      "cell_type": "markdown",
      "metadata": {
        "autoscroll": null,
        "collapsed": null,
        "deletable": null,
        "format": null,
        "jupyter": null,
        "name": null,
        "tags": null
      },
      "source": [
        "\n",
        "---\n",
        "**Task 6 (easy): The determinant👩‍💻**\n",
        "1. Calculate the determinant of $A$, $B$, and $C$ using [`np.linalg.det`\n",
        "](https://numpy.org/doc/stable/reference/generated/numpy.linalg.det.html<elem-4>.linalg.det)\n",
        ".\n",
        "2. Based on the results, determine which of the matrices have an inverse.\n",
        "3. Calculate the inverses of the matrices using [`np.linalg.inv`\n",
        "](https://numpy.org/doc/stable/reference/generated/numpy.linalg.inv.html<elem-6>.linalg.inv)\n",
        ". Explain what happens and how this is related to your answer in (2).\n",
        "\n",
        "\n",
        "---\n"
      ]
    },
    {
      "cell_type": "code",
      "execution_count": 15,
      "metadata": {
        "autoscroll": null,
        "collapsed": null,
        "deletable": null,
        "format": null,
        "jupyter": null,
        "name": null,
        "tags": null
      },
      "outputs": [
        {
          "name": "stdout",
          "output_type": "stream",
          "text": [
            "1.6534391534392702e-07\n",
            "2.7733391199176e-32\n",
            "1.0498026371041163e-07\n",
            "\n",
            "All determinats indicates that each matrix have an inverse, since the result is not 0. \n",
            "If they had a determinant which is 0 then the matrix wouldn't have an inverse\n",
            "      \n"
          ]
        }
      ],
      "source": [
        "# Write your solution here\n",
        "A_det = np.linalg.det(A)\n",
        "B_det = np.linalg.det(B)\n",
        "C_det = np.linalg.det(C)\n",
        "\n",
        "print(A_det)\n",
        "print(B_det)\n",
        "print(C_det)\n",
        "\n",
        "print(\"\"\"\n",
        "All determinats indicates that each matrix have an inverse, since the result is not 0. \n",
        "If they had a determinant which is 0 then the matrix wouldn't have an inverse\n",
        "      \"\"\")\n",
        "\n"
      ]
    },
    {
      "cell_type": "markdown",
      "metadata": {
        "autoscroll": null,
        "collapsed": null,
        "deletable": null,
        "format": null,
        "jupyter": null,
        "name": null,
        "tags": null
      },
      "source": [
        "\n",
        "---\n",
        "**Task 7 (easy): Transpose👩‍💻**\n",
        "1. Verify that $(D^{-1})^\\top$ and ${D^\\top}^{-1}$ are equal.\n",
        "\n",
        "\n",
        "**Hint**\n",
        "The transpose of a matrix `A`\n",
        " in Numpy can be calculated with `A.T`\n",
        ".\n",
        "\n",
        "\n",
        "\n",
        "---\n"
      ]
    },
    {
      "cell_type": "code",
      "execution_count": 17,
      "metadata": {
        "autoscroll": null,
        "collapsed": null,
        "deletable": null,
        "format": null,
        "jupyter": null,
        "name": null,
        "tags": null
      },
      "outputs": [
        {
          "name": "stdout",
          "output_type": "stream",
          "text": [
            "True\n"
          ]
        }
      ],
      "source": [
        "# Write your solution here\n",
        "print((D_inv.T == np.linalg.inv(D.T)).all())"
      ]
    },
    {
      "cell_type": "markdown",
      "metadata": {
        "autoscroll": null,
        "collapsed": null,
        "deletable": null,
        "format": null,
        "jupyter": null,
        "name": null,
        "tags": null
      },
      "source": [
        "## Linear equations\n",
        "Matrices can represent systems of linear equations\n",
        "\n",
        "$$\n",
        "Ax=b\n",
        "$$\n",
        "where $A$ is the coefficient matrix, $x$ vector of unknowns, and $b$ is a vector of the dependent variables.\n",
        "A solution can be found using\n",
        "\n",
        "$$\n",
        "\\begin{align*}\n",
        "A^{-1}Ax&=A^{-1}b\\\\\n",
        "x &= A^{-1}b.\n",
        "\\end{align*}\n",
        "$$\n",
        "\n",
        "---\n",
        "**Task 8 (medium): Solving linear equation systems👩‍💻**\n",
        "For each of the following sets of linear equations determine whether a unique solution exits. Recall that the determinant \n",
        "can be used to determine whether a matrix has an inverse:\n",
        "a)\n",
        "\n",
        "$$ \n",
        "\\begin{align*}\n",
        "2x + 3y  &= -1\\\\\n",
        "x + y  &= 0\\\\\n",
        "\\end{align*}\n",
        "$$\n",
        "b)\n",
        "\n",
        "$$\n",
        "\\begin{align*}\n",
        "1x + 0y  &= 5\\\\\n",
        "0x + 1y  &= 7\\\\\n",
        "\\end{align*}\n",
        "$$\n",
        "c)\n",
        "\n",
        "$$\n",
        "\\begin{align*}\n",
        "0x + y  &= -1\\\\\n",
        "-2x + -3y  &= 2\\\\\n",
        "\\end{align*}\n",
        "$$\n",
        "d)\n",
        "\n",
        "$$\n",
        "\\begin{align*}\n",
        "x + -3y + 3z &= 0.5\\\\\n",
        "x - 5y + 3z& = 0.5\\\\\n",
        "6z + -6y + 4x &= 1.\n",
        "\\end{align*}\n",
        "$$\n",
        "e)\n",
        "\n",
        "$$\n",
        "\\begin{align*}\n",
        "2x + 3y + 4z &= 2\\\\\n",
        "x + 4z + y &= -2\\\\\n",
        "4z + 5y + 2x &= 3.\n",
        "\\end{align*}\n",
        "$$\n",
        "f)\n",
        "\n",
        "$$\n",
        "\\begin{align*}\n",
        "x + y + z &= 2\\\\\n",
        "2x + 2z + 2y &= -2\\\\\n",
        "3z + 3y + 3x &= 3.\n",
        "\\end{align*}\n",
        "$$\n",
        "\n",
        "\n",
        "---\n"
      ]
    },
    {
      "cell_type": "code",
      "execution_count": null,
      "metadata": {
        "autoscroll": null,
        "collapsed": null,
        "deletable": null,
        "format": null,
        "jupyter": null,
        "name": null,
        "tags": null
      },
      "outputs": [],
      "source": [
        "# Write your solutions here"
      ]
    },
    {
      "cell_type": "markdown",
      "metadata": {
        "autoscroll": null,
        "collapsed": null,
        "deletable": null,
        "format": null,
        "jupyter": null,
        "name": null,
        "tags": null
      },
      "source": [
        "## Matrix multiplication\n",
        "For an $N\\times D$ matrix $A$ and a $D\\times K$ matrix $B$, the \n",
        "matrix multiplication (or matrix product) is a new $N\\times K$ matrix $R$. Elements $R_{ij}$ of $R$ can be calculated \n",
        "using the following formula\n",
        "\n",
        "$$\n",
        "R_{ij} = \\sum_{d=1}^D A_{id}B_{dj}.\n",
        "$$\n",
        "In other words, it is the dot product of the $i$'th row vector of $A$ and the $j$'th column vector of $B$.\n",
        "\n",
        "---\n",
        "**Task 9 (medium): Implementing matrix multiplication _(optional)_👩‍💻**\n",
        "Implement matrix multiplication in the `matmul`\n",
        " function in the code cell below. You may use either Python lists or Numpy arrays, but the intention is to not use Numpy's built-in functions for matrix multiplication (i.e., `np.dot`\n",
        ", `@`\n",
        ", `np.matmul`\n",
        ", etc.). You may, however, use `np.dot`\n",
        " for the purpose of computing the inner product between row and column vectors.\n",
        "\n",
        "**Hint**\n",
        "It might be helpful to calculate the correct result by hand first, to make debugging easier.\n",
        "\n",
        "\n",
        "\n",
        "---\n"
      ]
    },
    {
      "cell_type": "code",
      "execution_count": null,
      "metadata": {
        "autoscroll": null,
        "collapsed": null,
        "deletable": null,
        "format": null,
        "jupyter": null,
        "name": null,
        "tags": null
      },
      "outputs": [],
      "source": [
        "def matmul(a, b):\n",
        "    # Implement this function\n",
        "    ...\n",
        "    \n",
        "\n",
        "ma = [\n",
        "    [1, 2, 3],\n",
        "    [4, 5, 6],\n",
        "    [7, 8, 9]\n",
        "]\n",
        "\n",
        "mb = [\n",
        "    [5, 4, 9],\n",
        "    [2, 1, 7],\n",
        "    [8, 0, 1]\n",
        "]\n",
        "\n",
        "matmul(ma, mb)"
      ]
    },
    {
      "cell_type": "markdown",
      "metadata": {
        "autoscroll": null,
        "collapsed": null,
        "deletable": null,
        "format": null,
        "jupyter": null,
        "name": null,
        "tags": null
      },
      "source": [
        "---\n"
      ]
    }
  ],
  "metadata": {
    "kernelspec": {
      "display_name": "Python",
      "language": "python3",
      "name": "python3"
    },
    "language_info": {
      "codemirror_mode": {
        "name": "ipython",
        "version": 3
      },
      "file_extension": ".py",
      "mimetype": "text/x-python",
      "name": "python",
      "nbconvert_exporter": "python",
      "pygments_lexer": "ipython3",
      "version": "3.11.4"
    }
  },
  "nbformat": 4,
  "nbformat_minor": 5
}
