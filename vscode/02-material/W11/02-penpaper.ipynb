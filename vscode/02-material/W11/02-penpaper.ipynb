{
  "metadata": {
    "kernelspec": {
      "display_name": "Python",
      "language": "python3",
      "name": "python3"
    },
    "language_info": {
      "codemirror_mode": {
        "name": "ipython",
        "version": 3
      },
      "file_extension": "py",
      "mimetype": "text/x-python",
      "name": "python"
    }
  },
  "nbformat": 4,
  "nbformat_minor": 5,
  "cells": [
    {
      "cell_type": "code",
      "id": "css_setup",
      "metadata": {
        "jupyter": {
          "source_hidden": true
        }
      },
      "source": [
        "import requests\n",
        "from IPython.core.display import HTML\n",
        "HTML(f\"\"\"\n",
        "<style>\n",
        "@import \"https://cdn.jsdelivr.net/npm/bulma@0.9.4/css/bulma.min.css\";\n",
        "</style>\n",
        "\"\"\")"
      ],
      "execution_count": 0,
      "outputs": []
    },
    {
      "cell_type": "markdown",
      "id": "SVFVaCRmwtPbR5WMzeI_4",
      "metadata": {},
      "source": [
        "# Pen and Paper\n",
        "\n",
        "---\n",
        "**Task 1 (easy): Differentiate the following univariate functions _(optional)_♾️**\n",
        "1. Find $\\frac{\\partial f}{\\partial x}$, where $f\\left( x \\right) = {\\left( {6{x^2} + 7x} \\right)^4}$\n",
        "2. Find $\\frac{\\partial g}{\\partial t}$, where $g\\left( t \\right) = {\\left( {4{t^2} - 3t + 2} \\right)^{ - 2}}$\n",
        "3. Find $\\frac{\\partial g_2}{\\partial x}$, where $ g_2\\left( x \\right) = 2\\sin \\left( {3x + \\tan \\left( x \\right)} \\right) $\n",
        "4. Find $\\frac{\\partial g_3}{\\partial x}$, where $ g_3\\left( x \\right) = {{\\bf{e}}^{1 - \\cos \\left( x \\right)}}$\n",
        "5. Find $\\frac{\\partial g_4}{\\partial t}$, where  $ g_4\\left( x \\right) = {{\\bf{e}}^{1 - \\cos \\left( x \\right)}}$\n",
        "\n",
        "\n",
        "---\n",
        "---\n",
        "**Task 2 (easy): Find the partial derivatives of the multivariate functions _(optional)_♾️**\n",
        "1. Find $\\frac{\\partial f}{\\partial x}$ where $f\\left( {x,y,z} \\right) = 4{x^3}{y^2} - {{\\bf{e}}^z}{y^4} + \\frac{{{z^3}}}{{{x^2}}} + 4y - {x^{16}}$\n",
        "2. Find $\\frac{\\partial w}{\\partial y}$ where  $w(x,y,z) = \\cos \\left( {{x^2} + 2y} \\right) - {{\\bf{e}}^{4x - {z^{\\,4}}y}} + {y^3}$\n",
        "3. Find $\\frac{\\partial r}{\\partial z}$  where $ r\\left( {x,y} \\right) = \\frac{{{x^2}}}{{{y^2} + 1}} - \\frac{{{y^2}}}{{{x^2} + y}}$\n",
        "\n",
        "\n",
        "---\n",
        "---\n",
        "**Task 3 (medium): The Chain Rule♾️**\n",
        "Use the Chain Rule to find the partial derivative $\\frac{\\partial z}{\\partial t}$ where\n",
        "\n",
        "$$z = \\cos \\left( {( 1 - {t^6})\\,{({t^4} - 2t)^2}} \\right)$$\n",
        "\n",
        "\n",
        "---\n",
        "---\n",
        "**Task 4 (medium): Gradient♾️**\n",
        "Given the functions:\n",
        "- $f_1\\left( {x,y} \\right) = \\frac{x^2}{cos(3x)}  - \\frac{{{x^2}}}{{{y^3}}}$\n",
        "- $f_2\\left( {x,y,z} \\right) = (x\\cos \\left( {xy} \\right) + {z^2}{y^4} - 7xz)^2$\n",
        "\n",
        "1. Draw the computational graph (following the chain rule) of the functions.\n",
        "2. Determine the gradients, $\\nabla f_1$ and $\\nabla f_2$.\n",
        "\n",
        "\n",
        "---"
      ]
    }
  ]
}