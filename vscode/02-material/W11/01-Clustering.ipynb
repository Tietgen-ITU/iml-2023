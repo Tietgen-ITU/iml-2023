{
  "metadata": {
    "kernelspec": {
      "display_name": "Python",
      "language": "python3",
      "name": "python3"
    },
    "language_info": {
      "codemirror_mode": {
        "name": "ipython",
        "version": 3
      },
      "file_extension": "py",
      "mimetype": "text/x-python",
      "name": "python"
    }
  },
  "nbformat": 4,
  "nbformat_minor": 5,
  "cells": [
    {
      "cell_type": "code",
      "id": "css_setup",
      "metadata": {
        "jupyter": {
          "source_hidden": true
        }
      },
      "source": [
        "import requests\n",
        "from IPython.core.display import HTML\n",
        "HTML(f\"\"\"\n",
        "<style>\n",
        "@import \"https://cdn.jsdelivr.net/npm/bulma@0.9.4/css/bulma.min.css\";\n",
        "</style>\n",
        "\"\"\")"
      ],
      "execution_count": 0,
      "outputs": []
    },
    {
      "cell_type": "markdown",
      "id": "q1iI5HviMwBGR8S-2PHiq",
      "metadata": {},
      "source": [
        "# Clustering\n",
        "In this exercise you will be using clustering methods on a sequence of human poses.\n",
        "You will work with the poses data, which was used for the exercises in week 6\n",
        " and week 9\n",
        ".The dataset contains 1403 pose sequences. Each sequence is a 100-frames time series capturing human poses. Each pose consists of 25 skeletal joints, where each joint is defined by an x and y coordinate ($25*2$). The dataset has a shape of $(1403, 100, 25*2)$. For this exercise, you will use a single pose sequence of 100 frames and apply clustering to the sequence. \n",
        "The following cells import libraries and provide functions for plotting the poses:\n",
        ""
      ]
    },
    {
      "cell_type": "code",
      "id": "QKovO6AslXey6iwXKqFMP",
      "metadata": {},
      "source": [
        "import numpy as np\n",
        "import matplotlib.pyplot as plt\n",
        "import warnings\n",
        "import seaborn as sns\n",
        "from sklearn.cluster import MeanShift\n",
        "from sklearn.cluster import KMeans\n",
        "from sklearn.cluster import AgglomerativeClustering\n",
        "from scipy.spatial.distance import pdist, squareform\n",
        "import scipy.cluster.hierarchy as shc\n",
        "from scipy.cluster.hierarchy import dendrogram, linkage\n",
        "\n",
        "\n",
        "# Suppress the specific warning\n",
        "warnings.filterwarnings(\"ignore\")"
      ],
      "execution_count": 0,
      "outputs": []
    },
    {
      "cell_type": "markdown",
      "id": "GfcOQIlNsOB-V9aIXQVt0",
      "metadata": {},
      "source": [
        ""
      ]
    },
    {
      "cell_type": "code",
      "id": "MqbCOwneyzIz3d7i4lhbJ",
      "metadata": {},
      "source": [
        "def limb_number_plot(s_pose_x,s_pose_y,n1,n2,c=\"red\",label=None):\n",
        "  if label is not None:\n",
        "    if (s_pose_x[n1]>0) and (s_pose_x[n2]>0) and (s_pose_y[n1]>0) and (s_pose_y[n2]>0): \n",
        "      plt.plot([s_pose_x[n1],s_pose_x[n2]], [s_pose_y[n1], s_pose_y[n2]],color = c, linestyle=\"-\",label=label)\n",
        "  else:\n",
        "    if (s_pose_x[n1]>0) and (s_pose_y[n1]>0):\n",
        "       plt.plot(s_pose_x[n1], s_pose_y[n1],'*',color = c,label=label)\n",
        "    if (s_pose_x[n2]>0) and (s_pose_y[n2]>0):\n",
        "       plt.plot(s_pose_x[n2], s_pose_y[n2],'*',color = c,label=label)\n",
        "    if (s_pose_x[n1]>0) and (s_pose_x[n2]>0) and (s_pose_y[n1]>0) and (s_pose_y[n2]>0):\n",
        "      plt.plot([s_pose_x[n1],s_pose_x[n2]], [s_pose_y[n1], s_pose_y[n2]],color = c, linestyle=\"-\")\n",
        "\n",
        "def plot_single_pose(s_pose,c = \"darkgreen\",label=None,ds='body_25',c_head = 'red',head = False):\n",
        "    \n",
        "    s_pose_x=s_pose[::2]\n",
        "    s_pose_y=s_pose[1::2]\n",
        "    #torso/body\n",
        "    limb_number_plot(s_pose_x,s_pose_y,2,5,c)\n",
        "    if label is not None:\n",
        "\n",
        "        limb_number_plot(s_pose_x,s_pose_y,9,12,c,label)\n",
        "    else:\n",
        "        limb_number_plot(s_pose_x,s_pose_y,9,12,c)\n",
        "    limb_number_plot(s_pose_x,s_pose_y,2,9,c)\n",
        "    limb_number_plot(s_pose_x,s_pose_y,5,12,c)\n",
        "\n",
        "    #left arm (person facing away)\n",
        "    limb_number_plot(s_pose_x,s_pose_y,2,3,c)\n",
        "    limb_number_plot(s_pose_x,s_pose_y,3,4,c)\n",
        "\n",
        "    #right arm\n",
        "    limb_number_plot(s_pose_x,s_pose_y,5,6,c)\n",
        "    limb_number_plot(s_pose_x,s_pose_y,6,7,c)\n",
        "\n",
        "    #left leg / foot\n",
        "    limb_number_plot(s_pose_x,s_pose_y,9,10,c)\n",
        "    limb_number_plot(s_pose_x,s_pose_y,10,11,c)\n",
        "    limb_number_plot(s_pose_x,s_pose_y,11,22,c)\n",
        "    #right leg / foot\n",
        "    limb_number_plot(s_pose_x,s_pose_y,12,13,c)\n",
        "    limb_number_plot(s_pose_x,s_pose_y,13,14,c)\n",
        "    limb_number_plot(s_pose_x,s_pose_y,14,19,c)\n",
        "\n",
        "    # head\n",
        "    if head:\n",
        "        limb_number_plot(s_pose_x,s_pose_y,0,15,c)\n",
        "        limb_number_plot(s_pose_x,s_pose_y,0,16,c)\n",
        "\n",
        "        limb_number_plot(s_pose_x,s_pose_y,15,17,c)\n",
        "        limb_number_plot(s_pose_x,s_pose_y,16,18,c)\n",
        "    return True \n",
        "\n",
        "def plot_single_sequence(poses, pose_name='Poses',color='blue'):\n",
        "    \"\"\"\n",
        "    Plots a single sequence of skeleton joints.\n",
        "\n",
        "    Parameters:\n",
        "        poses (array-like): Skeleton sequence data, shape (T,D).\n",
        "        poses_name (string, optional): subtitle of each skeleton body in the sequence. \n",
        "        color (string, optional): color of skeleton bodies. \n",
        "    \"\"\"\n",
        "    plt.style.use('seaborn')\n",
        "    plt.figure(figsize=(25,15))\n",
        "    plt.title('Ground truth')\n",
        "\n",
        "    for i in range(len(poses)):\n",
        "        plt.subplot(10, 10, i + 1)\n",
        "        plot_single_pose(poses[i], c=color, head=False)\n",
        "        plt.ylim(1, 0)\n",
        "        plt.xlim(-1, 1)\n",
        "        plt.title(pose_name + str(i))\n",
        "        plt.axis('off')\n",
        "\n",
        "    plt.show()"
      ],
      "execution_count": 0,
      "outputs": []
    },
    {
      "cell_type": "markdown",
      "id": "Quke2Ekv5FlgTnOXtZR-X",
      "metadata": {},
      "source": [
        "In the cell below we load the dataset, reshape it and extract a single pose sequence. Feel free to change the pose sequence used, just keep in mind that it will lead to different results than the one showed in the outputs. \n",
        ""
      ]
    },
    {
      "cell_type": "code",
      "id": "YHWuXy9i0s9_bTiM6ABII",
      "metadata": {},
      "source": [
        "data = np.load('poses_norm.npy')\n",
        "N,T,D,C = data.shape\n",
        "reshaped_data = data.reshape(N,T,D*C)\n",
        "sequence = reshaped_data[191]\n",
        "print(sequence.shape)"
      ],
      "execution_count": 0,
      "outputs": []
    },
    {
      "cell_type": "markdown",
      "id": "AfrUk6WbnpSjW-qHDDld6",
      "metadata": {},
      "source": [
        "## K-means Clustering\n",
        "In this  exercise you will use k-means clustering on a pose sequence. \n",
        "\n",
        "---\n",
        "**Task 1 (easy): Fitting the algorithm👩‍💻**\n",
        "1. The cell below creates an instance of the `KMeans`\n",
        " class with 3 clusters. Use the k-means algorithm to find clusters in the sequence.\n",
        "\n",
        "\n",
        "---"
      ]
    },
    {
      "cell_type": "code",
      "id": "l8-ftXThYKfTLCPbAaLFA",
      "metadata": {},
      "source": [
        "# Create KMeans model\n",
        "kmeans = KMeans(n_clusters=3, random_state=42)\n",
        "\n",
        "# Write your solution here"
      ],
      "execution_count": 0,
      "outputs": []
    },
    {
      "cell_type": "markdown",
      "id": "vDBXMN5BBluc8EneNJmNB",
      "metadata": {},
      "source": [
        "\n",
        "---\n",
        "**Task 2 (easy): K-means clustering visualization👩‍💻**\n",
        "1. Extract the cluster labels for each pose in the sequence. Use the [documentation on the `labels_`\n",
        " attribute.](https://scikit-learn.org/stable/modules/generated/sklearn.cluster.KMeans.html)\n",
        "\n",
        "\n",
        "2. Visualize the pose sequence by assigning a distinct color to each pose based on which cluster it belongs to.\n",
        "\n",
        "\n",
        "\n",
        "**Hint**\n",
        "Use the `plot_single_pose`\n",
        " function or modify the `plot_single_sequence`\n",
        " function.\n",
        "\n",
        "\n",
        "---"
      ]
    },
    {
      "cell_type": "code",
      "id": "JDxSuI2MaVeoaPNCQ_o4t",
      "metadata": {},
      "source": [
        "# Write your solution here"
      ],
      "execution_count": 0,
      "outputs": []
    },
    {
      "cell_type": "markdown",
      "id": "HLCjSLR-tRhIuVUaAknDk",
      "metadata": {},
      "source": [
        "\n",
        "---\n",
        "**Task 3 (easy): Cluster characteristics💡**\n",
        "1. Identify the characteristics of the patterns in each cluster.\n",
        "\n",
        "2. Extract and plot the cluster centers. What do these centers represent? Do the generated plots indicate that poses are grouped around distinct or specific movements?\n",
        "\n",
        "3. (optional) Change the random state and fit the model again. Explain whether you obtain different groupings and why? \n",
        "\n",
        "\n",
        "\n",
        "---"
      ]
    },
    {
      "cell_type": "code",
      "id": "94oG90kcr9XC6e6ANdwxW",
      "metadata": {},
      "source": [
        "# write your relfection here"
      ],
      "execution_count": 0,
      "outputs": []
    },
    {
      "cell_type": "markdown",
      "id": "R-E7fJtiWT49dgFGjtrtG",
      "metadata": {},
      "source": [
        "\n",
        "---\n",
        "**Task 4 (medium): Elbow Method👩‍💻💡**\n",
        "`k_range`\n",
        " below contains values for the number of clusters `k`\n",
        ":\n",
        "1. For each `k`\n",
        ":\n",
        "    - Apply k-means clustering to the sequence.\n",
        "\n",
        "    - Extract the within-cluster sum of squares and store it in a list.\n",
        "\n",
        "\n",
        "\n",
        "2. Plot the within cluster sum of squares as a function of the number of clusters (elbow curve) \n",
        "\n",
        "3. Determine visually the optimal number of clusters.\n",
        "\n",
        "4. Revisit and run the previous tasks (tasks 1,2 and 3) with the optimal number of clusters. \n",
        "\n",
        "5. How does the elbow method influence the results in the previous tasks?\n",
        "\n",
        "\n",
        "\n",
        "---"
      ]
    },
    {
      "cell_type": "code",
      "id": "VMFHUwFv4oq8Rn7edpZJI",
      "metadata": {},
      "source": [
        "# Test multiple k values to find optimal k\n",
        "k_range = range(2, 30)\n",
        "\n",
        "# Write your solution here"
      ],
      "execution_count": 0,
      "outputs": []
    },
    {
      "cell_type": "markdown",
      "id": "g36NmzjwUGQBlVQXFuMXU",
      "metadata": {},
      "source": [
        "## Mean-shift Clustering\n",
        "In this exercise you will apply mean-shift clustering to the sequence of human poses. \n",
        "\n",
        "---\n",
        "**Task 5 (easy): Fitting the mean-shift algorithm👩‍💻**\n",
        "The cell below creates an instance of the `MeanShift()`\n",
        " class with a bandwith of 0.629.\n",
        "1. Use the mean-shift algorithm to cluster the pose sequence.\n",
        "\n",
        "\n",
        "---"
      ]
    },
    {
      "cell_type": "code",
      "id": "Z_z5DP9iZba9tHQ7JQJ32",
      "metadata": {},
      "source": [
        "# Create Mean-shift model\n",
        "mean_shift = MeanShift(bandwidth=0.629)\n",
        "\n",
        "# Write your solution here"
      ],
      "execution_count": 0,
      "outputs": []
    },
    {
      "cell_type": "markdown",
      "id": "tLnfauPKSk05LYeQrHo9B",
      "metadata": {},
      "source": [
        "\n",
        "---\n",
        "**Task 6 (easy): Visualizing clusters👩‍💻**\n",
        "1. Extract the cluster labels for each pose in the sequence. Use the [documentation on mean-shift clustering.](https://scikit-learn.org/stable/modules/generated/sklearn.cluster.MeanShift.html)\n",
        "\n",
        "2. Visualize the pose sequence, assigning a distinct color to each pose based on its cluster.\n",
        "3. Extract and plot the cluster centers.\n",
        "\n",
        "\n",
        "---"
      ]
    },
    {
      "cell_type": "code",
      "id": "ZreBig0cJIaaRjhUyj7zq",
      "metadata": {},
      "source": [
        "# Write your solution here"
      ],
      "execution_count": 0,
      "outputs": []
    },
    {
      "cell_type": "markdown",
      "id": "QsjX_y85P_5idibDuvlVh",
      "metadata": {},
      "source": [
        "\n",
        "---\n",
        "**Task 7 (easy): Reflection and the bandwith parameter👩‍💻💡**\n",
        "1. Based on the previously generated plots what are the characteristics of the clusters?\n",
        "2. What is the impact of decreasing and increasing the bandwidth parameter by 0.2 (0.829 / 0.429) and why?\n",
        "\n",
        "\n",
        "**Info**\n",
        "You might encounter longer completion times for lower bandwith values.\n",
        "\n",
        "\n",
        "---"
      ]
    },
    {
      "cell_type": "code",
      "id": "rqvJKiGPaOixS-YNPe4qy",
      "metadata": {},
      "source": [
        "# Write your solution here"
      ],
      "execution_count": 0,
      "outputs": []
    },
    {
      "cell_type": "markdown",
      "id": "O8alZAoAf0dOQQkx1Nu9g",
      "metadata": {},
      "source": [
        "## Agglomerative Clustering\n",
        "In this exercise, you will use hierarchical clustering on the human poses dataset using agglomerative clustering.\n",
        "\n",
        "---\n",
        "**Task 8 (easy): Dendrograms👩‍💻💡**\n",
        "The cell below uses the [`linkage`\n",
        " function](https://docs.scipy.org/doc/scipy/reference/generated/scipy.cluster.hierarchy.linkage.html)\n",
        " to consturct the linkage matrix, which encodes the hierarchical clusters. \n",
        "1. Use the linkage matrix and the [documentation on `dendrograms`\n",
        "](https://docs.scipy.org/doc/scipy/reference/generated/scipy.cluster.hierarchy.dendrogram.html)\n",
        " to generate a dendrogram.\n",
        "2. How many clusters would result from setting the distance threshold to: 0.5, 1.5, 3.0, 4?\n",
        "\n",
        "\n",
        "---"
      ]
    },
    {
      "cell_type": "code",
      "id": "h6HzTjsR--vy6A5FTjzrJ",
      "metadata": {},
      "source": [
        "# Create linkage matrix\n",
        "linkage_matrix = shc.linkage(sequence, method ='ward', metric=\"euclidean\")\n",
        "\n",
        "# Write your solution here"
      ],
      "execution_count": 0,
      "outputs": []
    },
    {
      "cell_type": "markdown",
      "id": "JK7CUmACnZLdc421nK5E7",
      "metadata": {},
      "source": [
        "\n",
        "---\n",
        "**Task 9 (easy): Fitting the agglomerative clustreing algorithm👩‍💻**\n",
        "The cell below creates an instance of the `AgglomerativeClustering()`\n",
        " class. The [documentation on agglomerative clustering is given here.](https://scikit-learn.org/stable/modules/generated/sklearn.cluster.AgglomerativeClustering.html)\n",
        "\n",
        "1. Select the distance threshold that results in 3 clusters, then apply agglomerative clustering on the sequence. \n",
        "2. Extract the cluster labels for each pose in the sequence.\n",
        "3. Visualize the pose sequence by assigning a distinct color to each pose based on its cluster.\n",
        "\n",
        "\n",
        "---"
      ]
    },
    {
      "cell_type": "code",
      "id": "isziD7AyAkOZlsTib8-2q",
      "metadata": {},
      "source": [
        "agg_clustering = AgglomerativeClustering(n_clusters=k, metric='euclidean', linkage='ward')\n",
        "\n",
        "# Write your solution here (agglomerative clustering and cluster centers)"
      ],
      "execution_count": 0,
      "outputs": []
    },
    {
      "cell_type": "markdown",
      "id": "mHoHdQwKLqCurQHrF3HNH",
      "metadata": {},
      "source": [
        "\n",
        "---\n",
        "**Task 10 (medium): Cluster centers👩‍💻💡**\n",
        "1. The `AgglomerativeClustering()`\n",
        " class does not have an attribute or a method for directly extracting clusters. Calculate the mean pose within each cluster and plot it.\n",
        "2. Compare the graphs visualizing the cluster centers for all of the clustering methods implemented so far. Do you see any similarities between them? \n",
        "3. Why could the methods lead to similar clusters? What are the main reasons behind the differences in the cluster labels?\n",
        "4. (optional) Change the distance metric (try `l1`\n",
        " and `cosine`\n",
        ") and repeat the previous two tasks (task 8 and 9). What differences do you observe, and can you explain why these differences occur? Does a different distance metric result in more meaningful clusters?\n",
        "\n",
        "\n",
        "---"
      ]
    },
    {
      "cell_type": "code",
      "id": "_b6gzamv48fhsB4V_Gy33",
      "metadata": {},
      "source": [
        "# Write your solution here"
      ],
      "execution_count": 0,
      "outputs": []
    },
    {
      "cell_type": "markdown",
      "id": "0g0WQ4S2Q1HZ8iMjSxRcM",
      "metadata": {},
      "source": [
        ""
      ]
    }
  ]
}