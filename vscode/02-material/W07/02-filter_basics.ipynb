{
  "metadata": {
    "kernelspec": {
      "display_name": "Python",
      "language": "python3",
      "name": "python3"
    },
    "language_info": {
      "codemirror_mode": {
        "name": "ipython",
        "version": 3
      },
      "file_extension": "py",
      "mimetype": "text/x-python",
      "name": "python"
    }
  },
  "nbformat": 4,
  "nbformat_minor": 5,
  "cells": [
    {
      "cell_type": "code",
      "id": "css_setup",
      "metadata": {
        "jupyter": {
          "source_hidden": true
        }
      },
      "source": [
        "import requests\n",
        "from IPython.core.display import HTML\n",
        "HTML(f\"\"\"\n",
        "<style>\n",
        "@import \"https://cdn.jsdelivr.net/npm/bulma@0.9.4/css/bulma.min.css\";\n",
        "</style>\n",
        "\"\"\")"
      ],
      "execution_count": 0,
      "outputs": []
    },
    {
      "cell_type": "markdown",
      "id": "en28mJv9921X8vM5Al427",
      "metadata": {},
      "source": [
        "# Filtering\n",
        "Filters are arbitrary linear functions and can therefore be used to perform many different kinds of operations. In this exercise, we will explore image filtering, a powerful technique in image processing, to understand how filters can be applied to modify, or extract specific features from images.\n",
        "As a first step, import the necessary libraries:\n",
        ""
      ]
    },
    {
      "cell_type": "code",
      "id": "jf1Vje8XTJp4X-497_86B",
      "metadata": {},
      "source": [
        "import numpy as np\n",
        "from skimage import data, color\n",
        "from scipy.ndimage import convolve, correlate\n",
        "from scipy import stats, signal\n",
        "from skimage import filters, feature, transform, io\n",
        "from skimage.transform import pyramid_gaussian\n",
        "import matplotlib.pyplot as plt"
      ],
      "execution_count": 0,
      "outputs": []
    },
    {
      "cell_type": "markdown",
      "id": "auxYJ5UhQrOLxJWfU_XfC",
      "metadata": {},
      "source": [
        "We will use the same set of example images from the Scikit-Image library that were used in the tutorial. You can use and modify the code below to load and inspect any of the images: \n",
        ""
      ]
    },
    {
      "cell_type": "code",
      "id": "ZSaMcZe-ElTuwYjQi-19B",
      "metadata": {},
      "source": [
        "print(data.__all__)\n",
        "plt.imshow(data.coins(), cmap=\"gray\")\n",
        "plt.axis(False)"
      ],
      "execution_count": 0,
      "outputs": []
    },
    {
      "cell_type": "markdown",
      "id": "5qJyqOYE-Mx8KiDvSCX3e",
      "metadata": {},
      "source": [
        "\n",
        "---\n",
        "**Task 1 (easy): Shifting pixels👩‍💻♾️**\n",
        "Construct a filter that shifts pixels in the image by $n$ pixels to the right.\n",
        "1. Create a function with parameter `n`\n",
        " that returns a kernel that can be used to shift an image `n`\n",
        " pixels to the right.\n",
        "2. Apply the filter to one of the example images and show the results. Try out multiple different values for `n`\n",
        ".\n",
        "3. Make the functions `shift_to_left`\n",
        ", `shift_to_up`\n",
        ", and `shift_to_down`\n",
        " to shift the input images $n$ pixels to the left, up and down. Use one of the example images to test these functions and evaluate if the images are correctly shifted. \n",
        "4. (Optional) Modify the filter to not only shift the pixel to the right (or the other directions) but also decrease its brightness.\n",
        "\n",
        "\n",
        "---"
      ]
    },
    {
      "cell_type": "code",
      "id": "b8blFkh8r_9B8XcxZSsfO",
      "metadata": {},
      "source": [
        "def shift_to_right(n):\n",
        "    \"\"\"\n",
        "    Param n: number of pixels to shift to the right.\n",
        "\n",
        "    Returns: kernel for shifting.\n",
        "    \"\"\"\n",
        "    # write your solution here\n",
        "    ..."
      ],
      "execution_count": 0,
      "outputs": []
    },
    {
      "cell_type": "markdown",
      "id": "XuIhM56oLH4Kml41r8_0N",
      "metadata": {},
      "source": [
        "\n",
        "---\n",
        "**Task 2 (medium): Gaussian blurring👩‍💻**\n",
        "Construct a Gaussian filter and apply it to an image by following the steps below:\n",
        "1. Design a 3x3 kernel (filter) for Gaussian blurring. Each element of the filter should be filled with values that approximate a Gaussian distribution.\n",
        "\n",
        "\n",
        "**Hint**\n",
        "The filter was covered during the lecture.\n",
        "\n",
        "2. Plot the Gaussian Blur filter.\n",
        "3. Apply the filter to one of the example image and display the original and blurred images side by side.\n",
        "4. Explain the underlying reasons for the observed effects produced by this filter.\n",
        "5. Implement the increased Gaussian blurring kernel shown below. Apply the filter to the selected image and compare the results to the results obtained in the previous steps. Explain the observed effects. \n",
        "\n",
        "\n",
        "$$\n",
        "\\begin{equation}\n",
        "\\frac{1}{256}\n",
        "\\begin{bmatrix}\n",
        "1 & 4 & 6 & 4 & 1 \\\\\n",
        "4 & 16 & 24 & 16 & 4 \\\\\n",
        "6 & 24 & 36 & 24 & 6 \\\\\n",
        "4 & 16 & 24 & 16 & 4 \\\\\n",
        "1 & 4 & 6 & 4 & 1 \\\\\n",
        "\\end{bmatrix}\n",
        "\\end{equation}\n",
        "$$\n",
        "\n",
        "---"
      ]
    },
    {
      "cell_type": "code",
      "id": "kRH89neNJ_dXyjBg_s1sU",
      "metadata": {},
      "source": [
        "# write your solution here"
      ],
      "execution_count": 0,
      "outputs": []
    },
    {
      "cell_type": "markdown",
      "id": "RLZEquTV5CmvLMtouB639",
      "metadata": {},
      "source": [
        "\n",
        "---\n",
        "**Task 3 (medium): Template matching👩‍💻**\n",
        "In the following exercise you will are going to implement template matching on the sunflower image (`sunflowers.jpg`\n",
        ") found in the data library for this week's exercises.\n",
        "1. Load the image, convert it to grayscale and normalize its pixel values. \n",
        "2. Define a rectangular region of interest (ROI) within the image. This ROI will serve as the template you want to extract from the image. and it should include the flower head of a single sunflower. Extract the template and plot it.\n",
        "3. Implement template matching by using the [`skimage.feature.match_template`\n",
        "](https://scikit-image.org/docs/stable/auto_examples/features_detection/plot_template.html)\n",
        " function. The function returns a two-dimensional array (correlation map) that indicate the similarity or correlation between the template and regions of the input image. Plot the results.\n",
        "4. Was the template correctly matched to the original image? Were there any other areas that appeared to be potential matches?\n",
        "\n",
        "\n",
        "---"
      ]
    },
    {
      "cell_type": "code",
      "id": "D2o4OahQPg62QQwE6Qtib",
      "metadata": {},
      "source": [
        "# write your solution here"
      ],
      "execution_count": 0,
      "outputs": []
    },
    {
      "cell_type": "markdown",
      "id": "OwVJsjA-JSLCYs5FckN8-",
      "metadata": {},
      "source": [
        "\n",
        "---\n",
        "**Task 4 (medium): Sharpening👩‍💻💡**\n",
        "In this task, you will create filters to sharpen the pixels of an input image, making details look clearer than in the original image. Here are two filters used for image sharpening:\n",
        "\n",
        "$$\n",
        "K_1=\\frac{1}{9}\\left[\n",
        "\t\\begin{array}{r r r}\n",
        "\t\t-1 & -1 & -1 \\\\\n",
        "\t\t-1 & 17 & -1 \\\\\n",
        "\t\t-1 & -1 & -1\n",
        "\t\\end{array}\n",
        "\\right],\n",
        "K_2=\\left[\n",
        "\t\\begin{array}{r r r}\n",
        "\t\t-1 & -1 & -1 \\\\\n",
        "\t\t-1 &  9 & -1 \\\\\n",
        "\t\t-1 & -1 & -1\n",
        "\t\\end{array}\n",
        "\\right]\n",
        "$$\n",
        "Notice that in this case the filter values sum to one.\n",
        "1. Why do sharpen filters contain a single positive value at their centers, which are completely surrounded by negative values?\n",
        "\n",
        "2. Define the above filter kernels as Numpy arrays.\n",
        "\n",
        "3. Use the filter kernels $K_1$ and $K_2$ to sharpen one of the example images from the Scikit-Image library. Show the two filtered images and compare them with the original input image.\n",
        "\n",
        "4. Implement the sharpening filter shown below and apply it to the selected image. Reflect on the effects of increasing the size of the sharpening filter. \n",
        "\n",
        "\n",
        "\n",
        "$$\n",
        "\\begin{equation}\n",
        "\\frac{1}{8}\n",
        "\\begin{bmatrix}\n",
        "-1 & -1 & -1 & -1 & -1 \\\\\n",
        "-1 & 2 & 2 & 2 & -1 \\\\\n",
        "-1 & 2 & 8 & 2 & -1 \\\\\n",
        "-1 & 2 & 2 & 2 & -1 \\\\\n",
        "-1 & -1 & -1 & -1 & -1 \\\\\n",
        "\\end{bmatrix}\n",
        "\\end{equation}\n",
        "$$\n",
        "\n",
        "---"
      ]
    },
    {
      "cell_type": "code",
      "id": "_8ZCabx4Oo98jf03pURne",
      "metadata": {},
      "source": [
        "# write your solution here"
      ],
      "execution_count": 0,
      "outputs": []
    },
    {
      "cell_type": "markdown",
      "id": "w2hffaUXJwXJQgr-hkLBY",
      "metadata": {},
      "source": [
        ""
      ]
    }
  ]
}