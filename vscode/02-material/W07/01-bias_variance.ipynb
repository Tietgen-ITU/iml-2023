{
  "metadata": {
    "kernelspec": {
      "display_name": "Python",
      "language": "python3",
      "name": "python3"
    },
    "language_info": {
      "codemirror_mode": {
        "name": "ipython",
        "version": 3
      },
      "file_extension": "py",
      "mimetype": "text/x-python",
      "name": "python"
    }
  },
  "nbformat": 4,
  "nbformat_minor": 5,
  "cells": [
    {
      "cell_type": "code",
      "id": "css_setup",
      "metadata": {
        "jupyter": {
          "source_hidden": true
        }
      },
      "source": [
        "import requests\n",
        "from IPython.core.display import HTML\n",
        "HTML(f\"\"\"\n",
        "<style>\n",
        "@import \"https://cdn.jsdelivr.net/npm/bulma@0.9.4/css/bulma.min.css\";\n",
        "</style>\n",
        "\"\"\")"
      ],
      "execution_count": 0,
      "outputs": []
    },
    {
      "cell_type": "markdown",
      "id": "M6v5JrNZVDy-AF3cS_Mzx",
      "metadata": {},
      "source": [
        "# Regularisation\n",
        "This exercise assumes that you have read the tutorial about regularisation and cross validation tutorial\n",
        ". You will use regularisation on the basis of the cross validation results to mitigate the effects overfitting.\n",
        "\n",
        "---\n",
        "**Task 1 (easy): Reflection on the tutorial👩‍💻♾️**\n",
        "1. Run the cell in the tutorial implementing the hold-out train-validation split. \n",
        "2. Add a for-loop to rerun the code 20 times and store the $R^2$ results from each iteration. \n",
        "3. Calculate the mean and variance of the $R^2$ scores. Explain the results. \n",
        "4. Go back to the last part of tutorial and train the models with 3rd, 4th, and 5th order polynomials by using 10 fold cross validation. Does this affect the fit of the models? \n",
        "\n",
        "\n",
        "---"
      ]
    },
    {
      "cell_type": "code",
      "id": "sLvS2QL3UsJzVi8O9vl3B",
      "metadata": {},
      "source": [
        "# Add your solution here"
      ],
      "execution_count": 0,
      "outputs": []
    },
    {
      "cell_type": "markdown",
      "id": "xvDf-5mUmw1MbXMfWBPR3",
      "metadata": {},
      "source": [
        "## Overview\n",
        "The following cell imports relevant libraries and sets up the dataset and model using the same configuration as in the tutorial:\n",
        ""
      ]
    },
    {
      "cell_type": "code",
      "id": "ptE_-D8rOhcQTOtQphphv",
      "metadata": {},
      "source": [
        "import numpy as np\n",
        "import matplotlib.pyplot as plt\n",
        "\n",
        "from sklearn.model_selection import KFold, RepeatedKFold, cross_validate\n",
        "from sklearn.linear_model import LinearRegression\n",
        "from sklearn.preprocessing import PolynomialFeatures, Normalizer\n",
        "from sklearn.pipeline import Pipeline\n",
        "from sklearn.datasets import fetch_california_housing\n",
        "from sklearn.linear_model import Ridge # additional import for regularization\n",
        "\n",
        "np.random.seed(99)\n",
        "\n",
        "dataset = fetch_california_housing(as_frame=True)\n",
        "\n",
        "df = dataset.frame # This is the dataframe (a table)\n",
        "\n",
        "X = dataset.data # These are the input features (anything but the house price)\n",
        "y = dataset.target # This contains the output features (just the house price)"
      ],
      "execution_count": 0,
      "outputs": []
    },
    {
      "cell_type": "markdown",
      "id": "9KK_vFn1dARXOMCREVgkR",
      "metadata": {},
      "source": [
        "## Regularization\n",
        "\n",
        "---\n",
        "**Task 2 (easy): Implementing regularization👩‍💻**\n",
        "In the tutorial, it was observed that incorporating the third or higher order polynomial features into a standard linear regression model leads to overfitting. In the following steps you will create a model pipeline similar to the one used in the tutorial using ridge regression.\n",
        "1. Create a third-order polynomial model with ridge regression (use the `Ridge`\n",
        " class imported from Scikit learn).\n",
        "2. Use the `np.geomspace`\n",
        " function to create an array, `regularization_params`\n",
        ", with values exponentially spaced between $10^{-10}$ and $10^2$. These values will be used to vary the regularization parameter. \n",
        "3. Train third-order Ridge regression models, by iterating over the elements in `regularization_params`\n",
        ". \n",
        "4. Store the test scores in an array, as they will be used in the next task.\n",
        "\n",
        "**Note:** Note: the regularization parameter $\\lambda$ in the lectures is called alpha in sckit learn.\n",
        "\n",
        "\n",
        "---"
      ]
    },
    {
      "cell_type": "code",
      "id": "AKYBbIM6nM84aofRSI41s",
      "metadata": {},
      "source": [
        "# Write your solution here"
      ],
      "execution_count": 0,
      "outputs": []
    },
    {
      "cell_type": "markdown",
      "id": "DoHEJ63rTP82MUU486gXh",
      "metadata": {},
      "source": [
        "\n",
        "---\n",
        "**Task 3 (easy): Evaluating models👩‍💻**\n",
        "1. Calculate the mean $R^2$ score for each model (each regularization value) and plot them.\n",
        "\n",
        "**Note:** Hint: It may be difficult to evaluate the small values. Use `plt.xscale('log')`\n",
        " to get evenly spaced points. \n",
        "\n",
        "2. Calculate the standard deviation of the scores for each model and plot them. \n",
        "\n",
        "**Note:** Hint: use logarithmic scales for both the x- and y-axis.\n",
        "\n",
        "3. Based on the generated plots, which regularization parameter value gives the best results and why? Note down your observations and reflections in the text field below as it will be used in the next task.\n",
        "\n",
        "\n",
        "---"
      ]
    },
    {
      "cell_type": "code",
      "id": "vOEvPFx_vTBbe4LIL2V3Y",
      "metadata": {},
      "source": [
        "# Write your solution here"
      ],
      "execution_count": 0,
      "outputs": []
    },
    {
      "cell_type": "markdown",
      "id": "fmGkfmOUW-IDeAYST6xsi",
      "metadata": {},
      "source": [
        "\n",
        "---\n",
        "**Task 4 (medium): Cross validation👩‍💻**\n",
        "This task investigates model generalization using k-fold cross validation.\n",
        "1. Construct a new model, with the same setup as before by using the optimal regularization parameter found in the previous task. \n",
        "2. Train the model using k-fold cross validation. Set the number of folds to 2.\n",
        "3. Vary the number of folds from 2 to 20 and store the mean and the standard deviation of the $R^2$ score for each fold. \n",
        "4. Plot the mean and the standard deviation of the $R^2$  scores.\n",
        "5. (Optional) This task uses the `RepeatedKFold`\n",
        " function to obtain a more robust evaluation of model performance. `RepeatedKFold`\n",
        " repeats k-fold cross-validation 10 times by default. The folds are chosen randomly for each repetition. The runtime can be reduced by decreasing the number of repetitions (`n_repeats`\n",
        " parameter).\n",
        "\n",
        "\n",
        "---"
      ]
    },
    {
      "cell_type": "code",
      "id": "HLNx3fH_um88VdmFmzHH8",
      "metadata": {},
      "source": [
        "# Write your solution here"
      ],
      "execution_count": 0,
      "outputs": []
    },
    {
      "cell_type": "markdown",
      "id": "ZxsZvLY88YDp9Pg10_hho",
      "metadata": {},
      "source": [
        "\n",
        "---\n",
        "**Task 5 (medium): Reflection on results💡**\n",
        "1. Use the plotted mean and variance to argue for model performance. \n",
        "2. List reasons for the variability in model performance? \n",
        "3. Compare the variability in model perfomance observed in the tutorial with the results of the current exercise.\n",
        "4. Argue how the regularized model performs compared to the standard linear regression implemented in the tutorial.     - Print the model parameters and use them to argue for differences between the linear model and the regularized model.\n",
        "\n",
        "\n",
        "\n",
        "\n",
        "---"
      ]
    }
  ]
}