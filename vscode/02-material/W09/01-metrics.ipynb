{
  "cells": [
    {
      "cell_type": "code",
      "execution_count": null,
      "id": "css_setup",
      "metadata": {
        "jupyter": {
          "source_hidden": true
        }
      },
      "outputs": [],
      "source": [
        "import requests\n",
        "from IPython.core.display import HTML\n",
        "HTML(f\"\"\"\n",
        "<style>\n",
        "@import \"https://cdn.jsdelivr.net/npm/bulma@0.9.4/css/bulma.min.css\";\n",
        "</style>\n",
        "\"\"\")"
      ]
    },
    {
      "cell_type": "markdown",
      "id": "4tJbPdQwIrCkogiUc0rFn",
      "metadata": {},
      "source": [
        "# Evaluating Classifiers\n",
        "Throughout these exercises, you will implement and design evaluation metrics for classification models. The metrics used are provided by the scikit-learn library. The default metric for evaluating a classification model is `accuracy`\n",
        ", but Scikit-learn also has a `metrics`\n",
        " module that provides a variety of metrics serving different purposes.\n",
        "The cell below imports the necessary libraries and sets the default parameters.\n",
        "\n",
        "**Info**\n",
        "Your main focus is to evaluate classification models so you don't need to concern yourself with the intricacies of the actual models.\n",
        "\n"
      ]
    },
    {
      "cell_type": "code",
      "execution_count": 1,
      "id": "X1l2U1L2-o5cQ1vnK0E3M",
      "metadata": {},
      "outputs": [],
      "source": [
        "import numpy as np\n",
        "import matplotlib.pyplot as plt\n",
        "import seaborn as sns\n",
        "\n",
        "from sklearn import datasets\n",
        "from sklearn.model_selection import train_test_split, KFold\n",
        "from sklearn.metrics import confusion_matrix, accuracy_score, precision_recall_curve, auc, average_precision_score, roc_curve\n",
        "from sklearn.svm import SVC, LinearSVC\n",
        "from sklearn.dummy import DummyClassifier\n",
        "\n",
        "import warnings\n",
        "warnings.filterwarnings(\"ignore\")"
      ]
    },
    {
      "cell_type": "markdown",
      "id": "V1RbyLZcl4segpgiQzCQO",
      "metadata": {},
      "source": [
        "## Classification Metrics:\n",
        "Run the cell below to generate a classification dataset comprising of 500 samples, 20 features, and 2 distinct classes. This dataset is partitioned using an 80-20 train-test split.\n"
      ]
    },
    {
      "cell_type": "code",
      "execution_count": 2,
      "id": "rezHrexeChKglJYrJ2K0_",
      "metadata": {},
      "outputs": [
        {
          "name": "stdout",
          "output_type": "stream",
          "text": [
            "Dataset Size :  (500, 20) (500,)\n",
            "Train/Test Size :  (400, 20) (100, 20) (400,) (100,)\n"
          ]
        }
      ],
      "source": [
        "X,Y  = datasets.make_classification(n_samples=500, n_features=20, n_classes=2, random_state=1)\n",
        "print('Dataset Size : ',X.shape,Y.shape)\n",
        "\n",
        "X_train, X_test, Y_train, Y_test = train_test_split(X, Y, train_size=0.80, test_size=0.20, stratify=Y, random_state=1)\n",
        "print('Train/Test Size : ', X_train.shape, X_test.shape, Y_train.shape, Y_test.shape)"
      ]
    },
    {
      "cell_type": "markdown",
      "id": "m9oveGY6XblzE4ENLZHSO",
      "metadata": {},
      "source": [
        "### Classification Accuracy\n",
        "In the following task you will evaluate the model's performance on the test data using different metrics. Run the cell below to train the first classification model. \n"
      ]
    },
    {
      "cell_type": "code",
      "execution_count": 3,
      "id": "lqenBtnU5YqoKdPsV0Z52",
      "metadata": {},
      "outputs": [
        {
          "data": {
            "text/html": [
              "<style>#sk-container-id-1 {color: black;}#sk-container-id-1 pre{padding: 0;}#sk-container-id-1 div.sk-toggleable {background-color: white;}#sk-container-id-1 label.sk-toggleable__label {cursor: pointer;display: block;width: 100%;margin-bottom: 0;padding: 0.3em;box-sizing: border-box;text-align: center;}#sk-container-id-1 label.sk-toggleable__label-arrow:before {content: \"▸\";float: left;margin-right: 0.25em;color: #696969;}#sk-container-id-1 label.sk-toggleable__label-arrow:hover:before {color: black;}#sk-container-id-1 div.sk-estimator:hover label.sk-toggleable__label-arrow:before {color: black;}#sk-container-id-1 div.sk-toggleable__content {max-height: 0;max-width: 0;overflow: hidden;text-align: left;background-color: #f0f8ff;}#sk-container-id-1 div.sk-toggleable__content pre {margin: 0.2em;color: black;border-radius: 0.25em;background-color: #f0f8ff;}#sk-container-id-1 input.sk-toggleable__control:checked~div.sk-toggleable__content {max-height: 200px;max-width: 100%;overflow: auto;}#sk-container-id-1 input.sk-toggleable__control:checked~label.sk-toggleable__label-arrow:before {content: \"▾\";}#sk-container-id-1 div.sk-estimator input.sk-toggleable__control:checked~label.sk-toggleable__label {background-color: #d4ebff;}#sk-container-id-1 div.sk-label input.sk-toggleable__control:checked~label.sk-toggleable__label {background-color: #d4ebff;}#sk-container-id-1 input.sk-hidden--visually {border: 0;clip: rect(1px 1px 1px 1px);clip: rect(1px, 1px, 1px, 1px);height: 1px;margin: -1px;overflow: hidden;padding: 0;position: absolute;width: 1px;}#sk-container-id-1 div.sk-estimator {font-family: monospace;background-color: #f0f8ff;border: 1px dotted black;border-radius: 0.25em;box-sizing: border-box;margin-bottom: 0.5em;}#sk-container-id-1 div.sk-estimator:hover {background-color: #d4ebff;}#sk-container-id-1 div.sk-parallel-item::after {content: \"\";width: 100%;border-bottom: 1px solid gray;flex-grow: 1;}#sk-container-id-1 div.sk-label:hover label.sk-toggleable__label {background-color: #d4ebff;}#sk-container-id-1 div.sk-serial::before {content: \"\";position: absolute;border-left: 1px solid gray;box-sizing: border-box;top: 0;bottom: 0;left: 50%;z-index: 0;}#sk-container-id-1 div.sk-serial {display: flex;flex-direction: column;align-items: center;background-color: white;padding-right: 0.2em;padding-left: 0.2em;position: relative;}#sk-container-id-1 div.sk-item {position: relative;z-index: 1;}#sk-container-id-1 div.sk-parallel {display: flex;align-items: stretch;justify-content: center;background-color: white;position: relative;}#sk-container-id-1 div.sk-item::before, #sk-container-id-1 div.sk-parallel-item::before {content: \"\";position: absolute;border-left: 1px solid gray;box-sizing: border-box;top: 0;bottom: 0;left: 50%;z-index: -1;}#sk-container-id-1 div.sk-parallel-item {display: flex;flex-direction: column;z-index: 1;position: relative;background-color: white;}#sk-container-id-1 div.sk-parallel-item:first-child::after {align-self: flex-end;width: 50%;}#sk-container-id-1 div.sk-parallel-item:last-child::after {align-self: flex-start;width: 50%;}#sk-container-id-1 div.sk-parallel-item:only-child::after {width: 0;}#sk-container-id-1 div.sk-dashed-wrapped {border: 1px dashed gray;margin: 0 0.4em 0.5em 0.4em;box-sizing: border-box;padding-bottom: 0.4em;background-color: white;}#sk-container-id-1 div.sk-label label {font-family: monospace;font-weight: bold;display: inline-block;line-height: 1.2em;}#sk-container-id-1 div.sk-label-container {text-align: center;}#sk-container-id-1 div.sk-container {/* jupyter's `normalize.less` sets `[hidden] { display: none; }` but bootstrap.min.css set `[hidden] { display: none !important; }` so we also need the `!important` here to be able to override the default hidden behavior on the sphinx rendered scikit-learn.org. See: https://github.com/scikit-learn/scikit-learn/issues/21755 */display: inline-block !important;position: relative;}#sk-container-id-1 div.sk-text-repr-fallback {display: none;}</style><div id=\"sk-container-id-1\" class=\"sk-top-container\"><div class=\"sk-text-repr-fallback\"><pre>LinearSVC(C=0.1, random_state=1)</pre><b>In a Jupyter environment, please rerun this cell to show the HTML representation or trust the notebook. <br />On GitHub, the HTML representation is unable to render, please try loading this page with nbviewer.org.</b></div><div class=\"sk-container\" hidden><div class=\"sk-item\"><div class=\"sk-estimator sk-toggleable\"><input class=\"sk-toggleable__control sk-hidden--visually\" id=\"sk-estimator-id-1\" type=\"checkbox\" checked><label for=\"sk-estimator-id-1\" class=\"sk-toggleable__label sk-toggleable__label-arrow\">LinearSVC</label><div class=\"sk-toggleable__content\"><pre>LinearSVC(C=0.1, random_state=1)</pre></div></div></div></div></div>"
            ],
            "text/plain": [
              "LinearSVC(C=0.1, random_state=1)"
            ]
          },
          "execution_count": 3,
          "metadata": {},
          "output_type": "execute_result"
        }
      ],
      "source": [
        "classifier1 = LinearSVC(random_state=1, C=0.1)\n",
        "classifier1.fit(X_train, Y_train)"
      ]
    },
    {
      "cell_type": "markdown",
      "id": "5C5BnIABFJ0pk_z0f9QFp",
      "metadata": {},
      "source": [
        "\n",
        "---\n",
        "**Task 1 (easy): Model accuracy👩‍💻**\n",
        "Classification accuracy is the number of true predictions divided by the total number of samples. You can use the `score`\n",
        " function to obtain the accuracy, or you can use the `predict`\n",
        " function on either set and then calculate the average accuracy by comparing the predicted labels to the true labels. Choose one of these methods to: \n",
        "1. Calculate model accuracy on the training set.\n",
        "2. Calculate model accuracy on the testing set.\n",
        "3. Construct and plot a confusion matrix of the model predictions on the testing set. \n",
        "\n",
        "\n",
        "**Info**\n",
        "Recall that the confusion matrix for binary classification problems has the following structure:\n",
        "\n",
        "$$\n",
        "\\begin{array}{cc|c|c|}\n",
        "  & & \\text{Predicted Negative} & \\text{Predicted Positive} \\\\\n",
        "\\hline\n",
        "\\text{Actual Negative} & & TN & FP \\\\\n",
        "\\hline\n",
        "\\text{Actual Positive} & & FN & TP \\\\\n",
        "\\end{array}\n",
        "$$\n",
        "- **TN** - True Negative\n",
        "- **FN** - False Negative \n",
        "- **FP** - False positive\n",
        "- **TP** - True Positive\n",
        "\n",
        "\n",
        "\n",
        "---"
      ]
    },
    {
      "cell_type": "code",
      "execution_count": 51,
      "id": "HG_oiFVhN7_8xsLSQJb2v",
      "metadata": {},
      "outputs": [
        {
          "name": "stdout",
          "output_type": "stream",
          "text": [
            "Training Accuracy:  0.5425\n",
            "Test Accuracy:  0.545\n"
          ]
        },
        {
          "data": {
            "image/png": "[encoded data removed]",
            "text/plain": [
              "<Figure size 640x480 with 1 Axes>"
            ]
          },
          "metadata": {},
          "output_type": "display_data"
        }
      ],
      "source": [
        "# write your code here\n",
        "train_accuracy = classifier1.score(X_train, Y_train)\n",
        "test_accuracy = classifier1.score(X_test, Y_test)\n",
        "\n",
        "print(\"Training Accuracy: \", train_accuracy)\n",
        "print(\"Test Accuracy: \", test_accuracy)\n",
        "\n",
        "def get_conf_matrix(classifier, input, target):\n",
        "    res = classifier.predict(input)\n",
        "\n",
        "    false_pred_res = [0,0]\n",
        "    true_pred_res = [0,0]\n",
        "    for i in range(len(res)):\n",
        "        actual = target[i]\n",
        "        pred = res[i]\n",
        "\n",
        "        if pred:\n",
        "            if actual:\n",
        "                true_pred_res[1] += 1\n",
        "            else:\n",
        "                false_pred_res[1] += 1\n",
        "        else:\n",
        "            if actual:\n",
        "                true_pred_res[0] += 1\n",
        "            else:\n",
        "                false_pred_res[0] += 1\n",
        "    \n",
        "    return np.array([false_pred_res, \n",
        "                     true_pred_res])\n",
        "\n",
        "conf_mat = get_conf_matrix(classifier1, X_test, Y_test)\n",
        "\n",
        "sns.heatmap(conf_mat, annot=True, fmt=\"d\", cmap=\"Blues\", cbar=False)\n",
        "plt.xlabel('Predicted Class')\n",
        "plt.ylabel('Actual Class')\n",
        "plt.show()"
      ]
    },
    {
      "cell_type": "markdown",
      "id": "j8yAFNeGVXo0Zs4QlMY37",
      "metadata": {},
      "source": [
        "### Classification Report\n",
        "The classification report provides a more detailed overview of the model's classification performance. It includes metrics such as precision, recall, f1-score, and specificity.\n",
        "- **Precision** - or positive predictive value, represents how many predictions of the positive class actually belong to that class. \n",
        "\n",
        "$$\n",
        "\\frac{𝑇𝑃}{𝑇𝑃+𝐹𝑃}\n",
        "$$\n",
        "\n",
        "\n",
        "- **Recall** -  also known as sensitivity, true positive rate, or hit rate and assesses whether classifier correctly identifies positive instances out of the total actual postive instances. \n",
        "\n",
        "$$\n",
        "\\frac{𝑇𝑃}{𝑇𝑃+𝐹𝑁} \n",
        "$$\n",
        "\n",
        "\n",
        "- **F1-score** - harmonic mean of precision & recall. \n",
        "\n",
        "$$\n",
        "2∗\\frac{𝑃𝑟𝑒𝑐𝑖𝑠𝑖𝑜𝑛∗𝑟𝑒𝑐𝑎𝑙𝑙}{𝑃𝑟𝑒𝑐𝑖𝑠𝑖𝑜𝑛+𝑟𝑒𝑐𝑎𝑙𝑙} \n",
        "$$\n",
        "\n",
        "\n",
        "- **Specificity** - also known as the True Negative Rate, is the percentage of correctly predicted instances of the negative class \n",
        "\n",
        "$$\n",
        "\\frac{TN}{TN+FP} \n",
        "$$\n",
        "\n",
        "\n",
        "\n",
        "\n",
        "---\n",
        "**Task 2 (easy): Classification report👩‍💻💡**\n",
        "1. Use the confusion matrix from Task 1 to obtain the true positive, false positive, true negative and false negative values. \n",
        "\n",
        "2. Use the obtained values to implement the above formulas and calculate:\n",
        "\n",
        "\n",
        "- Precision\n",
        "- Recall\n",
        "- F1-score\n",
        "- Specificity\n",
        "\n",
        "3. Inspect the metrics and reflect on theier significance, especially when dealing with class imbalance in your dataset. How do these metrics help in understanding and evaluating the performance of a classification model in situations where one class significantly outnumbers the other?\n",
        "\n",
        "\n",
        "---"
      ]
    },
    {
      "cell_type": "code",
      "execution_count": 10,
      "id": "vJo6W8UiMCIYNcD3GyOH1",
      "metadata": {},
      "outputs": [
        {
          "name": "stdout",
          "output_type": "stream",
          "text": [
            "Precision:  0.9387755102040817\n",
            "Recall:  0.92\n",
            "F1-score:  0.9292929292929293\n",
            "Specificity:  0.94\n"
          ]
        }
      ],
      "source": [
        "# Task 1 - Get confusion matrix of the test result\n",
        "def get_metrics(classifier, X, y):\n",
        "    conf_mat = get_conf_matrix(classifier, X, y)\n",
        "\n",
        "    # Task 2 - Calculate the classification report\n",
        "    fp = conf_mat[0, 1] # False positive    - Predicted true, but was actually false\n",
        "    tn = conf_mat[0, 0] # True negative     - Predicted false, which is correct\n",
        "    fn = conf_mat[1, 0] # False negative    - Predicted false, but was actually true\n",
        "    tp = conf_mat[1, 1] # True Positive     - Predicted true, which is correct\n",
        "\n",
        "    precision = tp/(tp+fp)\n",
        "    recall    = tp/(tp+fn)\n",
        "    f1_score  = 2 * ((precision * recall) / (precision + recall))\n",
        "    specificity = tn/(tn+fp)\n",
        "\n",
        "    return precision, recall, f1_score, specificity\n",
        "\n",
        "precision, recall, f1_score, specificity = get_metrics(classifier1, X_test, Y_test)\n",
        "\n",
        "print(\"Precision: \", precision)\n",
        "print(\"Recall: \", recall)\n",
        "print(\"F1-score: \", f1_score)\n",
        "print(\"Specificity: \", specificity)"
      ]
    },
    {
      "cell_type": "markdown",
      "id": "y9A-JTsrhh685mPhz41qh",
      "metadata": {},
      "source": [
        "## Imbalanced classes\n",
        "We will generate a new dataset comprising 1000 samples distributed across 10 classes, but we intentionally create an imbalance. In the cell below, the imbalance is created by marking all samples belonging to the positive class (0) as True, and all the remaining classes as False. As a result, 10% of values belong to the positive class and the remaining 90% to the negative class.\n"
      ]
    },
    {
      "cell_type": "code",
      "execution_count": 11,
      "id": "CnMvAAmy-DSmldhVm4W8X",
      "metadata": {},
      "outputs": [
        {
          "name": "stdout",
          "output_type": "stream",
          "text": [
            "Dataset Size: (1000, 20) (1000,)\n",
            "Imbalance Ratio (Positive/Minority Class): 0.10\n"
          ]
        }
      ],
      "source": [
        "X, Y = datasets.make_classification(n_samples=1000, n_classes=10, n_informative=10)\n",
        "\n",
        "# Mark the minority class as True\n",
        "Y = (Y == 0).astype(int)\n",
        "\n",
        "print('Dataset Size:', X.shape, Y.shape)\n",
        "\n",
        "# Check the imbalance ratio\n",
        "imbalance_ratio_actual = np.mean(Y)\n",
        "print(f'Imbalance Ratio (Positive/Minority Class): {imbalance_ratio_actual:.2f}')"
      ]
    },
    {
      "cell_type": "markdown",
      "id": "-SMpZ75qtkysKUDHPeGp9",
      "metadata": {},
      "source": [
        "\n",
        "---\n",
        "**Task 3 (hard): Class Imbalance👩‍💻💡**\n",
        "Throughout the following task you will implement and evaluate a second classifier on the imbalanced dataset:\n",
        "1. The for loop below performs the data splitting for 5-fold cross-validation. Complete the loop to: \n",
        "\n",
        "- Fit the second classification model on the training folds \n",
        "- Predict the labels on the validation folds\n",
        "- Calculate model accuracy on the validation folds\n",
        "\n",
        "2. Plot the accuracy of the model on each fold. What does the plot tell you about classification performance?\n",
        "3. Extend your loop to obtain the classification report on the testing set (precision, recall, F1-Score, specificity). Print the average of each metric (use `np.nanmean()`\n",
        " as some of these metrics might inlcude NaNs)\n",
        "\n",
        "\n",
        "**Hint**\n",
        "First construct the confusion matrix.\n",
        "\n",
        "4. Is the model able to reliably identify the minority class? What are the implications for the model's performance and its practical utility?\n",
        "5. (Optional) Plot all the metrics in the same plot. \n",
        "\n",
        "\n",
        "---\n",
        "\n",
        "**Anwers**\n",
        "4. No the model is not able to reliably indentify the minority class. (I am not sure about the last part yet)"
      ]
    },
    {
      "cell_type": "code",
      "execution_count": 67,
      "id": "Rr1nsLOGluG3-Fmq2UGc7",
      "metadata": {},
      "outputs": [
        {
          "data": {
            "image/png": "[encoded data removed]",
            "text/plain": [
              "<Figure size 640x480 with 1 Axes>"
            ]
          },
          "metadata": {},
          "output_type": "display_data"
        },
        {
          "name": "stdout",
          "output_type": "stream",
          "text": [
            "Mean Accuracy:  0.9030000000000001\n",
            "Mean Precision:  1.0\n",
            "Mean Recall:  0.009523809523809523\n",
            "Mean F1-score:  0.0909090909090909\n",
            "Mean Specificity:  1.0\n"
          ]
        },
        {
          "data": {
            "text/plain": [
              "<matplotlib.legend.Legend at 0x15e1d5910>"
            ]
          },
          "execution_count": 67,
          "metadata": {},
          "output_type": "execute_result"
        },
        {
          "data": {
            "image/png": "[encoded data removed]",
            "text/plain": [
              "<Figure size 640x480 with 1 Axes>"
            ]
          },
          "metadata": {},
          "output_type": "display_data"
        }
      ],
      "source": [
        "classifier2 = SVC()\n",
        "\n",
        "accuracies= []\n",
        "accuracies, precisions, recalls, f1_scores, specificities = [], [], [], [], []\n",
        "\n",
        "for train_idx_svc, test_idx_svc in KFold(n_splits=5, shuffle=True).split(X):\n",
        "    X_train, X_test = X[train_idx_svc], X[test_idx_svc]\n",
        "    Y_train, Y_test = Y[train_idx_svc], Y[test_idx_svc]\n",
        "\n",
        "    # Task 1\n",
        "    classifier2.fit(X_train, Y_train)\n",
        "    acc = classifier2.score(X_test, Y_test)\n",
        "    prec, rec, f1, spec = get_metrics(classifier2, X_test, Y_test)\n",
        "\n",
        "    accuracies.append(acc)\n",
        "    precisions.append(prec)\n",
        "    recalls.append(rec)\n",
        "    f1_scores.append(f1)\n",
        "    specificities.append(spec)\n",
        "\n",
        "n_folds = [i for i in range(1, 6)]\n",
        "plt.plot(n_folds, accuracies)\n",
        "plt.title(\"Accuracy of each fold\")\n",
        "plt.xlabel(\"The x'th fold used for testing/training\")\n",
        "plt.ylabel(\"Accuracy\")\n",
        "plt.show()\n",
        "\n",
        "print(\"Mean Accuracy: \", np.nanmean(accuracies))\n",
        "print(\"Mean Precision: \", np.nanmean(precisions))\n",
        "print(\"Mean Recall: \", np.nanmean(recalls))\n",
        "print(\"Mean F1-score: \", np.nanmean(f1_scores))\n",
        "print(\"Mean Specificity: \", np.nanmean(specificities))\n",
        "\n",
        "fig, ax = plt.subplots()\n",
        "ax.plot(n_folds, np.nan_to_num(accuracies), label=\"Accuracy\")\n",
        "ax.plot(n_folds, np.nan_to_num(precisions), label=\"Precision\")\n",
        "ax.plot(n_folds, np.nan_to_num(recalls), label=\"Recalls\")\n",
        "ax.plot(n_folds, np.nan_to_num(f1_scores), label=\"F1 Score\")\n",
        "ax.plot(n_folds, np.nan_to_num(specificities), label=\"Specificity\")\n",
        "ax.legend()\n"
      ]
    },
    {
      "cell_type": "markdown",
      "id": "YQ-5LUTISl5W-_jsWhW5z",
      "metadata": {},
      "source": [
        "## ROC Curves and Precision-Recall Curves\n",
        "The ROC (Receiver Operating Characteristic) Curve is a valuable tool for assessing model performance, particularly in binary classification tasks. The Precision-Recall Curve is a graphical representation used to evaluate the performance of a classification model, particularly in situations involving class imbalance or when the positive class is of greater interest. \n",
        "In the following task you will examine the ROC curve and the Precision-Recall curve for the second classifier, which you previously trained on the imbalanced dataset. \n",
        "\n",
        "---\n",
        "**Task 4 (medium): ROC and Precision-Recall curves👩‍💻💡**\n",
        "Run the cell below to ensure that the appropriate proportions of the imbalanced dataset are allocated to the training and testing sets, respectively. The provided code also calculates both the ROC (Receiver Operating Characteristic) curve and the Precision-Recall curve and computes relevant metrics. These metrics include: `fpr`\n",
        " (False Positive Rate), `tpr`\n",
        " (True Positive Rate, also known as `recall`\n",
        "), and `precision`\n",
        ".\n",
        "Complete the code to:\n",
        "1. Plot the ROC curve.\n",
        "2. Plot the Precision-Recall curve.\n",
        "3. How do these scores provide insights into a model's ability to handle class imbalance? \n",
        "4. Describe when and why you would prioritize one curve over the other when dealing with imbalanced data.\n",
        "\n",
        "\n",
        "---"
      ]
    },
    {
      "cell_type": "code",
      "execution_count": null,
      "id": "KAcAvb6EQ5nk9-B_yiAgN",
      "metadata": {},
      "outputs": [],
      "source": [
        "X_train, X_test = X[train_idx_svc], X[test_idx_svc]\n",
        "Y_train, Y_test = Y[train_idx_svc], Y[test_idx_svc]\n",
        "\n",
        "# ROC curve\n",
        "decision_function = classifier2.decision_function(X_test)\n",
        "fpr, tpr, _ = roc_curve(Y_test, decision_function)\n",
        "roc_auc = auc(fpr, tpr)\n",
        "\n",
        "# Calculate Precision-Recall curve\n",
        "precision, recall, _ = precision_recall_curve(Y_test, decision_function)\n",
        "pr_auc = average_precision_score(Y_test, decision_function)\n",
        "\n",
        "# write your solution here"
      ]
    },
    {
      "cell_type": "markdown",
      "id": "LaYZGJ2qK4sGOF0ZcQCTL",
      "metadata": {},
      "source": []
    }
  ],
  "metadata": {
    "kernelspec": {
      "display_name": "Python",
      "language": "python3",
      "name": "python3"
    },
    "language_info": {
      "codemirror_mode": {
        "name": "ipython",
        "version": 3
      },
      "file_extension": ".py",
      "mimetype": "text/x-python",
      "name": "python",
      "nbconvert_exporter": "python",
      "pygments_lexer": "ipython3",
      "version": "3.11.4"
    }
  },
  "nbformat": 4,
  "nbformat_minor": 5
}
