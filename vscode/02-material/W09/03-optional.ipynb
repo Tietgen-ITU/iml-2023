{
  "metadata": {
    "kernelspec": {
      "display_name": "Python",
      "language": "python3",
      "name": "python3"
    },
    "language_info": {
      "codemirror_mode": {
        "name": "ipython",
        "version": 3
      },
      "file_extension": "py",
      "mimetype": "text/x-python",
      "name": "python"
    }
  },
  "nbformat": 4,
  "nbformat_minor": 5,
  "cells": [
    {
      "cell_type": "code",
      "id": "css_setup",
      "metadata": {
        "jupyter": {
          "source_hidden": true
        }
      },
      "source": [
        "import requests\n",
        "from IPython.core.display import HTML\n",
        "HTML(f\"\"\"\n",
        "<style>\n",
        "@import \"https://cdn.jsdelivr.net/npm/bulma@0.9.4/css/bulma.min.css\";\n",
        "</style>\n",
        "\"\"\")"
      ],
      "execution_count": 0,
      "outputs": []
    },
    {
      "cell_type": "markdown",
      "id": "8TB-I-FXhhmxaQLSG6dYV",
      "metadata": {},
      "source": [
        "# Optional Exercises\n",
        "The optional tasks introduce additional classification metrics.\n",
        ""
      ]
    },
    {
      "cell_type": "code",
      "id": "-5_eFil1Xe-Wm4RJSZSJy",
      "metadata": {},
      "source": [
        "import numpy as np\n",
        "import matplotlib.pyplot as plt\n",
        "import seaborn as sns\n",
        "\n",
        "from sklearn import datasets\n",
        "from sklearn.model_selection import train_test_split, KFold\n",
        "from sklearn.metrics import confusion_matrix, accuracy_score, precision_recall_curve, auc, average_precision_score, roc_curve\n",
        "from sklearn.svm import SVC, LinearSVC\n",
        "from sklearn.dummy import DummyClassifier\n",
        "\n",
        "import warnings\n",
        "warnings.filterwarnings(\"ignore\")"
      ],
      "execution_count": 0,
      "outputs": []
    },
    {
      "cell_type": "markdown",
      "id": "Y7bnxDbe_OziQrEtFkrc0",
      "metadata": {},
      "source": [
        "## Matthews Correlation Coefficient\n",
        "Only attempt the optional task once you have completed all of the previous exercises.\n",
        "\n",
        "---\n",
        "**Task 1 (medium): Matthews Correlation Coefficient (optional)👩‍💻**\n",
        "In the current task, you will implement a third classifier. When presented with new data, this classifier makes predictions based on the most frequently observed class in the dataset. \n",
        "1. Reuse your code from task 3 of the Evaluating Classifiers exercise and implement five-fold cross validation to train the dummy classifier on the unbalanced dataset.\n",
        "\n",
        "2. Plot the accuracy of the model on the validation folds. Compare the accuracy of the third classifier to the the accuracy of the second one.\n",
        "\n",
        "3. Extend your plot to show the classification report metrics (Precision, Recall, F1-score, Specificity). What do these metrics tell you about model perofmance on the minority class?\n",
        "\n",
        "4. Following the given formula, implement the function `mcc`\n",
        " to calculate the Matthews Correlation Coefficient (MCC) both for the third and second classifiers\n",
        "\n",
        "\n",
        "\n",
        "$$ MCC=\\frac{TP \\times TN-FP \\times FN}{\\sqrt{(TP+FP)(TP+FN)(TN+FP)(TN+FN)}}$$\n",
        "5. How does the MCC help you assess the performance of the models, especially regarding their ability to handle class imbalance? \n",
        "\n",
        "\n",
        "---"
      ]
    },
    {
      "cell_type": "code",
      "id": "FveHJo2U0l7htlYJhQu_q",
      "metadata": {},
      "source": [
        "classifier3 = DummyClassifier(strategy=\"most_frequent\")\n",
        "\n",
        "X, Y = datasets.make_classification(n_samples=1000, n_classes=10, n_informative=10)\n",
        "\n",
        "# Mark the minority class as True\n",
        "Y = (Y == 0).astype(int)\n",
        "\n",
        "def mcc(y_true,y_pred):\n",
        "    ...\n",
        "\n",
        "# write your solution here"
      ],
      "execution_count": 0,
      "outputs": []
    },
    {
      "cell_type": "markdown",
      "id": "o3Obt9EcDtnQ_OpU4JHiX",
      "metadata": {},
      "source": [
        ""
      ]
    }
  ]
}