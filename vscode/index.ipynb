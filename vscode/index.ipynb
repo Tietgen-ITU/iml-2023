{
  "metadata": {
    "kernelspec": {
      "display_name": "Python",
      "language": "python3",
      "name": "python3"
    },
    "language_info": {
      "codemirror_mode": {
        "name": "ipython",
        "version": 3
      },
      "file_extension": "py",
      "mimetype": "text/x-python",
      "name": "python"
    }
  },
  "nbformat": 4,
  "nbformat_minor": 5,
  "cells": [
    {
      "cell_type": "code",
      "metadata": {
        "collapsed": null,
        "autoscroll": null,
        "deletable": null,
        "jupyter": {
          "outputs_hidden": null,
          "source_hidden": true
        },
        "format": null,
        "name": null,
        "tags": null
      },
      "source": [
        "import requests\n",
        "from IPython.core.display import HTML\n",
        "HTML(f\"\"\"\n",
        "<style>\n",
        "@import \"https://cdn.jsdelivr.net/npm/bulma@0.9.4/css/bulma.min.css\";\n",
        "</style>\n",
        "\"\"\")"
      ],
      "execution_count": null,
      "outputs": []
    },
    {
      "cell_type": "markdown",
      "metadata": {
        "collapsed": null,
        "autoscroll": null,
        "deletable": null,
        "jupyter": null,
        "format": null,
        "name": null,
        "tags": null
      },
      "source": [
        "# Welcome to the IML content page\n",
        "This is the companion webpage for the ITU course “Introduction to Machine Learning, Autumn 2023” and contains everything \n",
        "related to assignments and exercises as well as parts of the course material. This site is a companion to the \n",
        "[LearnIT page](https://learnit.itu.dk/course/view.php?id=3021103)\n",
        ", which should \n",
        "be your main reference for checking up on lectures and information about the course.\n",
        "The site is divided into the following sections:\n",
        "- **Overview** contains practical information on how to use this website as well as helpful material on how to use \n",
        "Python and Jupyter Notebooks.\n",
        "- **Exercises** contains weekly exercises and assignments.\n",
        "- **Tutorials** contains companion tutorials for some of the lectures.\n",
        "\n",
        "<h2 style=\"color: red;\">Do this first!!</h2>\n",
        "While the website is useful for getting an overview of the course materials, most of the exercise- and tutorial-material are \n",
        "provided as Jupyter Notebooks which you have to change as part of the exercises.\n",
        "Please read the Overview/Important Information\n",
        " page for detailed instructions on how to set \n",
        "everything up and how to use the website.\n",
        ""
      ]
    }
  ]
}